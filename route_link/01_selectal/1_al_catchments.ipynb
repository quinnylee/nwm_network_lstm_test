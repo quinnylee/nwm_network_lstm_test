{
 "cells": [
  {
   "cell_type": "markdown",
   "metadata": {},
   "source": [
    "Saves routelink objects from AL (or any state really) to a NetCDF on disk"
   ]
  },
  {
   "cell_type": "code",
   "execution_count": null,
   "metadata": {},
   "outputs": [],
   "source": [
    "# Import packages\n",
    "import fsspec\n",
    "import xarray as xr\n",
    "from kerchunk.hdf import SingleHdf5ToZarr\n",
    "import rioxarray as rx \n",
    "import geopandas as gpd"
   ]
  },
  {
   "cell_type": "code",
   "execution_count": null,
   "metadata": {},
   "outputs": [],
   "source": [
    "# Load RouteLink_CONUS.nc. You can change the file path to Alaska, Hawaii, \n",
    "# Puerto Rico if you like.\n",
    "\n",
    "fs = fsspec.filesystem(\"http\")\n",
    "\n",
    "rl_nwm_url = \"https://www.nco.ncep.noaa.gov/pmb/codes/nwprod/nwm.v3.0.13/parm/\"\\\n",
    "    \"domain/RouteLink_CONUS.nc\"\n",
    "with fs.open(rl_nwm_url) as f:\n",
    "    rl_t = SingleHdf5ToZarr(f, rl_nwm_url, inline_threshold=0).translate()\n",
    "\n",
    "    # Key example here:\n",
    "    # https://fsspec.github.io/kerchunk/test_example.html\n",
    "\n",
    "backend_args = {\n",
    "    \"consolidated\": False,\n",
    "    \"storage_options\": {\n",
    "        \"fo\": rl_t,\n",
    "        # Adding these options returns a properly dimensioned but otherwise null \n",
    "        # dataframe\n",
    "        # \"remote_protocol\": \"https\",\n",
    "        # \"remote_options\": {'anon':True}\n",
    "    },\n",
    "}\n",
    "ds = xr.open_dataset(\"reference://\", engine=\"zarr\", backend_kwargs=backend_args)\n"
   ]
  },
  {
   "cell_type": "code",
   "execution_count": null,
   "metadata": {},
   "outputs": [],
   "source": [
    "# Load in shapefile of state boundaries\n",
    "path = \"../tl_2024_us_state/tl_2024_us_state.shp\"\n",
    "states = gpd.read_file(path)"
   ]
  },
  {
   "cell_type": "code",
   "execution_count": null,
   "metadata": {},
   "outputs": [],
   "source": [
    "# Get a coordinate for every basin in RouteLink file\n",
    "x_flat = ds.lon.values.ravel()\n",
    "y_flat = ds.lat.values.ravel()\n",
    "\n",
    "xy_point_array = gpd.GeoDataFrame(\n",
    "    geometry=gpd.points_from_xy(x_flat, y_flat, crs=\"EPSG:4269\")\n",
    ")"
   ]
  },
  {
   "cell_type": "code",
   "execution_count": null,
   "metadata": {},
   "outputs": [],
   "source": [
    "# Spatial join - each basin in ds gets a new column indicating which state it is\n",
    "# in\n",
    "states_by_point = xy_point_array.sjoin(states)"
   ]
  },
  {
   "cell_type": "code",
   "execution_count": null,
   "metadata": {},
   "outputs": [
    {
     "name": "stderr",
     "output_type": "stream",
     "text": [
      "/tmp/ipykernel_309657/2654754937.py:1: UserWarning: Column names longer than 10 characters will be truncated when saved to ESRI Shapefile.\n",
      "  states_by_point.to_file('routelink_by_state.shp')\n",
      "/home/qylee/nwm_network_lstm_test/.venv/lib/python3.12/site-packages/pyogrio/raw.py:723: RuntimeWarning: Normalized/laundered field name: 'index_right' to 'index_righ'\n",
      "  ogr_write(\n",
      "/home/qylee/nwm_network_lstm_test/.venv/lib/python3.12/site-packages/pyogrio/raw.py:723: RuntimeWarning: 2GB file size limit reached for routelink_by_state.dbf. Going on, but might cause compatibility issues with third party software\n",
      "  ogr_write(\n"
     ]
    }
   ],
   "source": [
    "# Save spatial join to disk.\n",
    "states_by_point.to_file('routelink_by_state.shp')"
   ]
  },
  {
   "cell_type": "code",
   "execution_count": null,
   "metadata": {},
   "outputs": [],
   "source": [
    "# Create list of states in the order that reaches are listed in ds.\n",
    "states = []\n",
    "\n",
    "for i in range(ds.lat.shape[0]):\n",
    "    try:\n",
    "        states.append(states_by_point['NAME'][i])\n",
    "    except:\n",
    "        states.append('NA')"
   ]
  },
  {
   "cell_type": "code",
   "execution_count": null,
   "metadata": {},
   "outputs": [],
   "source": [
    "# Add the corresponding state to each reach in ds as a coordinate\n",
    "# Honestly, it probably should have been a variable. If someone wants to change\n",
    "# that, that'd be cool.\n",
    "ds.coords['State'] = xr.DataArray(states, \n",
    "                                  coords={'feature_id': ds['feature_id']}, \n",
    "                                  dims=('feature_id',))"
   ]
  },
  {
   "cell_type": "code",
   "execution_count": null,
   "metadata": {},
   "outputs": [],
   "source": [
    "# Drop all basins that aren't located in Alabama\n",
    "al_cats = ds.where(ds['State'] == 'Alabama', drop=True)"
   ]
  },
  {
   "cell_type": "code",
   "execution_count": null,
   "metadata": {},
   "outputs": [],
   "source": [
    "# Save Alabama basins and their geometries to disk as a NetCDF file\n",
    "al_cats.to_netcdf('al_routelink.nc')"
   ]
  }
 ],
 "metadata": {
  "kernelspec": {
   "display_name": ".venv",
   "language": "python",
   "name": "python3"
  },
  "language_info": {
   "codemirror_mode": {
    "name": "ipython",
    "version": 3
   },
   "file_extension": ".py",
   "mimetype": "text/x-python",
   "name": "python",
   "nbconvert_exporter": "python",
   "pygments_lexer": "ipython3",
   "version": "3.12.3"
  }
 },
 "nbformat": 4,
 "nbformat_minor": 2
}
