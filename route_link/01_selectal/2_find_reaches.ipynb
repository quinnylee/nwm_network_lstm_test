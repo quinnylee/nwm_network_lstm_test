{
 "cells": [
  {
   "cell_type": "code",
   "execution_count": null,
   "metadata": {},
   "outputs": [],
   "source": [
    "# Import packages\n",
    "import nhd_network\n",
    "import xarray as xr\n",
    "from functools import partial\n",
    "import json\n",
    "import matplotlib.pyplot as plt\n",
    "import pandas as pd\n",
    "from typing import Tuple"
   ]
  },
  {
   "cell_type": "code",
   "execution_count": null,
   "metadata": {},
   "outputs": [],
   "source": [
    "# Set path to state-specific RouteLink file\n",
    "path = \"al_routelink.nc\"\n",
    "ds = xr.open_dataset(path)"
   ]
  },
  {
   "cell_type": "code",
   "execution_count": null,
   "metadata": {},
   "outputs": [],
   "source": [
    "# Subset dataset to useful information\n",
    "subslice = [\n",
    "    \"link\",\n",
    "    \"to\",\n",
    "    \"gages\",\n",
    "]\n",
    "df = ds[subslice].to_dataframe().astype({\"link\": int, \"to\": int,})\n",
    "df = df.set_index(\"link\")"
   ]
  },
  {
   "cell_type": "code",
   "execution_count": null,
   "metadata": {},
   "outputs": [],
   "source": [
    "def replace_downstreams(data: pd.DataFrame, \n",
    "                        downstream_col: str, \n",
    "                        terminal_code: int) -> pd.DataFrame:\n",
    "    '''\n",
    "    Replace terminal basin (e.g. ocean, lake, reservoir) identifier with \n",
    "    (-1) * [identifier of basin directly upstream of terminal].\n",
    "\n",
    "    Parameters\n",
    "    ----------\n",
    "    data : pd.DataFrame\n",
    "        RouteLink file in DataFrame format. Each row represents properties of a \n",
    "        specific basin.\n",
    "    downstream_col : str\n",
    "        Name of column identifying what basin is directly downstream.\n",
    "    terminal_code : int\n",
    "        Code by which a terminal basin is identified.\n",
    "\n",
    "    Returns\n",
    "    -------\n",
    "    pd.DataFrame\n",
    "        Copy of data, but with original terminal code replaced by \n",
    "        (-1) * [identifier of basin directly upstream of terminal].\n",
    "    '''\n",
    "    ds0_mask = data[downstream_col] == terminal_code\n",
    "    new_data = data.copy()\n",
    "    new_data.loc[ds0_mask, downstream_col] = ds0_mask.index[ds0_mask]\n",
    "\n",
    "    # Also set negative any nodes in downstream col not in data.index\n",
    "    new_data.loc[~data[downstream_col].isin(data.index), downstream_col] *= -1\n",
    "    return new_data\n",
    "\n",
    "\n",
    "def organize_independent_networks(connections: dict) -> Tuple[dict, dict, dict]:\n",
    "    ''' \n",
    "    Extract upstream/downstream connections from RouteLink file.\n",
    "\n",
    "    Parameters\n",
    "    ----------\n",
    "    connections : dict\n",
    "        Dictionary in the form \n",
    "        {segment id: [list of downstream adjacent segment ids]} \n",
    "\n",
    "    Returns\n",
    "    -------\n",
    "    dict \n",
    "        Dictionary in the form\n",
    "        {segment id: [list of upstream adjacent segment ids]}\n",
    "    '''\n",
    "    rconn = nhd_network.reverse_network(connections)\n",
    "\n",
    "    return rconn"
   ]
  },
  {
   "cell_type": "code",
   "execution_count": null,
   "metadata": {},
   "outputs": [],
   "source": [
    "# Replace terminal identifiers\n",
    "df = df.sort_index()\n",
    "df = replace_downstreams(df, \"to\", 0)\n",
    "\n",
    "# Get upstream/downstream connections\n",
    "connections = nhd_network.extract_connections(df, \"to\")\n",
    "rconn = organize_independent_networks(connections)"
   ]
  },
  {
   "cell_type": "code",
   "execution_count": null,
   "metadata": {},
   "outputs": [],
   "source": [
    "def traverse(rconn: dict, root: int, num_upstreams: int) -> None:\n",
    "    '''  \n",
    "    Recursively traverse a network of connected basins to return the total \n",
    "    number of upstream basins connected to any given basin. These upstreams can \n",
    "    be directly or indirectly connected to the given basin. Note: this function\n",
    "    only works for relatively small areas (e.g. a state) and fails when run over\n",
    "    all of CONUS due to recursion depth limits.\n",
    "\n",
    "    Parameters\n",
    "    ----------\n",
    "    rconn : dict\n",
    "        Dictionary in the form\n",
    "        {segment id: [list of upstream adjacent segment ids]}\n",
    "    root : int\n",
    "        ID of desired basin\n",
    "    num_upstreams : dict\n",
    "        Keys are basin IDs in the whole network. Values are the number of\n",
    "        upstream basins counted for the corresponding basin ID. This dictionary\n",
    "        is continually updated as this function recursively runs.\n",
    "    '''\n",
    "    num_upstreams[root] += len(rconn[root])\n",
    "    for child in rconn[root]:\n",
    "        traverse(rconn, child, num_upstreams)\n",
    "        num_upstreams[root] += num_upstreams[child]"
   ]
  },
  {
   "cell_type": "code",
   "execution_count": null,
   "metadata": {},
   "outputs": [],
   "source": [
    "# Count number of upstreams for every terminal basin\n",
    "tailwaters = [x for x in list(rconn.keys()) if x < 0]\n",
    "num_upstreams = {key: 0 for key in list(rconn.keys())}\n",
    "for root in tailwaters:\n",
    "    traverse(rconn, root, num_upstreams)"
   ]
  },
  {
   "cell_type": "code",
   "execution_count": null,
   "metadata": {},
   "outputs": [
    {
     "data": {
      "image/png": "[encoded data removed]",
      "text/plain": [
       "<Figure size 640x480 with 1 Axes>"
      ]
     },
     "metadata": {},
     "output_type": "display_data"
    }
   ],
   "source": [
    "# Plot distribution of number of upstreams per basin\n",
    "vals = list(num_upstreams.values())\n",
    "plt.hist(vals)\n",
    "plt.show()"
   ]
  },
  {
   "cell_type": "code",
   "execution_count": null,
   "metadata": {},
   "outputs": [],
   "source": [
    "# Select the basins with no upstreams (aka headwaters)\n",
    "headwaters = [x for x in list(num_upstreams.keys()) \n",
    "              if num_upstreams[x] == 0]\n",
    "# Select basin pairs from list of headwaters so that 1) upstream basins are all \n",
    "# headwaters and 2) downstream basins have one and only one upstream basin.\n",
    "zero_one_pairs = {headwater: connections[headwater][0] \n",
    "                  for headwater in headwaters\n",
    "                  if num_upstreams[connections[headwater][0]] == 1}"
   ]
  },
  {
   "cell_type": "code",
   "execution_count": null,
   "metadata": {},
   "outputs": [],
   "source": [
    "# Save selected basin pairs to disk\n",
    "with open('al_pairs.txt', 'w') as file:\n",
    "    file.write(json.dumps(zero_one_pairs))"
   ]
  }
 ],
 "metadata": {
  "kernelspec": {
   "display_name": ".venv",
   "language": "python",
   "name": "python3"
  },
  "language_info": {
   "codemirror_mode": {
    "name": "ipython",
    "version": 3
   },
   "file_extension": ".py",
   "mimetype": "text/x-python",
   "name": "python",
   "nbconvert_exporter": "python",
   "pygments_lexer": "ipython3",
   "version": "3.12.3"
  }
 },
 "nbformat": 4,
 "nbformat_minor": 2
}
