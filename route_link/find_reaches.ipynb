{
 "cells": [
  {
   "cell_type": "code",
   "execution_count": 5,
   "metadata": {},
   "outputs": [],
   "source": [
    "import nhd_network\n",
    "import xarray as xr\n",
    "from functools import partial"
   ]
  },
  {
   "cell_type": "code",
   "execution_count": 2,
   "metadata": {},
   "outputs": [],
   "source": [
    "path = \"al_routelink.nc\"\n",
    "ds = xr.open_dataset(path)"
   ]
  },
  {
   "cell_type": "code",
   "execution_count": 3,
   "metadata": {},
   "outputs": [],
   "source": [
    "subslice = [\n",
    "    \"link\",\n",
    "    \"to\",\n",
    "    \"gages\",\n",
    "]\n",
    "df = ds[subslice].to_dataframe().astype({\"link\": int, \"to\": int,})"
   ]
  },
  {
   "cell_type": "code",
   "execution_count": 4,
   "metadata": {},
   "outputs": [
    {
     "data": {
      "text/html": [
       "<div>\n",
       "<style scoped>\n",
       "    .dataframe tbody tr th:only-of-type {\n",
       "        vertical-align: middle;\n",
       "    }\n",
       "\n",
       "    .dataframe tbody tr th {\n",
       "        vertical-align: top;\n",
       "    }\n",
       "\n",
       "    .dataframe thead th {\n",
       "        text-align: right;\n",
       "    }\n",
       "</style>\n",
       "<table border=\"1\" class=\"dataframe\">\n",
       "  <thead>\n",
       "    <tr style=\"text-align: right;\">\n",
       "      <th></th>\n",
       "      <th>to</th>\n",
       "      <th>gages</th>\n",
       "      <th>lat</th>\n",
       "      <th>lon</th>\n",
       "      <th>State</th>\n",
       "    </tr>\n",
       "    <tr>\n",
       "      <th>link</th>\n",
       "      <th></th>\n",
       "      <th></th>\n",
       "      <th></th>\n",
       "      <th></th>\n",
       "      <th></th>\n",
       "    </tr>\n",
       "  </thead>\n",
       "  <tbody>\n",
       "    <tr>\n",
       "      <th>19566408</th>\n",
       "      <td>19566406</td>\n",
       "      <td>b'               '</td>\n",
       "      <td>34.745842</td>\n",
       "      <td>-87.973145</td>\n",
       "      <td>Alabama</td>\n",
       "    </tr>\n",
       "    <tr>\n",
       "      <th>19566410</th>\n",
       "      <td>19566412</td>\n",
       "      <td>b'               '</td>\n",
       "      <td>34.719414</td>\n",
       "      <td>-87.975365</td>\n",
       "      <td>Alabama</td>\n",
       "    </tr>\n",
       "    <tr>\n",
       "      <th>19566416</th>\n",
       "      <td>936030090</td>\n",
       "      <td>b'               '</td>\n",
       "      <td>34.715527</td>\n",
       "      <td>-87.999626</td>\n",
       "      <td>Alabama</td>\n",
       "    </tr>\n",
       "    <tr>\n",
       "      <th>19566418</th>\n",
       "      <td>19566412</td>\n",
       "      <td>b'               '</td>\n",
       "      <td>34.715916</td>\n",
       "      <td>-87.974808</td>\n",
       "      <td>Alabama</td>\n",
       "    </tr>\n",
       "    <tr>\n",
       "      <th>19566422</th>\n",
       "      <td>19566404</td>\n",
       "      <td>b'               '</td>\n",
       "      <td>34.725525</td>\n",
       "      <td>-87.959076</td>\n",
       "      <td>Alabama</td>\n",
       "    </tr>\n",
       "    <tr>\n",
       "      <th>...</th>\n",
       "      <td>...</td>\n",
       "      <td>...</td>\n",
       "      <td>...</td>\n",
       "      <td>...</td>\n",
       "      <td>...</td>\n",
       "    </tr>\n",
       "    <tr>\n",
       "      <th>18516130</th>\n",
       "      <td>0</td>\n",
       "      <td>b'               '</td>\n",
       "      <td>30.409370</td>\n",
       "      <td>-87.863617</td>\n",
       "      <td>Alabama</td>\n",
       "    </tr>\n",
       "    <tr>\n",
       "      <th>18516132</th>\n",
       "      <td>0</td>\n",
       "      <td>b'               '</td>\n",
       "      <td>30.389450</td>\n",
       "      <td>-87.855713</td>\n",
       "      <td>Alabama</td>\n",
       "    </tr>\n",
       "    <tr>\n",
       "      <th>18516148</th>\n",
       "      <td>0</td>\n",
       "      <td>b'               '</td>\n",
       "      <td>30.247742</td>\n",
       "      <td>-87.937485</td>\n",
       "      <td>Alabama</td>\n",
       "    </tr>\n",
       "    <tr>\n",
       "      <th>18516150</th>\n",
       "      <td>0</td>\n",
       "      <td>b'               '</td>\n",
       "      <td>30.250677</td>\n",
       "      <td>-87.934319</td>\n",
       "      <td>Alabama</td>\n",
       "    </tr>\n",
       "    <tr>\n",
       "      <th>18516210</th>\n",
       "      <td>0</td>\n",
       "      <td>b'               '</td>\n",
       "      <td>30.280378</td>\n",
       "      <td>-87.743744</td>\n",
       "      <td>Alabama</td>\n",
       "    </tr>\n",
       "  </tbody>\n",
       "</table>\n",
       "<p>77684 rows × 5 columns</p>\n",
       "</div>"
      ],
      "text/plain": [
       "                 to               gages        lat        lon    State\n",
       "link                                                                  \n",
       "19566408   19566406  b'               '  34.745842 -87.973145  Alabama\n",
       "19566410   19566412  b'               '  34.719414 -87.975365  Alabama\n",
       "19566416  936030090  b'               '  34.715527 -87.999626  Alabama\n",
       "19566418   19566412  b'               '  34.715916 -87.974808  Alabama\n",
       "19566422   19566404  b'               '  34.725525 -87.959076  Alabama\n",
       "...             ...                 ...        ...        ...      ...\n",
       "18516130          0  b'               '  30.409370 -87.863617  Alabama\n",
       "18516132          0  b'               '  30.389450 -87.855713  Alabama\n",
       "18516148          0  b'               '  30.247742 -87.937485  Alabama\n",
       "18516150          0  b'               '  30.250677 -87.934319  Alabama\n",
       "18516210          0  b'               '  30.280378 -87.743744  Alabama\n",
       "\n",
       "[77684 rows x 5 columns]"
      ]
     },
     "execution_count": 4,
     "metadata": {},
     "output_type": "execute_result"
    }
   ],
   "source": [
    "df = df.set_index(\"link\")\n",
    "df"
   ]
  },
  {
   "cell_type": "code",
   "execution_count": 6,
   "metadata": {},
   "outputs": [],
   "source": [
    "def replace_downstreams(data, downstream_col, terminal_code):\n",
    "    ds0_mask = data[downstream_col] == terminal_code\n",
    "    new_data = data.copy()\n",
    "    new_data.loc[ds0_mask, downstream_col] = ds0_mask.index[ds0_mask]\n",
    "\n",
    "    # Also set negative any nodes in downstream col not in data.index\n",
    "    new_data.loc[~data[downstream_col].isin(data.index), downstream_col] *= -1\n",
    "    return new_data\n",
    "\n",
    "\n",
    "def organize_independent_networks(connections):\n",
    "    rconn = nhd_network.reverse_network(connections)\n",
    "    independent_networks = nhd_network.reachable_network(rconn)\n",
    "    reaches_bytw = {}\n",
    "    for tw, net in independent_networks.items():\n",
    "        path_func = partial(nhd_network.split_at_junction, net)\n",
    "        reaches_bytw[tw] = nhd_network.dfs_decomposition(net, path_func)\n",
    "\n",
    "    return independent_networks, reaches_bytw, rconn"
   ]
  },
  {
   "cell_type": "code",
   "execution_count": 7,
   "metadata": {},
   "outputs": [],
   "source": [
    "df = df.sort_index()\n",
    "df = replace_downstreams(df, \"to\", 0)"
   ]
  },
  {
   "cell_type": "code",
   "execution_count": 8,
   "metadata": {},
   "outputs": [],
   "source": [
    "connections = nhd_network.extract_connections(df, \"to\")"
   ]
  },
  {
   "cell_type": "code",
   "execution_count": 9,
   "metadata": {},
   "outputs": [],
   "source": [
    "independent_networks, reaches_bytw, rconn = organize_independent_networks(\n",
    "    connections)"
   ]
  },
  {
   "cell_type": "code",
   "execution_count": 11,
   "metadata": {},
   "outputs": [],
   "source": [
    "reachable_subnetworks = nhd_network.reachable_network(rconn)"
   ]
  },
  {
   "cell_type": "code",
   "execution_count": 22,
   "metadata": {},
   "outputs": [],
   "source": [
    "network_sizes = []"
   ]
  },
  {
   "cell_type": "code",
   "execution_count": null,
   "metadata": {},
   "outputs": [],
   "source": [
    "for i in range(len(list(reachable_subnetworks.keys()))):\n",
    "    network_sizes.append(len(reachable_subnetworks[list(\n",
    "        reachable_subnetworks.keys())[i]]))"
   ]
  },
  {
   "cell_type": "code",
   "execution_count": 49,
   "metadata": {},
   "outputs": [
    {
     "data": {
      "text/plain": [
       "77684"
      ]
     },
     "execution_count": 49,
     "metadata": {},
     "output_type": "execute_result"
    }
   ],
   "source": [
    "len(connections)"
   ]
  },
  {
   "cell_type": "code",
   "execution_count": 50,
   "metadata": {},
   "outputs": [
    {
     "data": {
      "text/plain": [
       "78041"
      ]
     },
     "execution_count": 50,
     "metadata": {},
     "output_type": "execute_result"
    }
   ],
   "source": [
    "len(rconn)"
   ]
  },
  {
   "cell_type": "code",
   "execution_count": 51,
   "metadata": {},
   "outputs": [
    {
     "data": {
      "text/plain": [
       "357"
      ]
     },
     "execution_count": 51,
     "metadata": {},
     "output_type": "execute_result"
    }
   ],
   "source": [
    "len(independent_networks)"
   ]
  },
  {
   "cell_type": "code",
   "execution_count": 46,
   "metadata": {},
   "outputs": [
    {
     "data": {
      "text/plain": [
       "[2130744, 2130746]"
      ]
     },
     "execution_count": 46,
     "metadata": {},
     "output_type": "execute_result"
    }
   ],
   "source": [
    "rconn[2130784]"
   ]
  },
  {
   "cell_type": "code",
   "execution_count": 52,
   "metadata": {},
   "outputs": [
    {
     "data": {
      "text/plain": [
       "357"
      ]
     },
     "execution_count": 52,
     "metadata": {},
     "output_type": "execute_result"
    }
   ],
   "source": [
    "len(reaches_bytw)"
   ]
  },
  {
   "cell_type": "code",
   "execution_count": null,
   "metadata": {},
   "outputs": [],
   "source": [
    "test_rconn = {\n",
    "    1: [5, 6],\n",
    "    2: [7],\n",
    "    3: [8],\n",
    "    4: [9, 10, 11],\n",
    "    5: [12],\n",
    "    6: [13, 14],\n",
    "    7: [],\n",
    "    8: [15],\n",
    "    9: [16, 17, 18],\n",
    "    10: [19],\n",
    "    11: [],\n",
    "    12: [],\n",
    "    13: [20, 21], \n",
    "    14: [22],\n",
    "    15: [],\n",
    "    16: [23, 24, 25], \n",
    "    17: [],\n",
    "    18: [26],\n",
    "    19: [],\n",
    "    20: [27],\n",
    "    21: [],\n",
    "    22: [],\n",
    "    23: [],\n",
    "    24: [],\n",
    "    25: [],\n",
    "    26: [],\n",
    "    27: []\n",
    "}"
   ]
  }
 ],
 "metadata": {
  "kernelspec": {
   "display_name": ".venv",
   "language": "python",
   "name": "python3"
  },
  "language_info": {
   "codemirror_mode": {
    "name": "ipython",
    "version": 3
   },
   "file_extension": ".py",
   "mimetype": "text/x-python",
   "name": "python",
   "nbconvert_exporter": "python",
   "pygments_lexer": "ipython3",
   "version": "3.12.3"
  }
 },
 "nbformat": 4,
 "nbformat_minor": 2
}
