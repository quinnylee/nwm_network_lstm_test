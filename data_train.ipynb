{
 "cells": [
  {
   "cell_type": "code",
   "execution_count": 41,
   "metadata": {},
   "outputs": [],
   "source": [
    "import numpy as np\n",
    "import pandas as pd\n",
    "import matplotlib.pyplot as plt\n",
    "from IPython.display import clear_output\n",
    "import math\n",
    "import torch\n",
    "import torch.nn as nn\n",
    "import torch.optim as optim\n",
    "from torch.autograd import Variable\n",
    "from sklearn.preprocessing import StandardScaler\n",
    "from tqdm.notebook import tqdm\n",
    "from torchinfo import summary\n",
    "from adopt import ADOPT"
   ]
  },
  {
   "cell_type": "code",
   "execution_count": 42,
   "metadata": {},
   "outputs": [],
   "source": [
    "data = pd.read_csv(\"data/data1003.csv\")"
   ]
  },
  {
   "cell_type": "code",
   "execution_count": 43,
   "metadata": {},
   "outputs": [
    {
     "name": "stdout",
     "output_type": "stream",
     "text": [
      "The number of features available to us: 62\n",
      "Empty DataFrame\n",
      "Columns: [Unnamed: 0, time, DLWRF_surface, PRES_surface, SPFH_2maboveground, precip_rate, DSWRF_surface, TMP_2maboveground, UGRD_10maboveground, VGRD_10maboveground, APCP_surface, streamflow, elevation_mean, slope_mean, impervious_mean, aspect_c_mean, twi_dist_4, X, Y, gw_Coeff, gw_Zmax, gw_Expon, bexp_soil_layers_stag=1, bexp_soil_layers_stag=2, bexp_soil_layers_stag=3, bexp_soil_layers_stag=4, ISLTYP, IVGTYP, dksat_soil_layers_stag=1, dksat_soil_layers_stag=2, dksat_soil_layers_stag=3, dksat_soil_layers_stag=4, psisat_soil_layers_stag=1, psisat_soil_layers_stag=2, psisat_soil_layers_stag=3, psisat_soil_layers_stag=4, cwpvt, mfsno, mp, quartz_soil_layers_stag=1, quartz_soil_layers_stag=2, quartz_soil_layers_stag=3, quartz_soil_layers_stag=4, refkdt, slope, smcmax_soil_layers_stag=1, smcmax_soil_layers_stag=2, smcmax_soil_layers_stag=3, smcmax_soil_layers_stag=4, smcwlt_soil_layers_stag=1, smcwlt_soil_layers_stag=2, smcwlt_soil_layers_stag=3, smcwlt_soil_layers_stag=4, vcmx25, catchment_id, du, x, y, pair_id, ID, Shape_Length, Shape_Area]\n",
      "Index: []\n",
      "\n",
      "[0 rows x 62 columns]\n"
     ]
    }
   ],
   "source": [
    "print(f\"The number of features available to us: {data.shape[1]}\")\n",
    "print(data.head(0))"
   ]
  },
  {
   "cell_type": "code",
   "execution_count": 44,
   "metadata": {},
   "outputs": [
    {
     "name": "stdout",
     "output_type": "stream",
     "text": [
      "The number of networks we have:\t7\n",
      "The number of data points in each network:\t696\n",
      "The number of features in each network:\t117\n"
     ]
    }
   ],
   "source": [
    "def load_data_in_dictionary(data):\n",
    "    '''This loads the data into a dictionary. each index of dictionary has a pair of watersheds, \n",
    "       upper and lower, and their features are merged in the for loop below'''\n",
    "    num_networks = 0\n",
    "    network_dict = {}\n",
    "    broken_pairs = []\n",
    "    for i in range(int((data['pair_id']).max())+1):\n",
    "        try:\n",
    "            downstream = data[(data['pair_id']== i) & (data['du'] == 'd')]\n",
    "            upstream = data[(data['pair_id']== i) & (data['du'] == 'u')]\n",
    "            #print(downstream)\n",
    "            #print(upstream)\n",
    "            if downstream.empty or downstream.isnull().values.any():\n",
    "                print(i, \" DS is empty\")\n",
    "                continue\n",
    "            if upstream.empty or upstream.isnull().values.any():\n",
    "                print(i, \" US is empty\")\n",
    "                continue\n",
    "            '''area_ratio = upstream.iloc[0][\"Shape_Area\"] / downstream.iloc[0][\"Shape_Area\"]\n",
    "            if area_ratio > 1:\n",
    "                print(i, \" area ratio too large\")\n",
    "                continue\n",
    "            if abs(downstream.iloc[-1]['ID'] - upstream.iloc[-1]['ID']) > 100:\n",
    "                print(i, \" DS and US too far apart\")\n",
    "                continue'''\n",
    "            network = downstream.merge(upstream, on=\"time\")\n",
    "            network.drop([\"x_x\", \"y_x\", \"pair_id_x\", \"x_y\", \"y_y\", \"pair_id_y\"], axis=1, inplace=True)\n",
    "            network_dict[num_networks] = network\n",
    "            num_networks += 1\n",
    "        except:\n",
    "            broken_pairs.append(i)\n",
    "            raise Exception\n",
    "    return network_dict, broken_pairs, num_networks\n",
    "\n",
    "\n",
    "\n",
    "network_dict, num_networks, broken_pairs = load_data_in_dictionary(data)\n",
    "\n",
    "print(f\"The number of networks we have:\\t{len(network_dict)}\")\n",
    "print(f\"The number of data points in each network:\\t{network_dict[0].shape[0]}\")\n",
    "print(f\"The number of features in each network:\\t{network_dict[0].shape[1]}\")"
   ]
  },
  {
   "cell_type": "code",
   "execution_count": 45,
   "metadata": {},
   "outputs": [],
   "source": [
    "def correlation_with_lstm_output(correlation_inputs, correlation_outputs):\n",
    "    correlation_data = correlation_inputs + correlation_outputs\n",
    "    frames = [network_dict[ibuc].loc[:, correlation_data] for ibuc in [0,1,5,6]]\n",
    "    df_in = pd.concat(frames)\n",
    "    correlation_matrix = np.corrcoef(df_in)\n",
    "\n",
    "    for i in range(len(correlation_outputs)):\n",
    "        print(f\"Correlation with {correlation_outputs[i]}\")\n",
    "        for j in range(len(correlation_data)):\n",
    "            print(f\"{correlation_data[j]}: {correlation_matrix[i+len(correlation_inputs)][j]}\")\n",
    "\n"
   ]
  },
  {
   "cell_type": "code",
   "execution_count": 46,
   "metadata": {},
   "outputs": [
    {
     "name": "stdout",
     "output_type": "stream",
     "text": [
      "The number of features for LSTM model:\t19\n"
     ]
    }
   ],
   "source": [
    "#among all the features in the dataset, we will be working on thses features. If you want to add a new feature, see the datafile and add features as you like\n",
    "\n",
    "lstm_inputs = [\n",
    "    'precip_rate_x', \n",
    "    'TMP_2maboveground_x', \n",
    "    'UGRD_10maboveground_x',\n",
    "    'APCP_surface_x', \n",
    "    'elevation_mean_x', 'slope_mean_x', 'Shape_Area_x',\n",
    "    'impervious_mean_x', 'dksat_soil_layers_stag=1_x', \n",
    "    'streamflow_x',\n",
    "    'precip_rate_y', \n",
    "    'TMP_2maboveground_y', \n",
    "    'UGRD_10maboveground_y',\n",
    "    'APCP_surface_y', \n",
    "    'elevation_mean_y', 'slope_mean_y', 'Shape_Area_y',\n",
    "    'impervious_mean_y', 'dksat_soil_layers_stag=1_y']\n",
    "\n",
    "\n",
    "n_input = len(lstm_inputs)\n",
    "\n",
    "lstm_outputs = ['streamflow_y']     #this is what we will be trying to predict using the LSTM model\n",
    "n_output = len(lstm_outputs)\n",
    "print(f\"The number of features for LSTM model:\\t{n_input}\")"
   ]
  },
  {
   "cell_type": "code",
   "execution_count": 47,
   "metadata": {},
   "outputs": [
    {
     "name": "stdout",
     "output_type": "stream",
     "text": [
      "Correlation with streamflow_y\n",
      "APCP_surface_x: 0.9999999747385039\n",
      "TMP_2maboveground_x: 0.9999999775523916\n",
      "DSWRF_surface_x: 0.9999999790033776\n",
      "DLWRF_surface_x: 0.9999999988281622\n",
      "PRES_surface_x: 0.9999999986065536\n",
      "UGRD_10maboveground_x: 0.9999999993743482\n",
      "VGRD_10maboveground_x: 0.9999999930775616\n",
      "SPFH_2maboveground_x: 0.9999999929204678\n",
      "elevation_mean_x: 0.9999999932876569\n",
      "slope_mean_x: 0.9999999802979805\n",
      "Shape_Area_x: 0.999999980020199\n",
      "impervious_mean_x: 0.9999999794893975\n",
      "dksat_soil_layers_stag=1_x: 0.9999998947844357\n",
      "streamflow_x: 0.9999975569998939\n",
      "APCP_surface_y: 0.999992221109325\n",
      "TMP_2maboveground_y: 0.9999835983734059\n",
      "DSWRF_surface_y: 0.9999742449158907\n",
      "DLWRF_surface_y: 0.9999676163799787\n",
      "PRES_surface_y: 0.9999633792254142\n",
      "UGRD_10maboveground_y: 0.9999654934975047\n",
      "VGRD_10maboveground_y: 0.9999723923416026\n",
      "SPFH_2maboveground_y: 0.9999823704574873\n",
      "elevation_mean_y: 0.9999922738661662\n",
      "slope_mean_y: 0.9999977422811037\n",
      "Shape_Area_y: 0.9999999905535563\n",
      "impervious_mean_y: 0.9999999941065213\n",
      "dksat_soil_layers_stag=1_y: 0.9999999948509023\n",
      "streamflow_y: 1.0\n"
     ]
    }
   ],
   "source": [
    "correlation_inputs = [\n",
    "    # 'precip_rate_x', \n",
    "    'APCP_surface_x', \n",
    "               'TMP_2maboveground_x', \n",
    "    'DSWRF_surface_x', 'DLWRF_surface_x', 'PRES_surface_x', \n",
    "    'UGRD_10maboveground_x', 'VGRD_10maboveground_x', 'SPFH_2maboveground_x', \n",
    "    'elevation_mean_x', 'slope_mean_x', 'Shape_Area_x',\n",
    "    'impervious_mean_x', 'dksat_soil_layers_stag=1_x', \n",
    "    'streamflow_x',\n",
    "    # 'precip_rate_y', \n",
    "    'APCP_surface_y', \n",
    "    'TMP_2maboveground_y',\n",
    "    'DSWRF_surface_y', 'DLWRF_surface_y', 'PRES_surface_y',\n",
    "    'UGRD_10maboveground_y', 'VGRD_10maboveground_y', 'SPFH_2maboveground_y',\n",
    "    'elevation_mean_y', 'slope_mean_y', 'Shape_Area_y',\n",
    "    'impervious_mean_y', 'dksat_soil_layers_stag=1_y']\n",
    "\n",
    "correlation_with_lstm_output(correlation_inputs, lstm_outputs)"
   ]
  },
  {
   "cell_type": "code",
   "execution_count": 48,
   "metadata": {},
   "outputs": [
    {
     "name": "stdout",
     "output_type": "stream",
     "text": [
      "Using CUDA device: NVIDIA A100-SXM4-40GB\n"
     ]
    }
   ],
   "source": [
    "if torch.cuda.is_available():\n",
    "    device = torch.device(\"cuda:0\")\n",
    "    print(\"Using CUDA device:\", torch.cuda.get_device_name(0))\n",
    "elif torch.backends.mps.is_available():\n",
    "    device = torch.device(\"mps\")\n",
    "    print(\"Using Apple M3/M2/M1 (Metal) device\")\n",
    "else:\n",
    "    device = 'cpu'\n",
    "    print(\"Using CPU\")\n",
    "\n",
    "batch_size = 1704\n",
    "seq_length = 270"
   ]
  },
  {
   "cell_type": "code",
   "execution_count": 49,
   "metadata": {},
   "outputs": [
    {
     "name": "stdout",
     "output_type": "stream",
     "text": [
      "1\n"
     ]
    }
   ],
   "source": [
    "n_networks = len(network_dict)\n",
    "\n",
    "n_networks_split = {\"train\": (math.floor(n_networks * 0.7)), \"val\": math.floor(n_networks * 0.2), \"test\": math.floor(n_networks * 0.1)}\n",
    "print(n_networks_split['val'])"
   ]
  },
  {
   "cell_type": "code",
   "execution_count": 50,
   "metadata": {},
   "outputs": [
    {
     "name": "stdout",
     "output_type": "stream",
     "text": [
      "Since the dataset is small and no basins are available for testing. We give a random bucket to test.\n",
      "The networks for training is [0, 1, 2, 3, 4]\n",
      "The networks for validation is [5]\n",
      "The networks testing is [2]\n"
     ]
    }
   ],
   "source": [
    "def split_parameters(n_networks):\n",
    "    # create lists of network indices for each set based on the given network splits\n",
    "    networks_for_training = list(range(0, n_networks_split['train'] + 1))\n",
    "    networks_for_val = list(range(n_networks_split['train'] + 1, \n",
    "                                 n_networks_split['train'] + n_networks_split['val'] + 1))\n",
    "\n",
    "    if (n_networks_split['test'] > 0):\n",
    "        networks_for_test = list(range(n_networks - n_networks_split['test'], n_networks))\n",
    "    else:\n",
    "        print(\"Since the dataset is small and no basins are available for testing. We give a random bucket to test.\")\n",
    "        random_bucket = np.random.randint(0, n_networks)\n",
    "        networks_for_test = [random_bucket]\n",
    "    \n",
    "    # organize the split parameters into separate lists for each set\n",
    "    train_split_parameters = [networks_for_training]\n",
    "    val_split_parameters = [networks_for_val]\n",
    "    test_split_parameters = [networks_for_test]\n",
    "\n",
    "    return [train_split_parameters, val_split_parameters, test_split_parameters]\n",
    "\n",
    "[[networks_for_training], [networks_for_val], [networks_for_test]] = split_parameters(n_networks)\n",
    "print(f\"The networks for training is {networks_for_training}\")\n",
    "print(f\"The networks for validation is {networks_for_val}\")\n",
    "print(f\"The networks testing is {networks_for_test}\")"
   ]
  },
  {
   "cell_type": "code",
   "execution_count": 51,
   "metadata": {},
   "outputs": [
    {
     "name": "stdout",
     "output_type": "stream",
     "text": [
      "Network: 0\n",
      "Streamflow (downstream) mean: 0.42\n",
      "Streamflow (upstream) mean: 0.42\n",
      "Network: 1\n",
      "Streamflow (downstream) mean: 0.06\n",
      "Streamflow (upstream) mean: 0.13\n"
     ]
    },
    {
     "name": "stdout",
     "output_type": "stream",
     "text": [
      "Network: 2\n",
      "Streamflow (downstream) mean: 0.09\n",
      "Streamflow (upstream) mean: 0.12\n",
      "Network: 3\n",
      "Streamflow (downstream) mean: 0.28\n",
      "Streamflow (upstream) mean: 0.29\n",
      "Network: 4\n",
      "Streamflow (downstream) mean: 0.48\n",
      "Streamflow (upstream) mean: 2.11\n",
      "Network: 5\n",
      "Streamflow (downstream) mean: 0.55\n",
      "Streamflow (upstream) mean: 0.63\n"
     ]
    }
   ],
   "source": [
    "def viz_networks(ibuc):\n",
    "    fig, ax = plt.subplots()\n",
    "    print('Network:', ibuc)\n",
    "    print(\"Streamflow (downstream) mean:\", np.round(network_dict[ibuc].streamflow_x.mean(),2))\n",
    "    print(\"Streamflow (upstream) mean:\", np.round(network_dict[ibuc].streamflow_y.mean(),2))\n",
    "\n",
    "    # network_dict[ibuc].loc[:2000,['precip_rate_x']].plot(ax=ax, legend=False)\n",
    "    network_dict[ibuc].loc[:2000,['streamflow_y']].plot(ax=ax, legend=False)\n",
    "    # network_dict[ibuc].loc[:2000,['APCP_surface_y']].plot(ax=ax, legend=False)\n",
    "    # network_dict[ibuc].loc[:2000,['streamflow_x']].plot(ax=ax, legend=False)\n",
    "    # network_dict[ibuc].loc[:2000,['APCP_surface_x']].plot(ax=ax, legend=False)\n",
    "    ax.set_title('Streamflow')\n",
    "    ax.set_xlabel('Time (h)')\n",
    "    ax.set_ylabel('Streamflow')\n",
    "\n",
    "    ax.legend([\"Streamflow_y\", \"APCP_surface_x\"])\n",
    "    \n",
    "    # plt.show()\n",
    "    plt.close()\n",
    "\n",
    "def viz_networks2(ibuc):\n",
    "    fig, ax1 = plt.subplots()\n",
    "    print('Network:', ibuc)\n",
    "    print(\"Streamflow (downstream) mean:\", np.round(network_dict[ibuc].streamflow_x.mean(), 2))\n",
    "    print(\"Streamflow (upstream) mean:\", np.round(network_dict[ibuc].streamflow_y.mean(), 2))\n",
    "\n",
    "    # Plot streamflow_y on the primary y-axis\n",
    "    network_dict[ibuc].loc[:2000, ['streamflow_x']].plot(ax=ax1, color = 'blue', legend=False)\n",
    "    network_dict[ibuc].loc[:2000, ['streamflow_y']].plot(ax=ax1, color = 'purple', legend=False)\n",
    "    ax1.set_title('Streamflow and Precipitation')\n",
    "    ax1.set_xlabel('Time (h)')\n",
    "    ax1.set_ylabel('Streamflow')\n",
    "    \n",
    "    # Create a secondary y-axis and plot APCP_surface_x on it\n",
    "    ax2 = ax1.twinx()\n",
    "    network_dict[ibuc].loc[:2000, ['APCP_surface_x']].plot(ax=ax2, color='orange', legend=False)\n",
    "    \n",
    "    network_dict[ibuc].loc[:2000, ['APCP_surface_y']].plot(ax=ax2, color='red', legend=False)\n",
    "    ax2.set_ylabel('APCP Surface')\n",
    "    \n",
    "    # Add legends for each axis\n",
    "    ax1.legend([\"Streamflow_y\"], loc='upper left')\n",
    "    ax2.legend([\"APCP_surface_x\"], loc='upper right')\n",
    "    \n",
    "    # plt.show()\n",
    "    plt.close()\n",
    "\n",
    "    \n",
    "\n",
    "displayed = 0\n",
    "\n",
    "for ibuc in networks_for_training:\n",
    "    viz_networks(ibuc)\n",
    "    displayed += 1\n",
    "\n",
    "\n",
    "for ibuc in networks_for_val:\n",
    "    viz_networks(ibuc)\n",
    "    displayed += 1"
   ]
  },
  {
   "cell_type": "code",
   "execution_count": 52,
   "metadata": {},
   "outputs": [],
   "source": [
    "\n",
    "\n",
    "class LSTM1(nn.Module):\n",
    "    def __init__(self, input_size, num_classes):\n",
    "        super(LSTM1, self).__init__()\n",
    "        self.num_classes = num_classes\n",
    "        self.input_size = input_size\n",
    "\n",
    "        self.lstm1 = nn.LSTM(input_size=input_size, hidden_size=128, batch_first=True)\n",
    "        self.lstm2 = nn.LSTM(input_size=128, hidden_size=256, batch_first=True)\n",
    "        self.relu2 = nn.ReLU()\n",
    "        self.normalization1 = nn.BatchNorm1d(256)\n",
    "        # Fully connected layers\n",
    "        self.fc = nn.Sequential(\n",
    "            nn.Linear(256, 128, bias=True),\n",
    "            nn.ReLU(),\n",
    "            nn.BatchNorm1d(128),\n",
    "            nn.Linear(128, 64, bias = True),\n",
    "            nn.ReLU(),\n",
    "            nn.Linear(64, num_classes, bias=True)\n",
    "        )\n",
    "\n",
    "    def forward(self, x):\n",
    "        out, _= self.lstm1(x)\n",
    "        out, _ = self.lstm2(out)\n",
    "        out = self.relu2(out)\n",
    "        out = out[:,-1, :]\n",
    "        out = self.normalization1(out)\n",
    "\n",
    "        prediction = self.fc(out)\n",
    "        return prediction\n",
    "\n"
   ]
  },
  {
   "cell_type": "code",
   "execution_count": 53,
   "metadata": {},
   "outputs": [],
   "source": [
    "\n",
    "model = LSTM1(input_size=n_input, num_classes=n_output).to(device)"
   ]
  },
  {
   "cell_type": "code",
   "execution_count": 54,
   "metadata": {},
   "outputs": [],
   "source": [
    "def fit_scaler():\n",
    "    frames = [network_dict[ibuc].loc[:, lstm_inputs] for ibuc in networks_for_training]\n",
    "    df_in = pd.concat(frames)   \n",
    "    print(df_in.shape)\n",
    "    scaler_in = StandardScaler()\n",
    "    scaler_in.fit(df_in)\n",
    "\n",
    "    frames = [network_dict[ibuc].loc[:, lstm_outputs] for ibuc in networks_for_training]\n",
    "    df_out = pd.concat(frames)    \n",
    "    print(df_out.shape)\n",
    "    scaler_out = StandardScaler()\n",
    "    scaler_out.fit(df_out)\n",
    "    return scaler_in, scaler_out"
   ]
  },
  {
   "cell_type": "code",
   "execution_count": 55,
   "metadata": {},
   "outputs": [
    {
     "name": "stdout",
     "output_type": "stream",
     "text": [
      "(3480, 19)\n",
      "(3480, 1)\n"
     ]
    }
   ],
   "source": [
    "scaler_in, scaler_out = fit_scaler()"
   ]
  },
  {
   "cell_type": "code",
   "execution_count": 56,
   "metadata": {},
   "outputs": [],
   "source": [
    "def make_data_loader(network_list):\n",
    "    loader = {}\n",
    "    np_seq_X = {}\n",
    "    np_seq_y = {}\n",
    "    for ibuc in network_list:\n",
    "        df = network_dict[ibuc]\n",
    "        scaler_in_i = scaler_in.transform(df.loc[:, lstm_inputs])\n",
    "        scaler_out_i = scaler_out.transform(df.loc[:, lstm_outputs])\n",
    "        \n",
    "        n_samples = scaler_in_i.shape[0] - seq_length\n",
    "        \n",
    "        np_seq_X[ibuc] = np.zeros((n_samples, seq_length, n_input))\n",
    "        np_seq_y[ibuc] = np.zeros((n_samples, n_output)) \n",
    "\n",
    "        for i in range(n_samples):\n",
    "            t = i + seq_length\n",
    "            np_seq_X[ibuc][i, :, :] = scaler_in_i[i:t, :]\n",
    "            np_seq_y[ibuc][i, :] = scaler_out_i[t, :]\n",
    "\n",
    "        ds = [torch.Tensor(np_seq_X[ibuc]), torch.Tensor(np_seq_y[ibuc])]\n",
    "        loader[ibuc] = ds\n",
    "    return loader, np_seq_X, np_seq_y"
   ]
  },
  {
   "cell_type": "code",
   "execution_count": 57,
   "metadata": {},
   "outputs": [],
   "source": [
    "train_loader, np_train_seq_X, np_train_seq_y = make_data_loader([0,1,5,6])\n",
    "val_loader, np_val_seq_X, np_val_seq_y = make_data_loader(networks_for_val)\n",
    "test_loader, np_test_seq_X, np_test_seq_y = make_data_loader(networks_for_test)"
   ]
  },
  {
   "cell_type": "code",
   "execution_count": 58,
   "metadata": {},
   "outputs": [
    {
     "name": "stdout",
     "output_type": "stream",
     "text": [
      "Each network has 426 data points\n",
      "Each data point is made up of sequence of 270 timesteps\n",
      "Each time step has 19 features.\n"
     ]
    }
   ],
   "source": [
    "# print(train_loader[0][0].shape)\n",
    "print(f\"Each network has {train_loader[0][0].shape[0]} data points\")\n",
    "print(f\"Each data point is made up of sequence of {train_loader[0][0].shape[1]} timesteps\")\n",
    "print(f\"Each time step has {train_loader[0][0].shape[2]} features.\")"
   ]
  },
  {
   "cell_type": "code",
   "execution_count": 59,
   "metadata": {},
   "outputs": [],
   "source": [
    "def concatanate_tensors(loader,  networks):\n",
    "    concatanated_tensor_x = loader[networks[0]][0]\n",
    "    concatanated_tensor_y = loader[networks[0]][1]\n",
    "\n",
    "    for i in range(len(networks) - 1):\n",
    "        concatanated_tensor_x = torch.cat((concatanated_tensor_x, loader[networks[i+1]][0]))\n",
    "        concatanated_tensor_y = torch.cat((concatanated_tensor_y, loader[networks[i+1]][1]))\n",
    "    return concatanated_tensor_x, concatanated_tensor_y    \n",
    "\n",
    "  "
   ]
  },
  {
   "cell_type": "code",
   "execution_count": 60,
   "metadata": {},
   "outputs": [],
   "source": [
    "\n",
    "train_data_x, train_data_y = concatanate_tensors(train_loader, [0,1,5,6])\n",
    "val_data_x, val_data_y = concatanate_tensors(val_loader, networks_for_val)\n",
    "test_data_x, test_data_y = concatanate_tensors(test_loader, networks_for_test)"
   ]
  },
  {
   "cell_type": "code",
   "execution_count": 61,
   "metadata": {},
   "outputs": [
    {
     "name": "stdout",
     "output_type": "stream",
     "text": [
      "Since each epoch will only have 1 batch of data, the batch size is set to the length of the entire data, which is 1704.\n"
     ]
    }
   ],
   "source": [
    "batch_size = train_data_y.shape[0]\n",
    "train_dataset = torch.utils.data.TensorDataset(train_data_x, train_data_y)\n",
    "train_batch_loader = torch.utils.data.DataLoader(train_dataset, batch_size= batch_size)\n",
    "val_dataset = torch.utils.data.TensorDataset(val_data_x, val_data_y)\n",
    "val_batch_loader = torch.utils.data.DataLoader(val_dataset, batch_size= batch_size)\n",
    "test_dataset = torch.utils.data.TensorDataset(test_data_x, test_data_y)\n",
    "test_batch_loader = torch.utils.data.DataLoader(test_dataset, batch_size= batch_size)\n",
    "print(f\"Since each epoch will only have 1 batch of data, the batch size is set to the length of the entire data, which is {batch_size}.\")"
   ]
  },
  {
   "cell_type": "code",
   "execution_count": 62,
   "metadata": {},
   "outputs": [],
   "source": [
    "def inverse_scale(scaler, numpy_value):\n",
    "    transformed_numpy_value = scaler.inverse_transform(numpy_value)\n",
    "    return transformed_numpy_value\n"
   ]
  },
  {
   "cell_type": "code",
   "execution_count": 63,
   "metadata": {},
   "outputs": [],
   "source": [
    "def calculate_NSE(observed_value, modeled_value):\n",
    "    mean_observed_value = np.mean(observed_value)\n",
    "    numerator = np.sum(np.power((observed_value - modeled_value), 2))\n",
    "    denominator = np.sum(np.power((observed_value - mean_observed_value), 2))\n",
    "    return round((1- (numerator/denominator)), 2) "
   ]
  },
  {
   "cell_type": "code",
   "execution_count": null,
   "metadata": {},
   "outputs": [],
   "source": [
    "def train_model(lstm, train_batch_loader):\n",
    "    criterion = nn.MSELoss()\n",
    "    optimizer = optim.AdamW(lstm.parameters(), lr= .0001)\n",
    "    scheduler = torch.optim.lr_scheduler.ReduceLROnPlateau(optimizer, patience=5, factor=0.1)\n",
    "    epochs = 200\n",
    "    loss_history_train = []\n",
    "    loss_history_val = []\n",
    "    for epoch in range(epochs):\n",
    "        NSE_batch_train = []\n",
    "        NSE_batch_val = []\n",
    "        for data, targets in train_batch_loader:\n",
    "            x = data.to(device=device)\n",
    "            y = targets.to(device=device)\n",
    "\n",
    "            optimizer.zero_grad()\n",
    "            predicted_y = lstm(x)\n",
    "            loss = criterion(predicted_y, y)\n",
    "\n",
    "            loss_history_train.append(loss.item())\n",
    "\n",
    "            loss.backward()\n",
    "            optimizer.step()\n",
    "            scheduler.step(loss)\n",
    "\n",
    "            with torch.no_grad():\n",
    "                y =  y.to(\"cpu\").numpy()\n",
    "                y = inverse_scale(scaler_out, y)\n",
    "                y = y.reshape(y.shape[0])\n",
    "\n",
    "                predicted_y =  predicted_y.to(\"cpu\").numpy()\n",
    "                predicted_y = inverse_scale(scaler_out, predicted_y)\n",
    "                predicted_y = predicted_y.reshape(y.shape[0])\n",
    "\n",
    "                NSE_batch_train.append(calculate_NSE(y, predicted_y))\n",
    "\n",
    "                \n",
    "        model.eval()\n",
    "        with torch.no_grad():\n",
    "            for data, targets in val_batch_loader:\n",
    "                x = data.to(device=device)\n",
    "                y = targets.to(device=device)\n",
    "                predicted_y = lstm(x)\n",
    "                loss \n",
    "\n",
    "                y =  y.to(\"cpu\").numpy()\n",
    "                y = inverse_scale(scaler_out, y)\n",
    "                y = y.reshape(y.shape[0])\n",
    "\n",
    "                predicted_y =  predicted_y.to(\"cpu\").numpy()\n",
    "                predicted_y = inverse_scale(scaler_out, predicted_y)\n",
    "                predicted_y = predicted_y.reshape(y.shape[0])\n",
    "\n",
    "                NSE_batch_val.append(calculate_NSE(y, predicted_y))\n",
    "\n",
    "\n",
    "\n",
    "\n",
    "            \n",
    "            \n",
    "\n",
    "            \n",
    "\n",
    "        print(f\"Epoch: {epoch + 1} Completed\\tLoss: {round(loss_history[-1], 4)}\\tNSE_Train: {np.mean(NSE_batch_train)}\")\n",
    "        \n",
    "\n",
    "    return lstm, loss_history"
   ]
  },
  {
   "cell_type": "code",
   "execution_count": 67,
   "metadata": {},
   "outputs": [
    {
     "name": "stdout",
     "output_type": "stream",
     "text": [
      "Epoch: 1 Completed\tLoss: 0.2238\tNSE_Train: 0.0\n",
      "Epoch: 2 Completed\tLoss: 0.1901\tNSE_Train: 0.15000000596046448\n",
      "Epoch: 3 Completed\tLoss: 0.1679\tNSE_Train: 0.25\n",
      "Epoch: 4 Completed\tLoss: 0.1531\tNSE_Train: 0.3100000023841858\n",
      "Epoch: 5 Completed\tLoss: 0.1422\tNSE_Train: 0.36000001430511475\n",
      "Epoch: 6 Completed\tLoss: 0.1343\tNSE_Train: 0.4000000059604645\n",
      "Epoch: 7 Completed\tLoss: 0.1281\tNSE_Train: 0.4300000071525574\n",
      "Epoch: 8 Completed\tLoss: 0.1228\tNSE_Train: 0.44999998807907104\n",
      "Epoch: 9 Completed\tLoss: 0.1181\tNSE_Train: 0.4699999988079071\n",
      "Epoch: 10 Completed\tLoss: 0.1136\tNSE_Train: 0.49000000953674316\n",
      "Epoch: 11 Completed\tLoss: 0.1097\tNSE_Train: 0.5099999904632568\n",
      "Epoch: 12 Completed\tLoss: 0.1061\tNSE_Train: 0.5199999809265137\n",
      "Epoch: 13 Completed\tLoss: 0.1026\tNSE_Train: 0.5400000214576721\n",
      "Epoch: 14 Completed\tLoss: 0.0993\tNSE_Train: 0.5600000023841858\n",
      "Epoch: 15 Completed\tLoss: 0.096\tNSE_Train: 0.5699999928474426\n",
      "Epoch: 16 Completed\tLoss: 0.0928\tNSE_Train: 0.5799999833106995\n",
      "Epoch: 17 Completed\tLoss: 0.0898\tNSE_Train: 0.6000000238418579\n",
      "Epoch: 18 Completed\tLoss: 0.087\tNSE_Train: 0.6100000143051147\n",
      "Epoch: 19 Completed\tLoss: 0.0841\tNSE_Train: 0.6200000047683716\n",
      "Epoch: 20 Completed\tLoss: 0.0812\tNSE_Train: 0.6399999856948853\n",
      "Epoch: 21 Completed\tLoss: 0.0783\tNSE_Train: 0.6499999761581421\n",
      "Epoch: 22 Completed\tLoss: 0.0757\tNSE_Train: 0.6600000262260437\n",
      "Epoch: 23 Completed\tLoss: 0.0734\tNSE_Train: 0.6700000166893005\n",
      "Epoch: 24 Completed\tLoss: 0.0713\tNSE_Train: 0.6800000071525574\n",
      "Epoch: 25 Completed\tLoss: 0.0693\tNSE_Train: 0.6899999976158142\n",
      "Epoch: 26 Completed\tLoss: 0.0674\tNSE_Train: 0.699999988079071\n",
      "Epoch: 27 Completed\tLoss: 0.0655\tNSE_Train: 0.7099999785423279\n",
      "Epoch: 28 Completed\tLoss: 0.0638\tNSE_Train: 0.7099999785423279\n",
      "Epoch: 29 Completed\tLoss: 0.0622\tNSE_Train: 0.7200000286102295\n",
      "Epoch: 30 Completed\tLoss: 0.0606\tNSE_Train: 0.7300000190734863\n",
      "Epoch: 31 Completed\tLoss: 0.0593\tNSE_Train: 0.7300000190734863\n",
      "Epoch: 32 Completed\tLoss: 0.0582\tNSE_Train: 0.7400000095367432\n",
      "Epoch: 33 Completed\tLoss: 0.0571\tNSE_Train: 0.7400000095367432\n",
      "Epoch: 34 Completed\tLoss: 0.056\tNSE_Train: 0.75\n",
      "Epoch: 35 Completed\tLoss: 0.0551\tNSE_Train: 0.75\n",
      "Epoch: 36 Completed\tLoss: 0.0541\tNSE_Train: 0.7599999904632568\n",
      "Epoch: 37 Completed\tLoss: 0.0532\tNSE_Train: 0.7599999904632568\n",
      "Epoch: 38 Completed\tLoss: 0.0524\tNSE_Train: 0.7699999809265137\n",
      "Epoch: 39 Completed\tLoss: 0.0517\tNSE_Train: 0.7699999809265137\n",
      "Epoch: 40 Completed\tLoss: 0.0512\tNSE_Train: 0.7699999809265137\n",
      "Epoch: 41 Completed\tLoss: 0.0508\tNSE_Train: 0.7699999809265137\n",
      "Epoch: 42 Completed\tLoss: 0.0503\tNSE_Train: 0.7699999809265137\n",
      "Epoch: 43 Completed\tLoss: 0.0486\tNSE_Train: 0.7799999713897705\n",
      "Epoch: 44 Completed\tLoss: 0.0491\tNSE_Train: 0.7799999713897705\n",
      "Epoch: 45 Completed\tLoss: 0.0484\tNSE_Train: 0.7799999713897705\n",
      "Epoch: 46 Completed\tLoss: 0.0471\tNSE_Train: 0.7900000214576721\n",
      "Epoch: 47 Completed\tLoss: 0.0478\tNSE_Train: 0.7900000214576721\n",
      "Epoch: 48 Completed\tLoss: 0.0462\tNSE_Train: 0.7900000214576721\n",
      "Epoch: 49 Completed\tLoss: 0.046\tNSE_Train: 0.7900000214576721\n",
      "Epoch: 50 Completed\tLoss: 0.0455\tNSE_Train: 0.800000011920929\n",
      "Epoch: 51 Completed\tLoss: 0.0443\tNSE_Train: 0.800000011920929\n",
      "Epoch: 52 Completed\tLoss: 0.0446\tNSE_Train: 0.800000011920929\n",
      "Epoch: 53 Completed\tLoss: 0.0436\tNSE_Train: 0.800000011920929\n",
      "Epoch: 54 Completed\tLoss: 0.043\tNSE_Train: 0.8100000023841858\n",
      "Epoch: 55 Completed\tLoss: 0.0428\tNSE_Train: 0.8100000023841858\n",
      "Epoch: 56 Completed\tLoss: 0.0424\tNSE_Train: 0.8100000023841858\n",
      "Epoch: 57 Completed\tLoss: 0.0417\tNSE_Train: 0.8100000023841858\n",
      "Epoch: 58 Completed\tLoss: 0.0415\tNSE_Train: 0.8100000023841858\n",
      "Epoch: 59 Completed\tLoss: 0.0412\tNSE_Train: 0.8199999928474426\n",
      "Epoch: 60 Completed\tLoss: 0.0404\tNSE_Train: 0.8199999928474426\n",
      "Epoch: 61 Completed\tLoss: 0.0401\tNSE_Train: 0.8199999928474426\n",
      "Epoch: 62 Completed\tLoss: 0.0398\tNSE_Train: 0.8199999928474426\n",
      "Epoch: 63 Completed\tLoss: 0.0392\tNSE_Train: 0.8199999928474426\n",
      "Epoch: 64 Completed\tLoss: 0.0388\tNSE_Train: 0.8299999833106995\n",
      "Epoch: 65 Completed\tLoss: 0.0381\tNSE_Train: 0.8299999833106995\n",
      "Epoch: 66 Completed\tLoss: 0.0376\tNSE_Train: 0.8299999833106995\n",
      "Epoch: 67 Completed\tLoss: 0.0372\tNSE_Train: 0.8299999833106995\n",
      "Epoch: 68 Completed\tLoss: 0.037\tNSE_Train: 0.8299999833106995\n",
      "Epoch: 69 Completed\tLoss: 0.037\tNSE_Train: 0.8299999833106995\n",
      "Epoch: 70 Completed\tLoss: 0.0363\tNSE_Train: 0.8399999737739563\n",
      "Epoch: 71 Completed\tLoss: 0.0357\tNSE_Train: 0.8399999737739563\n",
      "Epoch: 72 Completed\tLoss: 0.0348\tNSE_Train: 0.8399999737739563\n",
      "Epoch: 73 Completed\tLoss: 0.0346\tNSE_Train: 0.8500000238418579\n",
      "Epoch: 74 Completed\tLoss: 0.0342\tNSE_Train: 0.8500000238418579\n",
      "Epoch: 75 Completed\tLoss: 0.0351\tNSE_Train: 0.8399999737739563\n",
      "Epoch: 76 Completed\tLoss: 0.0388\tNSE_Train: 0.8299999833106995\n",
      "Epoch: 77 Completed\tLoss: 0.0357\tNSE_Train: 0.8399999737739563\n",
      "Epoch: 78 Completed\tLoss: 0.0383\tNSE_Train: 0.8299999833106995\n",
      "Epoch: 79 Completed\tLoss: 0.0337\tNSE_Train: 0.8500000238418579\n",
      "Epoch: 80 Completed\tLoss: 0.0352\tNSE_Train: 0.8399999737739563\n",
      "Epoch: 81 Completed\tLoss: 0.0339\tNSE_Train: 0.8500000238418579\n",
      "Epoch: 82 Completed\tLoss: 0.0316\tNSE_Train: 0.8600000143051147\n",
      "Epoch: 83 Completed\tLoss: 0.0329\tNSE_Train: 0.8500000238418579\n",
      "Epoch: 84 Completed\tLoss: 0.0308\tNSE_Train: 0.8600000143051147\n",
      "Epoch: 85 Completed\tLoss: 0.0302\tNSE_Train: 0.8600000143051147\n",
      "Epoch: 86 Completed\tLoss: 0.0301\tNSE_Train: 0.8700000047683716\n",
      "Epoch: 87 Completed\tLoss: 0.03\tNSE_Train: 0.8700000047683716\n",
      "Epoch: 88 Completed\tLoss: 0.0298\tNSE_Train: 0.8700000047683716\n",
      "Epoch: 89 Completed\tLoss: 0.0283\tNSE_Train: 0.8700000047683716\n",
      "Epoch: 90 Completed\tLoss: 0.0269\tNSE_Train: 0.8799999952316284\n",
      "Epoch: 91 Completed\tLoss: 0.0266\tNSE_Train: 0.8799999952316284\n",
      "Epoch: 92 Completed\tLoss: 0.0274\tNSE_Train: 0.8799999952316284\n",
      "Epoch: 93 Completed\tLoss: 0.0263\tNSE_Train: 0.8799999952316284\n",
      "Epoch: 94 Completed\tLoss: 0.025\tNSE_Train: 0.8899999856948853\n",
      "Epoch: 95 Completed\tLoss: 0.0271\tNSE_Train: 0.8799999952316284\n",
      "Epoch: 96 Completed\tLoss: 0.0258\tNSE_Train: 0.8799999952316284\n",
      "Epoch: 97 Completed\tLoss: 0.0249\tNSE_Train: 0.8899999856948853\n",
      "Epoch: 98 Completed\tLoss: 0.0276\tNSE_Train: 0.8799999952316284\n",
      "Epoch: 99 Completed\tLoss: 0.0259\tNSE_Train: 0.8799999952316284\n",
      "Epoch: 100 Completed\tLoss: 0.0247\tNSE_Train: 0.8899999856948853\n",
      "Epoch: 101 Completed\tLoss: 0.0236\tNSE_Train: 0.8899999856948853\n",
      "Epoch: 102 Completed\tLoss: 0.0239\tNSE_Train: 0.8899999856948853\n",
      "Epoch: 103 Completed\tLoss: 0.0235\tNSE_Train: 0.8899999856948853\n",
      "Epoch: 104 Completed\tLoss: 0.0236\tNSE_Train: 0.8899999856948853\n",
      "Epoch: 105 Completed\tLoss: 0.0234\tNSE_Train: 0.8999999761581421\n",
      "Epoch: 106 Completed\tLoss: 0.0214\tNSE_Train: 0.8999999761581421\n",
      "Epoch: 107 Completed\tLoss: 0.0209\tNSE_Train: 0.9100000262260437\n",
      "Epoch: 108 Completed\tLoss: 0.0195\tNSE_Train: 0.9100000262260437\n",
      "Epoch: 109 Completed\tLoss: 0.0189\tNSE_Train: 0.9200000166893005\n",
      "Epoch: 110 Completed\tLoss: 0.0187\tNSE_Train: 0.9200000166893005\n",
      "Epoch: 111 Completed\tLoss: 0.0175\tNSE_Train: 0.9200000166893005\n",
      "Epoch: 112 Completed\tLoss: 0.0171\tNSE_Train: 0.9200000166893005\n",
      "Epoch: 113 Completed\tLoss: 0.0164\tNSE_Train: 0.9300000071525574\n",
      "Epoch: 114 Completed\tLoss: 0.0155\tNSE_Train: 0.9300000071525574\n",
      "Epoch: 115 Completed\tLoss: 0.0156\tNSE_Train: 0.9300000071525574\n",
      "Epoch: 116 Completed\tLoss: 0.0146\tNSE_Train: 0.9300000071525574\n",
      "Epoch: 117 Completed\tLoss: 0.014\tNSE_Train: 0.9399999976158142\n",
      "Epoch: 118 Completed\tLoss: 0.0133\tNSE_Train: 0.9399999976158142\n",
      "Epoch: 119 Completed\tLoss: 0.013\tNSE_Train: 0.9399999976158142\n",
      "Epoch: 120 Completed\tLoss: 0.0124\tNSE_Train: 0.9399999976158142\n",
      "Epoch: 121 Completed\tLoss: 0.0118\tNSE_Train: 0.949999988079071\n",
      "Epoch: 122 Completed\tLoss: 0.0116\tNSE_Train: 0.949999988079071\n",
      "Epoch: 123 Completed\tLoss: 0.0111\tNSE_Train: 0.949999988079071\n",
      "Epoch: 124 Completed\tLoss: 0.0108\tNSE_Train: 0.949999988079071\n",
      "Epoch: 125 Completed\tLoss: 0.0105\tNSE_Train: 0.949999988079071\n",
      "Epoch: 126 Completed\tLoss: 0.0102\tNSE_Train: 0.949999988079071\n",
      "Epoch: 127 Completed\tLoss: 0.0097\tNSE_Train: 0.9599999785423279\n",
      "Epoch: 128 Completed\tLoss: 0.0094\tNSE_Train: 0.9599999785423279\n",
      "Epoch: 129 Completed\tLoss: 0.0089\tNSE_Train: 0.9599999785423279\n",
      "Epoch: 130 Completed\tLoss: 0.0088\tNSE_Train: 0.9599999785423279\n",
      "Epoch: 131 Completed\tLoss: 0.0087\tNSE_Train: 0.9599999785423279\n",
      "Epoch: 132 Completed\tLoss: 0.008\tNSE_Train: 0.9599999785423279\n",
      "Epoch: 133 Completed\tLoss: 0.0078\tNSE_Train: 0.9700000286102295\n",
      "Epoch: 134 Completed\tLoss: 0.0077\tNSE_Train: 0.9700000286102295\n",
      "Epoch: 135 Completed\tLoss: 0.0074\tNSE_Train: 0.9700000286102295\n",
      "Epoch: 136 Completed\tLoss: 0.0071\tNSE_Train: 0.9700000286102295\n",
      "Epoch: 137 Completed\tLoss: 0.0071\tNSE_Train: 0.9700000286102295\n",
      "Epoch: 138 Completed\tLoss: 0.0066\tNSE_Train: 0.9700000286102295\n",
      "Epoch: 139 Completed\tLoss: 0.0075\tNSE_Train: 0.9700000286102295\n",
      "Epoch: 140 Completed\tLoss: 0.0102\tNSE_Train: 0.949999988079071\n",
      "Epoch: 141 Completed\tLoss: 0.009\tNSE_Train: 0.9599999785423279\n",
      "Epoch: 142 Completed\tLoss: 0.0087\tNSE_Train: 0.9599999785423279\n",
      "Epoch: 143 Completed\tLoss: 0.0081\tNSE_Train: 0.9599999785423279\n",
      "Epoch: 144 Completed\tLoss: 0.0068\tNSE_Train: 0.9700000286102295\n",
      "Epoch: 145 Completed\tLoss: 0.0073\tNSE_Train: 0.9700000286102295\n",
      "Epoch: 146 Completed\tLoss: 0.0071\tNSE_Train: 0.9700000286102295\n",
      "Epoch: 147 Completed\tLoss: 0.0067\tNSE_Train: 0.9700000286102295\n",
      "Epoch: 148 Completed\tLoss: 0.0063\tNSE_Train: 0.9700000286102295\n",
      "Epoch: 149 Completed\tLoss: 0.0059\tNSE_Train: 0.9700000286102295\n",
      "Epoch: 150 Completed\tLoss: 0.0057\tNSE_Train: 0.9700000286102295\n",
      "Epoch: 151 Completed\tLoss: 0.0056\tNSE_Train: 0.9700000286102295\n",
      "Epoch: 152 Completed\tLoss: 0.0057\tNSE_Train: 0.9700000286102295\n",
      "Epoch: 153 Completed\tLoss: 0.0057\tNSE_Train: 0.9700000286102295\n",
      "Epoch: 154 Completed\tLoss: 0.0055\tNSE_Train: 0.9800000190734863\n",
      "Epoch: 155 Completed\tLoss: 0.0052\tNSE_Train: 0.9800000190734863\n",
      "Epoch: 156 Completed\tLoss: 0.005\tNSE_Train: 0.9800000190734863\n",
      "Epoch: 157 Completed\tLoss: 0.0049\tNSE_Train: 0.9800000190734863\n",
      "Epoch: 158 Completed\tLoss: 0.0049\tNSE_Train: 0.9800000190734863\n",
      "Epoch: 159 Completed\tLoss: 0.005\tNSE_Train: 0.9800000190734863\n",
      "Epoch: 160 Completed\tLoss: 0.005\tNSE_Train: 0.9800000190734863\n",
      "Epoch: 161 Completed\tLoss: 0.005\tNSE_Train: 0.9800000190734863\n",
      "Epoch: 162 Completed\tLoss: 0.0049\tNSE_Train: 0.9800000190734863\n",
      "Epoch: 163 Completed\tLoss: 0.0048\tNSE_Train: 0.9800000190734863\n",
      "Epoch: 164 Completed\tLoss: 0.0047\tNSE_Train: 0.9800000190734863\n",
      "Epoch: 165 Completed\tLoss: 0.0047\tNSE_Train: 0.9800000190734863\n",
      "Epoch: 166 Completed\tLoss: 0.0046\tNSE_Train: 0.9800000190734863\n",
      "Epoch: 167 Completed\tLoss: 0.0046\tNSE_Train: 0.9800000190734863\n",
      "Epoch: 168 Completed\tLoss: 0.0046\tNSE_Train: 0.9800000190734863\n",
      "Epoch: 169 Completed\tLoss: 0.0046\tNSE_Train: 0.9800000190734863\n",
      "Epoch: 170 Completed\tLoss: 0.0045\tNSE_Train: 0.9800000190734863\n",
      "Epoch: 171 Completed\tLoss: 0.0045\tNSE_Train: 0.9800000190734863\n",
      "Epoch: 172 Completed\tLoss: 0.0045\tNSE_Train: 0.9800000190734863\n",
      "Epoch: 173 Completed\tLoss: 0.0044\tNSE_Train: 0.9800000190734863\n",
      "Epoch: 174 Completed\tLoss: 0.0044\tNSE_Train: 0.9800000190734863\n",
      "Epoch: 175 Completed\tLoss: 0.0044\tNSE_Train: 0.9800000190734863\n",
      "Epoch: 176 Completed\tLoss: 0.0043\tNSE_Train: 0.9800000190734863\n",
      "Epoch: 177 Completed\tLoss: 0.0043\tNSE_Train: 0.9800000190734863\n",
      "Epoch: 178 Completed\tLoss: 0.0043\tNSE_Train: 0.9800000190734863\n",
      "Epoch: 179 Completed\tLoss: 0.0043\tNSE_Train: 0.9800000190734863\n",
      "Epoch: 180 Completed\tLoss: 0.0042\tNSE_Train: 0.9800000190734863\n",
      "Epoch: 181 Completed\tLoss: 0.0042\tNSE_Train: 0.9800000190734863\n",
      "Epoch: 182 Completed\tLoss: 0.0042\tNSE_Train: 0.9800000190734863\n",
      "Epoch: 183 Completed\tLoss: 0.0042\tNSE_Train: 0.9800000190734863\n",
      "Epoch: 184 Completed\tLoss: 0.0042\tNSE_Train: 0.9800000190734863\n",
      "Epoch: 185 Completed\tLoss: 0.0041\tNSE_Train: 0.9800000190734863\n",
      "Epoch: 186 Completed\tLoss: 0.0041\tNSE_Train: 0.9800000190734863\n",
      "Epoch: 187 Completed\tLoss: 0.0041\tNSE_Train: 0.9800000190734863\n",
      "Epoch: 188 Completed\tLoss: 0.0041\tNSE_Train: 0.9800000190734863\n",
      "Epoch: 189 Completed\tLoss: 0.004\tNSE_Train: 0.9800000190734863\n",
      "Epoch: 190 Completed\tLoss: 0.004\tNSE_Train: 0.9800000190734863\n",
      "Epoch: 191 Completed\tLoss: 0.004\tNSE_Train: 0.9800000190734863\n",
      "Epoch: 192 Completed\tLoss: 0.004\tNSE_Train: 0.9800000190734863\n",
      "Epoch: 193 Completed\tLoss: 0.004\tNSE_Train: 0.9800000190734863\n",
      "Epoch: 194 Completed\tLoss: 0.0039\tNSE_Train: 0.9800000190734863\n",
      "Epoch: 195 Completed\tLoss: 0.0039\tNSE_Train: 0.9800000190734863\n",
      "Epoch: 196 Completed\tLoss: 0.0039\tNSE_Train: 0.9800000190734863\n",
      "Epoch: 197 Completed\tLoss: 0.0039\tNSE_Train: 0.9800000190734863\n",
      "Epoch: 198 Completed\tLoss: 0.0039\tNSE_Train: 0.9800000190734863\n",
      "Epoch: 199 Completed\tLoss: 0.0038\tNSE_Train: 0.9800000190734863\n",
      "Epoch: 200 Completed\tLoss: 0.0038\tNSE_Train: 0.9800000190734863\n"
     ]
    }
   ],
   "source": [
    "model, results = train_model(model, train_batch_loader)"
   ]
  },
  {
   "cell_type": "code",
   "execution_count": null,
   "metadata": {},
   "outputs": [
    {
     "data": {
      "image/png": "[encoded data removed]",
      "text/plain": [
       "<Figure size 640x480 with 1 Axes>"
      ]
     },
     "metadata": {},
     "output_type": "display_data"
    }
   ],
   "source": [
    "plt.plot([i for i in range(len(results))], results)\n",
    "plt.show()"
   ]
  },
  {
   "cell_type": "code",
   "execution_count": null,
   "metadata": {},
   "outputs": [
    {
     "name": "stdout",
     "output_type": "stream",
     "text": [
      "[0.035590678453445435, 0.03506901487708092, 0.03468771651387215, 0.03420206531882286, 0.0337773822247982, 0.03320521488785744, 0.03309902548789978, 0.03262331709265709, 0.03235291317105293, 0.03234301507472992, 0.03337564691901207, 0.03422632813453674, 0.03481723368167877, 0.03134022280573845, 0.03368193283677101, 0.03315882384777069, 0.03124253638088703, 0.03447363153100014, 0.03250929340720177, 0.031393252313137054, 0.031235039234161377, 0.030374864116311073, 0.030052021145820618, 0.02911059558391571, 0.02982124499976635, 0.028206834569573402, 0.028159530833363533, 0.027440650388598442, 0.026990249752998352, 0.027215491980314255, 0.025989914312958717, 0.0263200830668211, 0.025728657841682434, 0.02523801103234291, 0.025241153314709663, 0.024695241823792458, 0.024162957444787025, 0.024665355682373047, 0.023953989148139954, 0.02281331457197666, 0.024137742817401886, 0.023997638374567032, 0.022097600623965263, 0.02447906695306301, 0.023706071078777313, 0.022523634135723114, 0.022807864472270012, 0.020572742447257042, 0.02145504206418991, 0.020552586764097214, 0.01942737214267254, 0.01957128942012787, 0.01885642111301422, 0.018605265766382217, 0.017606981098651886, 0.01734221912920475, 0.01742703467607498, 0.016673749312758446, 0.016062140464782715, 0.015841800719499588, 0.015507873147726059, 0.015075694769620895, 0.015470480546355247, 0.014499776065349579, 0.013514135964214802, 0.013524370267987251, 0.012944541871547699, 0.012912898324429989, 0.012212549336254597, 0.011736934073269367, 0.011324325576424599, 0.011102026328444481, 0.01202060841023922, 0.01039138250052929, 0.009670466184616089, 0.009335959330201149, 0.009052840992808342, 0.008936547674238682, 0.008675524964928627, 0.008588079363107681, 0.008265431970357895, 0.008601951412856579, 0.007690081838518381, 0.007228515110909939, 0.0067337690852582455, 0.006831825245171785, 0.007865292020142078, 0.007206306792795658, 0.0060122450813651085, 0.006101612932980061, 0.005848305765539408, 0.0056649767793715, 0.0057171666994690895, 0.005614067427814007, 0.005352735985070467, 0.0052141668274998665, 0.004765727091580629, 0.004977140575647354, 0.00487750256434083, 0.0043979729525744915]\n"
     ]
    }
   ],
   "source": [
    "print(results[-100:])"
   ]
  },
  {
   "cell_type": "code",
   "execution_count": null,
   "metadata": {},
   "outputs": [],
   "source": [
    "test_data_x, test_data_y = concatanate_tensors(train_loader, [1])\n",
    "test_dataset = torch.utils.data.TensorDataset(test_data_x, test_data_y)\n",
    "test_batch_loader = torch.utils.data.DataLoader(test_dataset, batch_size= batch_size)"
   ]
  },
  {
   "cell_type": "code",
   "execution_count": null,
   "metadata": {},
   "outputs": [],
   "source": [
    "\n",
    "model.eval()\n",
    "with torch.no_grad():\n",
    "    test_data_x = test_data_x.to(device)\n",
    "    predicted_y_untransformed = model(test_data_x)\n",
    "    predicted_y_untransformed = predicted_y_untransformed.to(\"cpu\").numpy()\n",
    "    predicted_y = inverse_scale(scaler_out, predicted_y_untransformed)\n",
    "    test_data_y = test_data_y.to(\"cpu\").numpy()\n",
    "    test_data_y = inverse_scale(scaler_out, test_data_y)\n"
   ]
  },
  {
   "cell_type": "code",
   "execution_count": null,
   "metadata": {},
   "outputs": [
    {
     "name": "stdout",
     "output_type": "stream",
     "text": [
      "0.94\n"
     ]
    }
   ],
   "source": [
    "x = []\n",
    "test_data_y = test_data_y.reshape(test_data_y.shape[0])\n",
    "predicted_y = predicted_y.reshape(predicted_y.shape[0])\n",
    "\n",
    "print(calculate_NSE(test_data_y, predicted_y))\n",
    "# predicted_y = predicted_y.reshape(predicted_y.shape[0])"
   ]
  },
  {
   "cell_type": "code",
   "execution_count": null,
   "metadata": {},
   "outputs": [
    {
     "data": {
      "text/plain": [
       "<matplotlib.legend.Legend at 0x749989140e50>"
      ]
     },
     "execution_count": 40,
     "metadata": {},
     "output_type": "execute_result"
    },
    {
     "data": {
      "image/png": "[encoded data removed]",
      "text/plain": [
       "<Figure size 1000x600 with 1 Axes>"
      ]
     },
     "metadata": {},
     "output_type": "display_data"
    }
   ],
   "source": [
    "import matplotlib.pyplot as plt\n",
    "\n",
    "# Plot the actual and predicted streamflow values\n",
    "plt.figure(figsize=(10, 6))\n",
    "plt.plot(test_data_y, label='Actual Streamflow', color='blue')\n",
    "plt.plot(predicted_y, label='Predicted Streamflow', color='red', linestyle='--')\n",
    "\n",
    "# Adding labels and title\n",
    "plt.xlabel('Time Steps')\n",
    "plt.ylabel('Streamflow')\n",
    "plt.title('Actual vs Predicted Streamflow (Combined Model)')\n",
    "plt.legend()\n",
    "# plt.savefig('Combined_Model')|"
   ]
  },
  {
   "cell_type": "code",
   "execution_count": null,
   "metadata": {},
   "outputs": [],
   "source": []
  }
 ],
 "metadata": {
  "kernelspec": {
   "display_name": "Python 3",
   "language": "python",
   "name": "python3"
  },
  "language_info": {
   "codemirror_mode": {
    "name": "ipython",
    "version": 3
   },
   "file_extension": ".py",
   "mimetype": "text/x-python",
   "name": "python",
   "nbconvert_exporter": "python",
   "pygments_lexer": "ipython3",
   "version": "3.10.12"
  }
 },
 "nbformat": 4,
 "nbformat_minor": 2
}
