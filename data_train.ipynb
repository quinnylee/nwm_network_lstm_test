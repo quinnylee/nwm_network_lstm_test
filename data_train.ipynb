{
 "cells": [
  {
   "cell_type": "code",
   "execution_count": 74,
   "metadata": {},
   "outputs": [],
   "source": [
    "import numpy as np\n",
    "import pandas as pd\n",
    "import matplotlib.pyplot as plt\n",
    "from IPython.display import clear_output\n",
    "import math\n",
    "import torch\n",
    "import torch.nn as nn\n",
    "import torch.optim as optim\n",
    "from torch.autograd import Variable\n",
    "from sklearn.preprocessing import StandardScaler\n",
    "from tqdm.notebook import tqdm\n",
    "from torchinfo import summary\n",
    "from adopt import ADOPT"
   ]
  },
  {
   "cell_type": "code",
   "execution_count": 75,
   "metadata": {},
   "outputs": [],
   "source": [
    "data = pd.read_csv(\"data/data1003.csv\")"
   ]
  },
  {
   "cell_type": "code",
   "execution_count": 76,
   "metadata": {},
   "outputs": [
    {
     "name": "stdout",
     "output_type": "stream",
     "text": [
      "The number of features available to us: 62\n",
      "Empty DataFrame\n",
      "Columns: [Unnamed: 0, time, DLWRF_surface, PRES_surface, SPFH_2maboveground, precip_rate, DSWRF_surface, TMP_2maboveground, UGRD_10maboveground, VGRD_10maboveground, APCP_surface, streamflow, elevation_mean, slope_mean, impervious_mean, aspect_c_mean, twi_dist_4, X, Y, gw_Coeff, gw_Zmax, gw_Expon, bexp_soil_layers_stag=1, bexp_soil_layers_stag=2, bexp_soil_layers_stag=3, bexp_soil_layers_stag=4, ISLTYP, IVGTYP, dksat_soil_layers_stag=1, dksat_soil_layers_stag=2, dksat_soil_layers_stag=3, dksat_soil_layers_stag=4, psisat_soil_layers_stag=1, psisat_soil_layers_stag=2, psisat_soil_layers_stag=3, psisat_soil_layers_stag=4, cwpvt, mfsno, mp, quartz_soil_layers_stag=1, quartz_soil_layers_stag=2, quartz_soil_layers_stag=3, quartz_soil_layers_stag=4, refkdt, slope, smcmax_soil_layers_stag=1, smcmax_soil_layers_stag=2, smcmax_soil_layers_stag=3, smcmax_soil_layers_stag=4, smcwlt_soil_layers_stag=1, smcwlt_soil_layers_stag=2, smcwlt_soil_layers_stag=3, smcwlt_soil_layers_stag=4, vcmx25, catchment_id, du, x, y, pair_id, ID, Shape_Length, Shape_Area]\n",
      "Index: []\n",
      "\n",
      "[0 rows x 62 columns]\n"
     ]
    }
   ],
   "source": [
    "print(f\"The number of features available to us: {data.shape[1]}\")\n",
    "print(data.head(0))"
   ]
  },
  {
   "cell_type": "code",
   "execution_count": 77,
   "metadata": {},
   "outputs": [
    {
     "name": "stdout",
     "output_type": "stream",
     "text": [
      "The number of networks we have:\t7\n",
      "The number of data points in each network:\t696\n",
      "The number of features in each network:\t117\n"
     ]
    }
   ],
   "source": [
    "def load_data_in_dictionary(data):\n",
    "    '''This loads the data into a dictionary. each index of dictionary has a pair of watersheds, \n",
    "       upper and lower, and their features are merged in the for loop below'''\n",
    "    num_networks = 0\n",
    "    network_dict = {}\n",
    "    broken_pairs = []\n",
    "    for i in range(int((data['pair_id']).max())+1):\n",
    "        try:\n",
    "            downstream = data[(data['pair_id']== i) & (data['du'] == 'd')]\n",
    "            upstream = data[(data['pair_id']== i) & (data['du'] == 'u')]\n",
    "            #print(downstream)\n",
    "            #print(upstream)\n",
    "            if downstream.empty or downstream.isnull().values.any():\n",
    "                print(i, \" DS is empty\")\n",
    "                continue\n",
    "            if upstream.empty or upstream.isnull().values.any():\n",
    "                print(i, \" US is empty\")\n",
    "                continue\n",
    "            '''area_ratio = upstream.iloc[0][\"Shape_Area\"] / downstream.iloc[0][\"Shape_Area\"]\n",
    "            if area_ratio > 1:\n",
    "                print(i, \" area ratio too large\")\n",
    "                continue\n",
    "            if abs(downstream.iloc[-1]['ID'] - upstream.iloc[-1]['ID']) > 100:\n",
    "                print(i, \" DS and US too far apart\")\n",
    "                continue'''\n",
    "            network = downstream.merge(upstream, on=\"time\")\n",
    "            network.drop([\"x_x\", \"y_x\", \"pair_id_x\", \"x_y\", \"y_y\", \"pair_id_y\"], axis=1, inplace=True)\n",
    "            network_dict[num_networks] = network\n",
    "            num_networks += 1\n",
    "        except:\n",
    "            broken_pairs.append(i)\n",
    "            raise Exception\n",
    "    return network_dict, broken_pairs, num_networks\n",
    "\n",
    "\n",
    "\n",
    "network_dict, num_networks, broken_pairs = load_data_in_dictionary(data)\n",
    "\n",
    "print(f\"The number of networks we have:\\t{len(network_dict)}\")\n",
    "print(f\"The number of data points in each network:\\t{network_dict[0].shape[0]}\")\n",
    "print(f\"The number of features in each network:\\t{network_dict[0].shape[1]}\")"
   ]
  },
  {
   "cell_type": "code",
   "execution_count": 78,
   "metadata": {},
   "outputs": [],
   "source": [
    "def correlation_with_lstm_output(correlation_inputs, correlation_outputs):\n",
    "    correlation_data = correlation_inputs + correlation_outputs\n",
    "    frames = [network_dict[ibuc].loc[:, correlation_data] for ibuc in [0,1,5,6]]\n",
    "    df_in = pd.concat(frames)\n",
    "    correlation_matrix = np.corrcoef(df_in)\n",
    "\n",
    "    for i in range(len(correlation_outputs)):\n",
    "        print(f\"Correlation with {correlation_outputs[i]}\")\n",
    "        for j in range(len(correlation_data)):\n",
    "            print(f\"{correlation_data[j]}: {correlation_matrix[i+len(correlation_inputs)][j]}\")\n",
    "\n"
   ]
  },
  {
   "cell_type": "code",
   "execution_count": 79,
   "metadata": {},
   "outputs": [
    {
     "name": "stdout",
     "output_type": "stream",
     "text": [
      "The number of features for LSTM model:\t19\n"
     ]
    }
   ],
   "source": [
    "#among all the features in the dataset, we will be working on thses features. If you want to add a new feature, see the datafile and add features as you like\n",
    "\n",
    "lstm_inputs = [\n",
    "    'precip_rate_x', \n",
    "    'TMP_2maboveground_x', \n",
    "    'UGRD_10maboveground_x',\n",
    "    'APCP_surface_x', \n",
    "    'elevation_mean_x', 'slope_mean_x', 'Shape_Area_x',\n",
    "    'impervious_mean_x', 'dksat_soil_layers_stag=1_x', \n",
    "    'streamflow_x',\n",
    "    'precip_rate_y', \n",
    "    'TMP_2maboveground_y', \n",
    "    'UGRD_10maboveground_y',\n",
    "    'APCP_surface_y', \n",
    "    'elevation_mean_y', 'slope_mean_y', 'Shape_Area_y',\n",
    "    'impervious_mean_y', 'dksat_soil_layers_stag=1_y']\n",
    "\n",
    "\n",
    "n_input = len(lstm_inputs)\n",
    "\n",
    "lstm_outputs = ['streamflow_y']     #this is what we will be trying to predict using the LSTM model\n",
    "n_output = len(lstm_outputs)\n",
    "print(f\"The number of features for LSTM model:\\t{n_input}\")"
   ]
  },
  {
   "cell_type": "code",
   "execution_count": 80,
   "metadata": {},
   "outputs": [
    {
     "name": "stdout",
     "output_type": "stream",
     "text": [
      "Correlation with streamflow_y\n",
      "APCP_surface_x: 0.9999999747385039\n",
      "TMP_2maboveground_x: 0.9999999775523916\n",
      "DSWRF_surface_x: 0.9999999790033776\n",
      "DLWRF_surface_x: 0.9999999988281622\n",
      "PRES_surface_x: 0.9999999986065536\n",
      "UGRD_10maboveground_x: 0.9999999993743482\n",
      "VGRD_10maboveground_x: 0.9999999930775616\n",
      "SPFH_2maboveground_x: 0.9999999929204678\n",
      "elevation_mean_x: 0.9999999932876569\n",
      "slope_mean_x: 0.9999999802979805\n",
      "Shape_Area_x: 0.999999980020199\n",
      "impervious_mean_x: 0.9999999794893975\n",
      "dksat_soil_layers_stag=1_x: 0.9999998947844357\n",
      "streamflow_x: 0.9999975569998939\n",
      "APCP_surface_y: 0.999992221109325\n",
      "TMP_2maboveground_y: 0.9999835983734059\n",
      "DSWRF_surface_y: 0.9999742449158907\n",
      "DLWRF_surface_y: 0.9999676163799787\n",
      "PRES_surface_y: 0.9999633792254142\n",
      "UGRD_10maboveground_y: 0.9999654934975047\n",
      "VGRD_10maboveground_y: 0.9999723923416026\n",
      "SPFH_2maboveground_y: 0.9999823704574873\n",
      "elevation_mean_y: 0.9999922738661662\n",
      "slope_mean_y: 0.9999977422811037\n",
      "Shape_Area_y: 0.9999999905535563\n",
      "impervious_mean_y: 0.9999999941065213\n",
      "dksat_soil_layers_stag=1_y: 0.9999999948509023\n",
      "streamflow_y: 1.0\n"
     ]
    }
   ],
   "source": [
    "correlation_inputs = [\n",
    "    # 'precip_rate_x', \n",
    "    'APCP_surface_x', \n",
    "               'TMP_2maboveground_x', \n",
    "    'DSWRF_surface_x', 'DLWRF_surface_x', 'PRES_surface_x', \n",
    "    'UGRD_10maboveground_x', 'VGRD_10maboveground_x', 'SPFH_2maboveground_x', \n",
    "    'elevation_mean_x', 'slope_mean_x', 'Shape_Area_x',\n",
    "    'impervious_mean_x', 'dksat_soil_layers_stag=1_x', \n",
    "    'streamflow_x',\n",
    "    # 'precip_rate_y', \n",
    "    'APCP_surface_y', \n",
    "    'TMP_2maboveground_y',\n",
    "    'DSWRF_surface_y', 'DLWRF_surface_y', 'PRES_surface_y',\n",
    "    'UGRD_10maboveground_y', 'VGRD_10maboveground_y', 'SPFH_2maboveground_y',\n",
    "    'elevation_mean_y', 'slope_mean_y', 'Shape_Area_y',\n",
    "    'impervious_mean_y', 'dksat_soil_layers_stag=1_y']\n",
    "\n",
    "correlation_with_lstm_output(correlation_inputs, lstm_outputs)"
   ]
  },
  {
   "cell_type": "code",
   "execution_count": 81,
   "metadata": {},
   "outputs": [
    {
     "name": "stdout",
     "output_type": "stream",
     "text": [
      "Using CUDA device: NVIDIA A100-SXM4-40GB\n"
     ]
    }
   ],
   "source": [
    "if torch.cuda.is_available():\n",
    "    device = torch.device(\"cuda:0\")\n",
    "    print(\"Using CUDA device:\", torch.cuda.get_device_name(0))\n",
    "elif torch.backends.mps.is_available():\n",
    "    device = torch.device(\"mps\")\n",
    "    print(\"Using Apple M3/M2/M1 (Metal) device\")\n",
    "else:\n",
    "    device = 'cpu'\n",
    "    print(\"Using CPU\")\n",
    "\n",
    "batch_size = 1704\n",
    "seq_length = 270"
   ]
  },
  {
   "cell_type": "code",
   "execution_count": 82,
   "metadata": {},
   "outputs": [
    {
     "name": "stdout",
     "output_type": "stream",
     "text": [
      "1\n"
     ]
    }
   ],
   "source": [
    "n_networks = len(network_dict)\n",
    "\n",
    "n_networks_split = {\"train\": (math.floor(n_networks * 0.7)), \"val\": math.floor(n_networks * 0.2), \"test\": math.floor(n_networks * 0.1)}\n",
    "print(n_networks_split['val'])"
   ]
  },
  {
   "cell_type": "code",
   "execution_count": 83,
   "metadata": {},
   "outputs": [
    {
     "name": "stdout",
     "output_type": "stream",
     "text": [
      "Since the dataset is small and no basins are available for testing. We give a random bucket to test.\n",
      "The networks for training is [0, 1, 2, 3, 4]\n",
      "The networks for validation is [5]\n",
      "The networks testing is [5]\n"
     ]
    }
   ],
   "source": [
    "def split_parameters(n_networks):\n",
    "    # create lists of network indices for each set based on the given network splits\n",
    "    networks_for_training = list(range(0, n_networks_split['train'] + 1))\n",
    "    networks_for_val = list(range(n_networks_split['train'] + 1, \n",
    "                                 n_networks_split['train'] + n_networks_split['val'] + 1))\n",
    "\n",
    "    if (n_networks_split['test'] > 0):\n",
    "        networks_for_test = list(range(n_networks - n_networks_split['test'], n_networks))\n",
    "    else:\n",
    "        print(\"Since the dataset is small and no basins are available for testing. We give a random bucket to test.\")\n",
    "        random_bucket = np.random.randint(0, n_networks)\n",
    "        networks_for_test = [random_bucket]\n",
    "    \n",
    "    # organize the split parameters into separate lists for each set\n",
    "    train_split_parameters = [networks_for_training]\n",
    "    val_split_parameters = [networks_for_val]\n",
    "    test_split_parameters = [networks_for_test]\n",
    "\n",
    "    return [train_split_parameters, val_split_parameters, test_split_parameters]\n",
    "\n",
    "[[networks_for_training], [networks_for_val], [networks_for_test]] = split_parameters(n_networks)\n",
    "print(f\"The networks for training is {networks_for_training}\")\n",
    "print(f\"The networks for validation is {networks_for_val}\")\n",
    "print(f\"The networks testing is {networks_for_test}\")"
   ]
  },
  {
   "cell_type": "code",
   "execution_count": 84,
   "metadata": {},
   "outputs": [
    {
     "name": "stdout",
     "output_type": "stream",
     "text": [
      "Network: 0\n",
      "Streamflow (downstream) mean: 0.42\n",
      "Streamflow (upstream) mean: 0.42\n",
      "Network: 1\n",
      "Streamflow (downstream) mean: 0.06\n",
      "Streamflow (upstream) mean: 0.13\n",
      "Network: 2\n",
      "Streamflow (downstream) mean: 0.09\n",
      "Streamflow (upstream) mean: 0.12\n",
      "Network: 3\n",
      "Streamflow (downstream) mean: 0.28\n",
      "Streamflow (upstream) mean: 0.29\n",
      "Network: 4\n",
      "Streamflow (downstream) mean: 0.48\n",
      "Streamflow (upstream) mean: 2.11\n",
      "Network: 5\n",
      "Streamflow (downstream) mean: 0.55\n",
      "Streamflow (upstream) mean: 0.63\n"
     ]
    }
   ],
   "source": [
    "def viz_networks(ibuc):\n",
    "    fig, ax = plt.subplots()\n",
    "    print('Network:', ibuc)\n",
    "    print(\"Streamflow (downstream) mean:\", np.round(network_dict[ibuc].streamflow_x.mean(),2))\n",
    "    print(\"Streamflow (upstream) mean:\", np.round(network_dict[ibuc].streamflow_y.mean(),2))\n",
    "\n",
    "    # network_dict[ibuc].loc[:2000,['precip_rate_x']].plot(ax=ax, legend=False)\n",
    "    network_dict[ibuc].loc[:2000,['streamflow_y']].plot(ax=ax, legend=False)\n",
    "    # network_dict[ibuc].loc[:2000,['APCP_surface_y']].plot(ax=ax, legend=False)\n",
    "    # network_dict[ibuc].loc[:2000,['streamflow_x']].plot(ax=ax, legend=False)\n",
    "    # network_dict[ibuc].loc[:2000,['APCP_surface_x']].plot(ax=ax, legend=False)\n",
    "    ax.set_title('Streamflow')\n",
    "    ax.set_xlabel('Time (h)')\n",
    "    ax.set_ylabel('Streamflow')\n",
    "\n",
    "    ax.legend([\"Streamflow_y\", \"APCP_surface_x\"])\n",
    "    \n",
    "    # plt.show()\n",
    "    plt.close()\n",
    "\n",
    "def viz_networks2(ibuc):\n",
    "    fig, ax1 = plt.subplots()\n",
    "    print('Network:', ibuc)\n",
    "    print(\"Streamflow (downstream) mean:\", np.round(network_dict[ibuc].streamflow_x.mean(), 2))\n",
    "    print(\"Streamflow (upstream) mean:\", np.round(network_dict[ibuc].streamflow_y.mean(), 2))\n",
    "\n",
    "    # Plot streamflow_y on the primary y-axis\n",
    "    network_dict[ibuc].loc[:2000, ['streamflow_x']].plot(ax=ax1, color = 'blue', legend=False)\n",
    "    network_dict[ibuc].loc[:2000, ['streamflow_y']].plot(ax=ax1, color = 'purple', legend=False)\n",
    "    ax1.set_title('Streamflow and Precipitation')\n",
    "    ax1.set_xlabel('Time (h)')\n",
    "    ax1.set_ylabel('Streamflow')\n",
    "    \n",
    "    # Create a secondary y-axis and plot APCP_surface_x on it\n",
    "    ax2 = ax1.twinx()\n",
    "    network_dict[ibuc].loc[:2000, ['APCP_surface_x']].plot(ax=ax2, color='orange', legend=False)\n",
    "    \n",
    "    network_dict[ibuc].loc[:2000, ['APCP_surface_y']].plot(ax=ax2, color='red', legend=False)\n",
    "    ax2.set_ylabel('APCP Surface')\n",
    "    \n",
    "    # Add legends for each axis\n",
    "    ax1.legend([\"Streamflow_y\"], loc='upper left')\n",
    "    ax2.legend([\"APCP_surface_x\"], loc='upper right')\n",
    "    \n",
    "    # plt.show()\n",
    "    plt.close()\n",
    "\n",
    "    \n",
    "\n",
    "displayed = 0\n",
    "\n",
    "for ibuc in networks_for_training:\n",
    "    viz_networks(ibuc)\n",
    "    displayed += 1\n",
    "\n",
    "\n",
    "for ibuc in networks_for_val:\n",
    "    viz_networks(ibuc)\n",
    "    displayed += 1"
   ]
  },
  {
   "cell_type": "code",
   "execution_count": 85,
   "metadata": {},
   "outputs": [],
   "source": [
    "\n",
    "\n",
    "class LSTM1(nn.Module):\n",
    "    def __init__(self, input_size, num_classes):\n",
    "        super(LSTM1, self).__init__()\n",
    "        self.num_classes = num_classes\n",
    "        self.input_size = input_size\n",
    "\n",
    "        self.lstm1 = nn.LSTM(input_size=input_size, hidden_size=128, batch_first=True)\n",
    "        self.lstm2 = nn.LSTM(input_size=128, hidden_size=256, batch_first=True)\n",
    "        self.relu2 = nn.ReLU()\n",
    "        self.normalization1 = nn.BatchNorm1d(256)\n",
    "        # Fully connected layers\n",
    "        self.fc = nn.Sequential(\n",
    "            nn.Linear(256, 128, bias=True),\n",
    "            nn.ReLU(),\n",
    "            nn.BatchNorm1d(128),\n",
    "            nn.Linear(128, 64, bias = True),\n",
    "            nn.ReLU(),\n",
    "            nn.Linear(64, num_classes, bias=True)\n",
    "        )\n",
    "\n",
    "    def forward(self, x):\n",
    "        out, _= self.lstm1(x)\n",
    "        out, _ = self.lstm2(out)\n",
    "        out = self.relu2(out)\n",
    "        out = out[:,-1, :]\n",
    "        out = self.normalization1(out)\n",
    "\n",
    "        prediction = self.fc(out)\n",
    "        return prediction\n",
    "\n"
   ]
  },
  {
   "cell_type": "code",
   "execution_count": 86,
   "metadata": {},
   "outputs": [],
   "source": [
    "\n",
    "model = LSTM1(input_size=n_input, num_classes=n_output).to(device)"
   ]
  },
  {
   "cell_type": "code",
   "execution_count": 87,
   "metadata": {},
   "outputs": [],
   "source": [
    "def fit_scaler():\n",
    "    frames = [network_dict[ibuc].loc[:, lstm_inputs] for ibuc in networks_for_training]\n",
    "    df_in = pd.concat(frames)   \n",
    "    print(df_in.shape)\n",
    "    scaler_in = StandardScaler()\n",
    "    scaler_in.fit(df_in)\n",
    "\n",
    "    frames = [network_dict[ibuc].loc[:, lstm_outputs] for ibuc in networks_for_training]\n",
    "    df_out = pd.concat(frames)    \n",
    "    print(df_out.shape)\n",
    "    scaler_out = StandardScaler()\n",
    "    scaler_out.fit(df_out)\n",
    "    return scaler_in, scaler_out"
   ]
  },
  {
   "cell_type": "code",
   "execution_count": 88,
   "metadata": {},
   "outputs": [
    {
     "name": "stdout",
     "output_type": "stream",
     "text": [
      "(3480, 19)\n",
      "(3480, 1)\n"
     ]
    }
   ],
   "source": [
    "scaler_in, scaler_out = fit_scaler()"
   ]
  },
  {
   "cell_type": "code",
   "execution_count": 89,
   "metadata": {},
   "outputs": [],
   "source": [
    "def make_data_loader(network_list):\n",
    "    loader = {}\n",
    "    np_seq_X = {}\n",
    "    np_seq_y = {}\n",
    "    for ibuc in network_list:\n",
    "        df = network_dict[ibuc]\n",
    "        scaler_in_i = scaler_in.transform(df.loc[:, lstm_inputs])\n",
    "        scaler_out_i = scaler_out.transform(df.loc[:, lstm_outputs])\n",
    "        \n",
    "        n_samples = scaler_in_i.shape[0] - seq_length\n",
    "        \n",
    "        np_seq_X[ibuc] = np.zeros((n_samples, seq_length, n_input))\n",
    "        np_seq_y[ibuc] = np.zeros((n_samples, n_output)) \n",
    "\n",
    "        for i in range(n_samples):\n",
    "            t = i + seq_length\n",
    "            np_seq_X[ibuc][i, :, :] = scaler_in_i[i:t, :]\n",
    "            np_seq_y[ibuc][i, :] = scaler_out_i[t, :]\n",
    "\n",
    "        ds = [torch.Tensor(np_seq_X[ibuc]), torch.Tensor(np_seq_y[ibuc])]\n",
    "        loader[ibuc] = ds\n",
    "    return loader, np_seq_X, np_seq_y"
   ]
  },
  {
   "cell_type": "code",
   "execution_count": 90,
   "metadata": {},
   "outputs": [],
   "source": [
    "train_loader, np_train_seq_X, np_train_seq_y = make_data_loader([0,1,5,6])\n",
    "val_loader, np_val_seq_X, np_val_seq_y = make_data_loader(networks_for_val)\n",
    "test_loader, np_test_seq_X, np_test_seq_y = make_data_loader(networks_for_test)"
   ]
  },
  {
   "cell_type": "code",
   "execution_count": 91,
   "metadata": {},
   "outputs": [
    {
     "name": "stdout",
     "output_type": "stream",
     "text": [
      "Each network has 426 data points\n",
      "Each data point is made up of sequence of 270 timesteps\n",
      "Each time step has 19 features.\n"
     ]
    }
   ],
   "source": [
    "# print(train_loader[0][0].shape)\n",
    "print(f\"Each network has {train_loader[0][0].shape[0]} data points\")\n",
    "print(f\"Each data point is made up of sequence of {train_loader[0][0].shape[1]} timesteps\")\n",
    "print(f\"Each time step has {train_loader[0][0].shape[2]} features.\")"
   ]
  },
  {
   "cell_type": "code",
   "execution_count": 92,
   "metadata": {},
   "outputs": [],
   "source": [
    "def concatanate_tensors(loader,  networks):\n",
    "    concatanated_tensor_x = loader[networks[0]][0]\n",
    "    concatanated_tensor_y = loader[networks[0]][1]\n",
    "\n",
    "    for i in range(len(networks) - 1):\n",
    "        concatanated_tensor_x = torch.cat((concatanated_tensor_x, loader[networks[i+1]][0]))\n",
    "        concatanated_tensor_y = torch.cat((concatanated_tensor_y, loader[networks[i+1]][1]))\n",
    "    return concatanated_tensor_x, concatanated_tensor_y    \n",
    "\n",
    "  "
   ]
  },
  {
   "cell_type": "code",
   "execution_count": 93,
   "metadata": {},
   "outputs": [],
   "source": [
    "\n",
    "train_data_x, train_data_y = concatanate_tensors(train_loader, [0,1,5,6])\n",
    "val_data_x, val_data_y = concatanate_tensors(val_loader, networks_for_val)\n",
    "test_data_x, test_data_y = concatanate_tensors(test_loader, networks_for_test)"
   ]
  },
  {
   "cell_type": "code",
   "execution_count": 94,
   "metadata": {},
   "outputs": [
    {
     "name": "stdout",
     "output_type": "stream",
     "text": [
      "Since each epoch will only have 1 batch of data, the batch size is set to the length of the entire data, which is 1704.\n"
     ]
    }
   ],
   "source": [
    "batch_size = train_data_y.shape[0]\n",
    "train_dataset = torch.utils.data.TensorDataset(train_data_x, train_data_y)\n",
    "train_batch_loader = torch.utils.data.DataLoader(train_dataset, batch_size= batch_size)\n",
    "val_dataset = torch.utils.data.TensorDataset(val_data_x, val_data_y)\n",
    "val_batch_loader = torch.utils.data.DataLoader(val_dataset, batch_size= batch_size)\n",
    "test_dataset = torch.utils.data.TensorDataset(test_data_x, test_data_y)\n",
    "test_batch_loader = torch.utils.data.DataLoader(test_dataset, batch_size= batch_size)\n",
    "print(f\"Since each epoch will only have 1 batch of data, the batch size is set to the length of the entire data, which is {batch_size}.\")"
   ]
  },
  {
   "cell_type": "code",
   "execution_count": null,
   "metadata": {},
   "outputs": [],
   "source": [
    "def train_model(lstm, train_batch_loader):\n",
    "    criterion = nn.MSELoss()\n",
    "    optimizer = optim.AdamW(lstm.parameters(), lr= .0001)\n",
    "    scheduler = torch.optim.lr_scheduler.ReduceLROnPlateau(optimizer, patience=5, factor=0.1)\n",
    "    epochs = 200\n",
    "    loss_history = []\n",
    "    for epoch in range(epochs):\n",
    "        for data, targets in train_batch_loader:\n",
    "            x = data.to(device=device)\n",
    "            y = targets.to(device=device)\n",
    "\n",
    "            optimizer.zero_grad()\n",
    "            predicted_y = lstm(x)\n",
    "            loss = criterion(predicted_y, y)\n",
    "\n",
    "            loss_history.append(loss.item())\n",
    "\n",
    "            loss.backward()\n",
    "            optimizer.step()\n",
    "            scheduler.step(loss)\n",
    "\n",
    "        print(f\"Epoch: {epoch + 1} Completed\\tLoss: {round(loss_history[-1], 4)}\")\n",
    "\n",
    "    return lstm, loss_history"
   ]
  },
  {
   "cell_type": "code",
   "execution_count": 96,
   "metadata": {},
   "outputs": [
    {
     "name": "stdout",
     "output_type": "stream",
     "text": [
      "Epoch: 1 Completed\tLoss: 0.2802\n",
      "Epoch: 2 Completed\tLoss: 0.2327\n",
      "Epoch: 3 Completed\tLoss: 0.2046\n",
      "Epoch: 4 Completed\tLoss: 0.1854\n",
      "Epoch: 5 Completed\tLoss: 0.1715\n",
      "Epoch: 6 Completed\tLoss: 0.1601\n",
      "Epoch: 7 Completed\tLoss: 0.1501\n",
      "Epoch: 8 Completed\tLoss: 0.1423\n",
      "Epoch: 9 Completed\tLoss: 0.1368\n",
      "Epoch: 10 Completed\tLoss: 0.132\n",
      "Epoch: 11 Completed\tLoss: 0.1277\n",
      "Epoch: 12 Completed\tLoss: 0.124\n",
      "Epoch: 13 Completed\tLoss: 0.1205\n",
      "Epoch: 14 Completed\tLoss: 0.1173\n",
      "Epoch: 15 Completed\tLoss: 0.1145\n",
      "Epoch: 16 Completed\tLoss: 0.1118\n",
      "Epoch: 17 Completed\tLoss: 0.1092\n",
      "Epoch: 18 Completed\tLoss: 0.107\n",
      "Epoch: 19 Completed\tLoss: 0.1047\n",
      "Epoch: 20 Completed\tLoss: 0.1023\n",
      "Epoch: 21 Completed\tLoss: 0.0999\n",
      "Epoch: 22 Completed\tLoss: 0.0976\n",
      "Epoch: 23 Completed\tLoss: 0.0953\n",
      "Epoch: 24 Completed\tLoss: 0.0931\n",
      "Epoch: 25 Completed\tLoss: 0.0911\n",
      "Epoch: 26 Completed\tLoss: 0.0891\n",
      "Epoch: 27 Completed\tLoss: 0.0872\n",
      "Epoch: 28 Completed\tLoss: 0.0853\n",
      "Epoch: 29 Completed\tLoss: 0.0835\n",
      "Epoch: 30 Completed\tLoss: 0.0818\n",
      "Epoch: 31 Completed\tLoss: 0.0801\n",
      "Epoch: 32 Completed\tLoss: 0.0785\n",
      "Epoch: 33 Completed\tLoss: 0.077\n",
      "Epoch: 34 Completed\tLoss: 0.0755\n",
      "Epoch: 35 Completed\tLoss: 0.074\n",
      "Epoch: 36 Completed\tLoss: 0.0727\n",
      "Epoch: 37 Completed\tLoss: 0.0715\n",
      "Epoch: 38 Completed\tLoss: 0.0703\n",
      "Epoch: 39 Completed\tLoss: 0.0692\n",
      "Epoch: 40 Completed\tLoss: 0.068\n",
      "Epoch: 41 Completed\tLoss: 0.0669\n",
      "Epoch: 42 Completed\tLoss: 0.0658\n",
      "Epoch: 43 Completed\tLoss: 0.0648\n",
      "Epoch: 44 Completed\tLoss: 0.0638\n",
      "Epoch: 45 Completed\tLoss: 0.063\n",
      "Epoch: 46 Completed\tLoss: 0.0621\n",
      "Epoch: 47 Completed\tLoss: 0.0612\n",
      "Epoch: 48 Completed\tLoss: 0.0604\n",
      "Epoch: 49 Completed\tLoss: 0.0596\n",
      "Epoch: 50 Completed\tLoss: 0.0589\n",
      "Epoch: 51 Completed\tLoss: 0.0582\n",
      "Epoch: 52 Completed\tLoss: 0.0576\n",
      "Epoch: 53 Completed\tLoss: 0.057\n",
      "Epoch: 54 Completed\tLoss: 0.0564\n",
      "Epoch: 55 Completed\tLoss: 0.0558\n",
      "Epoch: 56 Completed\tLoss: 0.0553\n",
      "Epoch: 57 Completed\tLoss: 0.0547\n",
      "Epoch: 58 Completed\tLoss: 0.0542\n",
      "Epoch: 59 Completed\tLoss: 0.0537\n",
      "Epoch: 60 Completed\tLoss: 0.0531\n",
      "Epoch: 61 Completed\tLoss: 0.0528\n",
      "Epoch: 62 Completed\tLoss: 0.0533\n",
      "Epoch: 63 Completed\tLoss: 0.0535\n",
      "Epoch: 64 Completed\tLoss: 0.0526\n",
      "Epoch: 65 Completed\tLoss: 0.0512\n",
      "Epoch: 66 Completed\tLoss: 0.0525\n",
      "Epoch: 67 Completed\tLoss: 0.0509\n",
      "Epoch: 68 Completed\tLoss: 0.0504\n",
      "Epoch: 69 Completed\tLoss: 0.0505\n",
      "Epoch: 70 Completed\tLoss: 0.0488\n",
      "Epoch: 71 Completed\tLoss: 0.0496\n",
      "Epoch: 72 Completed\tLoss: 0.048\n",
      "Epoch: 73 Completed\tLoss: 0.0485\n",
      "Epoch: 74 Completed\tLoss: 0.0481\n",
      "Epoch: 75 Completed\tLoss: 0.0471\n",
      "Epoch: 76 Completed\tLoss: 0.0478\n",
      "Epoch: 77 Completed\tLoss: 0.0463\n",
      "Epoch: 78 Completed\tLoss: 0.0461\n",
      "Epoch: 79 Completed\tLoss: 0.0457\n",
      "Epoch: 80 Completed\tLoss: 0.0446\n",
      "Epoch: 81 Completed\tLoss: 0.0447\n",
      "Epoch: 82 Completed\tLoss: 0.044\n",
      "Epoch: 83 Completed\tLoss: 0.0434\n",
      "Epoch: 84 Completed\tLoss: 0.0428\n",
      "Epoch: 85 Completed\tLoss: 0.0426\n",
      "Epoch: 86 Completed\tLoss: 0.042\n",
      "Epoch: 87 Completed\tLoss: 0.0414\n",
      "Epoch: 88 Completed\tLoss: 0.0421\n",
      "Epoch: 89 Completed\tLoss: 0.0417\n",
      "Epoch: 90 Completed\tLoss: 0.0414\n",
      "Epoch: 91 Completed\tLoss: 0.0397\n",
      "Epoch: 92 Completed\tLoss: 0.0395\n",
      "Epoch: 93 Completed\tLoss: 0.0411\n",
      "Epoch: 94 Completed\tLoss: 0.0397\n",
      "Epoch: 95 Completed\tLoss: 0.0397\n",
      "Epoch: 96 Completed\tLoss: 0.0407\n",
      "Epoch: 97 Completed\tLoss: 0.0403\n",
      "Epoch: 98 Completed\tLoss: 0.0395\n",
      "Epoch: 99 Completed\tLoss: 0.0387\n",
      "Epoch: 100 Completed\tLoss: 0.0386\n",
      "Epoch: 101 Completed\tLoss: 0.0383\n",
      "Epoch: 102 Completed\tLoss: 0.038\n",
      "Epoch: 103 Completed\tLoss: 0.0377\n",
      "Epoch: 104 Completed\tLoss: 0.0375\n",
      "Epoch: 105 Completed\tLoss: 0.0372\n",
      "Epoch: 106 Completed\tLoss: 0.037\n",
      "Epoch: 107 Completed\tLoss: 0.0369\n",
      "Epoch: 108 Completed\tLoss: 0.0368\n",
      "Epoch: 109 Completed\tLoss: 0.0367\n",
      "Epoch: 110 Completed\tLoss: 0.0365\n",
      "Epoch: 111 Completed\tLoss: 0.0362\n",
      "Epoch: 112 Completed\tLoss: 0.0356\n",
      "Epoch: 113 Completed\tLoss: 0.0347\n",
      "Epoch: 114 Completed\tLoss: 0.0343\n",
      "Epoch: 115 Completed\tLoss: 0.0346\n",
      "Epoch: 116 Completed\tLoss: 0.0346\n",
      "Epoch: 117 Completed\tLoss: 0.0339\n",
      "Epoch: 118 Completed\tLoss: 0.0334\n",
      "Epoch: 119 Completed\tLoss: 0.0335\n",
      "Epoch: 120 Completed\tLoss: 0.0336\n",
      "Epoch: 121 Completed\tLoss: 0.0332\n",
      "Epoch: 122 Completed\tLoss: 0.0326\n",
      "Epoch: 123 Completed\tLoss: 0.0324\n",
      "Epoch: 124 Completed\tLoss: 0.0325\n",
      "Epoch: 125 Completed\tLoss: 0.0322\n",
      "Epoch: 126 Completed\tLoss: 0.0317\n",
      "Epoch: 127 Completed\tLoss: 0.0316\n",
      "Epoch: 128 Completed\tLoss: 0.0315\n",
      "Epoch: 129 Completed\tLoss: 0.0313\n",
      "Epoch: 130 Completed\tLoss: 0.0309\n",
      "Epoch: 131 Completed\tLoss: 0.0308\n",
      "Epoch: 132 Completed\tLoss: 0.0306\n",
      "Epoch: 133 Completed\tLoss: 0.0303\n",
      "Epoch: 134 Completed\tLoss: 0.0301\n",
      "Epoch: 135 Completed\tLoss: 0.0299\n",
      "Epoch: 136 Completed\tLoss: 0.0295\n",
      "Epoch: 137 Completed\tLoss: 0.0295\n",
      "Epoch: 138 Completed\tLoss: 0.0293\n",
      "Epoch: 139 Completed\tLoss: 0.029\n",
      "Epoch: 140 Completed\tLoss: 0.0289\n",
      "Epoch: 141 Completed\tLoss: 0.0287\n",
      "Epoch: 142 Completed\tLoss: 0.0285\n",
      "Epoch: 143 Completed\tLoss: 0.0284\n",
      "Epoch: 144 Completed\tLoss: 0.0282\n",
      "Epoch: 145 Completed\tLoss: 0.0281\n",
      "Epoch: 146 Completed\tLoss: 0.028\n",
      "Epoch: 147 Completed\tLoss: 0.0277\n",
      "Epoch: 148 Completed\tLoss: 0.0276\n",
      "Epoch: 149 Completed\tLoss: 0.0275\n",
      "Epoch: 150 Completed\tLoss: 0.0274\n",
      "Epoch: 151 Completed\tLoss: 0.0273\n",
      "Epoch: 152 Completed\tLoss: 0.0271\n",
      "Epoch: 153 Completed\tLoss: 0.027\n",
      "Epoch: 154 Completed\tLoss: 0.0269\n",
      "Epoch: 155 Completed\tLoss: 0.0268\n",
      "Epoch: 156 Completed\tLoss: 0.0266\n",
      "Epoch: 157 Completed\tLoss: 0.0265\n",
      "Epoch: 158 Completed\tLoss: 0.0264\n",
      "Epoch: 159 Completed\tLoss: 0.0262\n",
      "Epoch: 160 Completed\tLoss: 0.0261\n",
      "Epoch: 161 Completed\tLoss: 0.026\n",
      "Epoch: 162 Completed\tLoss: 0.0259\n",
      "Epoch: 163 Completed\tLoss: 0.0258\n",
      "Epoch: 164 Completed\tLoss: 0.0256\n",
      "Epoch: 165 Completed\tLoss: 0.0255\n",
      "Epoch: 166 Completed\tLoss: 0.0254\n",
      "Epoch: 167 Completed\tLoss: 0.0253\n",
      "Epoch: 168 Completed\tLoss: 0.0252\n",
      "Epoch: 169 Completed\tLoss: 0.0251\n",
      "Epoch: 170 Completed\tLoss: 0.025\n",
      "Epoch: 171 Completed\tLoss: 0.0249\n",
      "Epoch: 172 Completed\tLoss: 0.0247\n",
      "Epoch: 173 Completed\tLoss: 0.0246\n",
      "Epoch: 174 Completed\tLoss: 0.0245\n",
      "Epoch: 175 Completed\tLoss: 0.0243\n",
      "Epoch: 176 Completed\tLoss: 0.0243\n",
      "Epoch: 177 Completed\tLoss: 0.0241\n",
      "Epoch: 178 Completed\tLoss: 0.0241\n",
      "Epoch: 179 Completed\tLoss: 0.0239\n",
      "Epoch: 180 Completed\tLoss: 0.0238\n",
      "Epoch: 181 Completed\tLoss: 0.0237\n",
      "Epoch: 182 Completed\tLoss: 0.0236\n",
      "Epoch: 183 Completed\tLoss: 0.0235\n",
      "Epoch: 184 Completed\tLoss: 0.0234\n",
      "Epoch: 185 Completed\tLoss: 0.0233\n",
      "Epoch: 186 Completed\tLoss: 0.0232\n",
      "Epoch: 187 Completed\tLoss: 0.0231\n",
      "Epoch: 188 Completed\tLoss: 0.023\n",
      "Epoch: 189 Completed\tLoss: 0.0229\n",
      "Epoch: 190 Completed\tLoss: 0.0227\n",
      "Epoch: 191 Completed\tLoss: 0.0227\n",
      "Epoch: 192 Completed\tLoss: 0.0225\n",
      "Epoch: 193 Completed\tLoss: 0.0224\n",
      "Epoch: 194 Completed\tLoss: 0.0223\n",
      "Epoch: 195 Completed\tLoss: 0.0222\n",
      "Epoch: 196 Completed\tLoss: 0.0221\n",
      "Epoch: 197 Completed\tLoss: 0.022\n",
      "Epoch: 198 Completed\tLoss: 0.0218\n",
      "Epoch: 199 Completed\tLoss: 0.0217\n",
      "Epoch: 200 Completed\tLoss: 0.0216\n"
     ]
    }
   ],
   "source": [
    "model, results = train_model(model, train_batch_loader)"
   ]
  },
  {
   "cell_type": "code",
   "execution_count": 97,
   "metadata": {},
   "outputs": [
    {
     "data": {
      "image/png": "[encoded data removed]",
      "text/plain": [
       "<Figure size 640x480 with 1 Axes>"
      ]
     },
     "metadata": {},
     "output_type": "display_data"
    }
   ],
   "source": [
    "plt.plot([i for i in range(len(results))], results)\n",
    "plt.show()"
   ]
  },
  {
   "cell_type": "code",
   "execution_count": 98,
   "metadata": {},
   "outputs": [
    {
     "name": "stdout",
     "output_type": "stream",
     "text": [
      "[0.038321562111377716, 0.03801251947879791, 0.037746600806713104, 0.037501491606235504, 0.03723093867301941, 0.037018854171037674, 0.03692130371928215, 0.036833256483078, 0.036693572998046875, 0.03649779036641121, 0.03619653731584549, 0.03561975061893463, 0.03474067524075508, 0.034315332770347595, 0.03461811691522598, 0.03459050506353378, 0.0338624082505703, 0.033352889120578766, 0.033456578850746155, 0.033588822931051254, 0.033205389976501465, 0.03260558098554611, 0.032447341829538345, 0.03252982348203659, 0.03219246864318848, 0.03171012923121452, 0.03160402551293373, 0.03154968470335007, 0.031286463141441345, 0.03092098794877529, 0.030842749401926994, 0.030635830014944077, 0.030264142900705338, 0.030127322301268578, 0.02988918498158455, 0.02952945977449417, 0.029461167752742767, 0.0292622372508049, 0.029002320021390915, 0.028903018683195114, 0.02865743823349476, 0.02850501984357834, 0.028427286073565483, 0.028235651552677155, 0.02811218798160553, 0.027951626107096672, 0.02772199921309948, 0.027598930522799492, 0.027483150362968445, 0.027374422177672386, 0.02725345641374588, 0.027108874171972275, 0.026984119787812233, 0.026894541457295418, 0.02678029052913189, 0.02661774307489395, 0.026524929329752922, 0.026375357061624527, 0.026237204670906067, 0.026118578389286995, 0.026010669767856598, 0.025897419080138206, 0.02576940506696701, 0.025622611865401268, 0.025492064654827118, 0.025377672165632248, 0.025300564244389534, 0.025156276300549507, 0.025053786113858223, 0.02495046891272068, 0.024857500568032265, 0.02469288557767868, 0.024575909599661827, 0.024473311379551888, 0.02432141825556755, 0.024257609620690346, 0.02410253882408142, 0.02407638356089592, 0.02389911748468876, 0.023847049102187157, 0.023696716874837875, 0.023647990077733994, 0.02348373644053936, 0.023388884961605072, 0.02328476496040821, 0.023159382864832878, 0.02308429218828678, 0.022981449961662292, 0.02287214621901512, 0.0227055624127388, 0.022660009562969208, 0.02252783812582493, 0.022412952035665512, 0.02228892780840397, 0.022204749286174774, 0.02206519804894924, 0.021969128400087357, 0.021844638511538506, 0.021717339754104614, 0.021593434736132622]\n"
     ]
    }
   ],
   "source": [
    "print(results[-100:])"
   ]
  },
  {
   "cell_type": "code",
   "execution_count": 148,
   "metadata": {},
   "outputs": [],
   "source": [
    "test_data_x, test_data_y = concatanate_tensors(train_loader, [1])\n",
    "test_dataset = torch.utils.data.TensorDataset(test_data_x, test_data_y)\n",
    "test_batch_loader = torch.utils.data.DataLoader(test_dataset, batch_size= batch_size)"
   ]
  },
  {
   "cell_type": "code",
   "execution_count": 146,
   "metadata": {},
   "outputs": [],
   "source": [
    "\n",
    "model.eval()\n",
    "with torch.no_grad():\n",
    "    test_data_x = test_data_x.to(device)\n",
    "\n",
    "    predicted_y_untransformed = model(test_data_x)\n",
    "    predicted_y_untransformed = predicted_y_untransformed.to(\"cpu\").numpy()\n",
    "    predicted_y = scaler_out.inverse_transform(predicted_y_untransformed)\n",
    "    test_data_y = test_data_y.to(\"cpu\").numpy()\n",
    "    test_data_y = scaler_out.inverse_transform(test_data_y)\n"
   ]
  },
  {
   "cell_type": "code",
   "execution_count": 149,
   "metadata": {},
   "outputs": [
    {
     "name": "stdout",
     "output_type": "stream",
     "text": [
      "[-0.36675644 -0.36675644 -0.36675644 -0.36675644 -0.36675644 -0.36675644\n",
      " -0.36675644 -0.36675644 -0.36675644 -0.36675644 -0.36675644 -0.36675644\n",
      " -0.36675644 -0.36675644 -0.36675644 -0.36675644 -0.36675644 -0.36675644\n",
      " -0.36675644 -0.36675644 -0.36675644 -0.36675644 -0.36675644 -0.36675644\n",
      " -0.36675644 -0.36675644 -0.36675644 -0.36675644 -0.36675644 -0.36675644\n",
      " -0.36675644 -0.36675644 -0.36675644 -0.36675644 -0.36675644 -0.36675644\n",
      " -0.36675644 -0.36675644 -0.36675644 -0.36675644 -0.36675644 -0.36675644\n",
      " -0.36675644 -0.36675644 -0.36675644  0.02153828 -0.06474943 -0.20650783\n",
      " -0.12022011 -0.12022011 -0.20650783 -0.23732486 -0.2681419  -0.28046873\n",
      " -0.28663212 -0.28663212 -0.29895896 -0.30512235 -0.31128576 -0.329776\n",
      " -0.3359394  -0.3421028  -0.3421028  -0.35442963 -0.36059302 -0.36059302\n",
      " -0.36059302 -0.36059302 -0.36059302 -0.36059302 -0.36059302 -0.31128576\n",
      " -0.28046873 -0.29279554 -0.28663212 -0.29279554 -0.29895896 -0.30512235\n",
      " -0.31744918 -0.3359394  -0.3482662  -0.35442963 -0.36059302 -0.36059302\n",
      " -0.36059302 -0.36675644 -0.36675644 -0.36675644 -0.36675644 -0.36675644\n",
      " -0.36675644 -0.36675644 -0.36675644 -0.36675644 -0.36675644 -0.36675644\n",
      " -0.36675644 -0.36675644 -0.36675644 -0.36675644 -0.36675644 -0.36675644\n",
      " -0.36675644 -0.36675644 -0.36675644 -0.329776   -0.3421028  -0.329776\n",
      " -0.3359394  -0.31128576 -0.2558151   0.30505505  0.24958438  0.36052573\n",
      "  0.17562348 -0.04625921 -0.15720056 -0.19418101 -0.23732486 -0.24965169\n",
      " -0.2558151  -0.24965169 -0.24965169 -0.2681419  -0.2681419  -0.2681419\n",
      " -0.2681419  -0.31128576 -0.329776   -0.28663212 -0.21267124 -0.02160558\n",
      "  0.08933577 -0.07707626 -0.15103716 -0.22499804 -0.28663212 -0.30512235\n",
      " -0.31744918  0.29889163  0.37901595  2.7950718   1.7103121   0.8166179\n",
      "  0.4036696   0.20027712  0.07084554  0.03386509  0.04619191  0.03386509\n",
      "  0.00921146  0.00921146  0.00921146  0.04619191 -0.05858603 -0.09556647\n",
      " -0.10172988 -0.10172988 -0.1140567  -0.08323966 -0.04625921 -0.04625921\n",
      " -0.0400958   0.01537487  0.0400285   0.04619191  0.01537487  0.00304805\n",
      "  0.00921146  0.03386509  0.03386509  0.02153828  0.04619191  0.07700895\n",
      "  0.04619191 -0.04625921 -0.07707626 -0.13871033 -0.21267124 -0.23732486\n",
      " -0.24965169 -0.2619785  -0.2619785  -0.2619785  -0.2619785  -0.16952738\n",
      " -0.08940307 -0.06474943 -0.06474943 -0.07091285 -0.08323966 -0.05858603\n",
      " -0.05242262 -0.05858603 -0.08323966 -0.08940307 -0.10172988 -0.1140567\n",
      " -0.14487374 -0.17569079 -0.20650783 -0.1880176  -0.20650783 -0.23732486\n",
      " -0.24965169 -0.29279554 -0.31128576 -0.31128576 -0.31744918 -0.31128576\n",
      " -0.30512235 -0.29895896 -0.29895896 -0.29279554 -0.21267124 -0.13871033\n",
      " -0.16336396 -0.18185419 -0.19418101 -0.16336396 -0.16952738 -0.18185419\n",
      " -0.22499804 -0.2681419  -0.29895896 -0.31744918 -0.329776   -0.3359394\n",
      " -0.3421028  -0.3482662  -0.3482662  -0.3482662  -0.3482662  -0.3482662\n",
      " -0.35442963 -0.35442963 -0.35442963 -0.35442963 -0.35442963 -0.35442963\n",
      " -0.35442963 -0.35442963 -0.31744918 -0.28663212 -0.28046873 -0.28046873\n",
      " -0.28663212 -0.32361257 -0.3421028  -0.3482662  -0.35442963 -0.36059302\n",
      " -0.36059302 -0.36059302 -0.36059302 -0.36059302 -0.36059302 -0.36059302\n",
      " -0.36059302 -0.36059302 -0.36059302 -0.36059302 -0.36059302 -0.36059302\n",
      " -0.36059302 -0.36059302 -0.36059302 -0.36059302 -0.36059302 -0.36059302\n",
      " -0.36059302 -0.36059302 -0.36059302 -0.36059302 -0.36059302 -0.36059302\n",
      " -0.36059302 -0.36059302 -0.36059302 -0.36059302 -0.36059302 -0.36059302\n",
      " -0.36059302 -0.36059302 -0.31744918 -0.28663212 -0.28046873 -0.28663212\n",
      " -0.29279554 -0.29895896 -0.31128576 -0.31744918 -0.32361257 -0.329776\n",
      " -0.3421028  -0.3482662  -0.35442963 -0.36059302 -0.36059302 -0.36059302\n",
      " -0.36059302 -0.36059302 -0.36059302 -0.36059302 -0.36059302 -0.36059302\n",
      " -0.36059302 -0.36059302 -0.36059302 -0.36059302 -0.36059302 -0.36059302\n",
      " -0.36059302 -0.36059302 -0.36059302 -0.36059302 -0.36059302 -0.36059302\n",
      " -0.36059302 -0.36059302 -0.36059302 -0.36059302 -0.36059302 -0.36059302\n",
      " -0.36059302 -0.36059302 -0.36059302 -0.36059302 -0.36059302 -0.36059302\n",
      " -0.36059302 -0.36059302 -0.36059302 -0.36059302 -0.36059302 -0.36059302\n",
      " -0.36059302 -0.36059302 -0.36059302 -0.36059302 -0.36059302 -0.36059302\n",
      " -0.36059302 -0.36059302 -0.36059302 -0.36059302 -0.36059302 -0.36059302\n",
      " -0.36059302 -0.36059302 -0.36059302 -0.36059302 -0.36059302 -0.36059302\n",
      " -0.36059302 -0.36059302 -0.36059302 -0.36059302 -0.36059302 -0.36059302\n",
      " -0.36059302 -0.36059302 -0.36059302 -0.36059302 -0.36059302 -0.36059302\n",
      " -0.36059302 -0.36059302 -0.36059302 -0.36059302 -0.36059302 -0.36059302\n",
      " -0.36059302 -0.36059302 -0.36059302 -0.36059302 -0.36059302 -0.36059302\n",
      " -0.36059302 -0.36059302 -0.36059302 -0.36059302 -0.36059302 -0.36059302\n",
      " -0.36059302 -0.36059302 -0.36059302 -0.36059302 -0.36059302 -0.36059302\n",
      " -0.36059302 -0.36059302 -0.36059302 -0.36059302 -0.36059302 -0.36059302\n",
      " -0.36059302 -0.36059302 -0.36059302 -0.36059302 -0.36059302 -0.36059302\n",
      " -0.36059302 -0.36059302 -0.36059302 -0.36059302 -0.36059302 -0.36059302\n",
      " -0.36059302 -0.36059302 -0.36059302 -0.36059302 -0.36059302 -0.36059302\n",
      " -0.36059302 -0.36059302 -0.36059302 -0.36059302 -0.36059302 -0.36059302\n",
      " -0.36059302 -0.36059302 -0.36059302 -0.36059302 -0.36059302 -0.36059302]\n"
     ]
    }
   ],
   "source": [
    "x = []\n",
    "test_data_y = test_data_y.reshape(test_data_y.shape[0])\n",
    "test_data_y = list(test_data_y)\n",
    "print(np.array(x+test_data_y))\n",
    "# predicted_y = predicted_y.reshape(predicted_y.shape[0])"
   ]
  },
  {
   "cell_type": "code",
   "execution_count": 130,
   "metadata": {},
   "outputs": [
    {
     "data": {
      "text/plain": [
       "<matplotlib.legend.Legend at 0x7a807d13ff10>"
      ]
     },
     "execution_count": 130,
     "metadata": {},
     "output_type": "execute_result"
    },
    {
     "data": {
      "image/png": "[encoded data removed]",
      "text/plain": [
       "<Figure size 1000x600 with 1 Axes>"
      ]
     },
     "metadata": {},
     "output_type": "display_data"
    }
   ],
   "source": [
    "import matplotlib.pyplot as plt\n",
    "\n",
    "# Plot the actual and predicted streamflow values\n",
    "plt.figure(figsize=(10, 6))\n",
    "plt.plot(test_data_y, label='Actual Streamflow', color='blue')\n",
    "plt.plot(predicted_y, label='Predicted Streamflow', color='red', linestyle='--')\n",
    "\n",
    "# Adding labels and title\n",
    "plt.xlabel('Time Steps')\n",
    "plt.ylabel('Streamflow')\n",
    "plt.title('Actual vs Predicted Streamflow (Combined Model)')\n",
    "plt.legend()\n",
    "# plt.savefig('Combined_Model')|"
   ]
  },
  {
   "cell_type": "code",
   "execution_count": null,
   "metadata": {},
   "outputs": [],
   "source": []
  }
 ],
 "metadata": {
  "kernelspec": {
   "display_name": "Python 3",
   "language": "python",
   "name": "python3"
  },
  "language_info": {
   "codemirror_mode": {
    "name": "ipython",
    "version": 3
   },
   "file_extension": ".py",
   "mimetype": "text/x-python",
   "name": "python",
   "nbconvert_exporter": "python",
   "pygments_lexer": "ipython3",
   "version": "3.10.12"
  }
 },
 "nbformat": 4,
 "nbformat_minor": 2
}
