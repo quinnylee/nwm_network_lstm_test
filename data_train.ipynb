{
 "cells": [
  {
   "cell_type": "code",
   "execution_count": 153,
   "metadata": {},
   "outputs": [],
   "source": [
    "import numpy as np\n",
    "import pandas as pd\n",
    "import matplotlib.pyplot as plt\n",
    "from IPython.display import clear_output\n",
    "import math\n",
    "import torch\n",
    "import torch.nn as nn\n",
    "import torch.optim as optim\n",
    "from torch.autograd import Variable\n",
    "from sklearn.preprocessing import StandardScaler\n",
    "from tqdm.notebook import tqdm\n",
    "from torchinfo import summary\n",
    "from adopt import ADOPT"
   ]
  },
  {
   "cell_type": "code",
   "execution_count": 154,
   "metadata": {},
   "outputs": [],
   "source": [
    "data = pd.read_csv(\"data/data1003.csv\")"
   ]
  },
  {
   "cell_type": "code",
   "execution_count": 155,
   "metadata": {},
   "outputs": [
    {
     "name": "stdout",
     "output_type": "stream",
     "text": [
      "The number of features available to us: 62\n",
      "Empty DataFrame\n",
      "Columns: [Unnamed: 0, time, DLWRF_surface, PRES_surface, SPFH_2maboveground, precip_rate, DSWRF_surface, TMP_2maboveground, UGRD_10maboveground, VGRD_10maboveground, APCP_surface, streamflow, elevation_mean, slope_mean, impervious_mean, aspect_c_mean, twi_dist_4, X, Y, gw_Coeff, gw_Zmax, gw_Expon, bexp_soil_layers_stag=1, bexp_soil_layers_stag=2, bexp_soil_layers_stag=3, bexp_soil_layers_stag=4, ISLTYP, IVGTYP, dksat_soil_layers_stag=1, dksat_soil_layers_stag=2, dksat_soil_layers_stag=3, dksat_soil_layers_stag=4, psisat_soil_layers_stag=1, psisat_soil_layers_stag=2, psisat_soil_layers_stag=3, psisat_soil_layers_stag=4, cwpvt, mfsno, mp, quartz_soil_layers_stag=1, quartz_soil_layers_stag=2, quartz_soil_layers_stag=3, quartz_soil_layers_stag=4, refkdt, slope, smcmax_soil_layers_stag=1, smcmax_soil_layers_stag=2, smcmax_soil_layers_stag=3, smcmax_soil_layers_stag=4, smcwlt_soil_layers_stag=1, smcwlt_soil_layers_stag=2, smcwlt_soil_layers_stag=3, smcwlt_soil_layers_stag=4, vcmx25, catchment_id, du, x, y, pair_id, ID, Shape_Length, Shape_Area]\n",
      "Index: []\n",
      "\n",
      "[0 rows x 62 columns]\n"
     ]
    }
   ],
   "source": [
    "print(f\"The number of features available to us: {data.shape[1]}\")\n",
    "print(data.head(0))"
   ]
  },
  {
   "cell_type": "code",
   "execution_count": 156,
   "metadata": {},
   "outputs": [
    {
     "name": "stdout",
     "output_type": "stream",
     "text": [
      "The number of networks we have:\t7\n",
      "The number of data points in each network:\t696\n",
      "The number of features in each network:\t117\n"
     ]
    }
   ],
   "source": [
    "def load_data_in_dictionary(data):\n",
    "    '''This loads the data into a dictionary. each index of dictionary has a pair of watersheds, \n",
    "       upper and lower, and their features are merged in the for loop below'''\n",
    "    num_networks = 0\n",
    "    network_dict = {}\n",
    "    broken_pairs = []\n",
    "    for i in range(int((data['pair_id']).max())+1):\n",
    "        try:\n",
    "            downstream = data[(data['pair_id']== i) & (data['du'] == 'd')]\n",
    "            upstream = data[(data['pair_id']== i) & (data['du'] == 'u')]\n",
    "            #print(downstream)\n",
    "            #print(upstream)\n",
    "            if downstream.empty or downstream.isnull().values.any():\n",
    "                print(i, \" DS is empty\")\n",
    "                continue\n",
    "            if upstream.empty or upstream.isnull().values.any():\n",
    "                print(i, \" US is empty\")\n",
    "                continue\n",
    "            '''area_ratio = upstream.iloc[0][\"Shape_Area\"] / downstream.iloc[0][\"Shape_Area\"]\n",
    "            if area_ratio > 1:\n",
    "                print(i, \" area ratio too large\")\n",
    "                continue\n",
    "            if abs(downstream.iloc[-1]['ID'] - upstream.iloc[-1]['ID']) > 100:\n",
    "                print(i, \" DS and US too far apart\")\n",
    "                continue'''\n",
    "            network = downstream.merge(upstream, on=\"time\")\n",
    "            network.drop([\"x_x\", \"y_x\", \"pair_id_x\", \"x_y\", \"y_y\", \"pair_id_y\"], axis=1, inplace=True)\n",
    "            network_dict[num_networks] = network\n",
    "            num_networks += 1\n",
    "        except:\n",
    "            broken_pairs.append(i)\n",
    "            raise Exception\n",
    "    return network_dict, broken_pairs, num_networks\n",
    "\n",
    "\n",
    "\n",
    "network_dict, num_networks, broken_pairs = load_data_in_dictionary(data)\n",
    "\n",
    "print(f\"The number of networks we have:\\t{len(network_dict)}\")\n",
    "print(f\"The number of data points in each network:\\t{network_dict[0].shape[0]}\")\n",
    "print(f\"The number of features in each network:\\t{network_dict[0].shape[1]}\")"
   ]
  },
  {
   "cell_type": "code",
   "execution_count": 157,
   "metadata": {},
   "outputs": [],
   "source": [
    "def correlation_with_lstm_output(correlation_inputs, correlation_outputs):\n",
    "    correlation_data = correlation_inputs + correlation_outputs\n",
    "    frames = [network_dict[ibuc].loc[:, correlation_data] for ibuc in [0,1,5,6]]\n",
    "    df_in = pd.concat(frames)\n",
    "    correlation_matrix = np.corrcoef(df_in)\n",
    "\n",
    "    for i in range(len(correlation_outputs)):\n",
    "        print(f\"Correlation with {correlation_outputs[i]}\")\n",
    "        for j in range(len(correlation_data)):\n",
    "            print(f\"{correlation_data[j]}: {correlation_matrix[i+len(correlation_inputs)][j]}\")\n",
    "\n"
   ]
  },
  {
   "cell_type": "code",
   "execution_count": 158,
   "metadata": {},
   "outputs": [
    {
     "name": "stdout",
     "output_type": "stream",
     "text": [
      "The number of features for LSTM model:\t19\n"
     ]
    }
   ],
   "source": [
    "#among all the features in the dataset, we will be working on thses features. If you want to add a new feature, see the datafile and add features as you like\n",
    "\n",
    "lstm_inputs = [\n",
    "    'precip_rate_x', \n",
    "    'TMP_2maboveground_x', \n",
    "    'UGRD_10maboveground_x',\n",
    "    'APCP_surface_x', \n",
    "    'elevation_mean_x', 'slope_mean_x', 'Shape_Area_x',\n",
    "    'impervious_mean_x', 'dksat_soil_layers_stag=1_x', \n",
    "    'streamflow_x',\n",
    "    'precip_rate_y', \n",
    "    'TMP_2maboveground_y', \n",
    "    'UGRD_10maboveground_y',\n",
    "    'APCP_surface_y', \n",
    "    'elevation_mean_y', 'slope_mean_y', 'Shape_Area_y',\n",
    "    'impervious_mean_y', 'dksat_soil_layers_stag=1_y']\n",
    "\n",
    "\n",
    "n_input = len(lstm_inputs)\n",
    "\n",
    "lstm_outputs = ['streamflow_y']     #this is what we will be trying to predict using the LSTM model\n",
    "n_output = len(lstm_outputs)\n",
    "print(f\"The number of features for LSTM model:\\t{n_input}\")"
   ]
  },
  {
   "cell_type": "code",
   "execution_count": 159,
   "metadata": {},
   "outputs": [
    {
     "name": "stdout",
     "output_type": "stream",
     "text": [
      "Correlation with streamflow_y\n",
      "APCP_surface_x: 0.9999999747385039\n",
      "TMP_2maboveground_x: 0.9999999775523916\n",
      "DSWRF_surface_x: 0.9999999790033776\n",
      "DLWRF_surface_x: 0.9999999988281622\n",
      "PRES_surface_x: 0.9999999986065536\n",
      "UGRD_10maboveground_x: 0.9999999993743482\n",
      "VGRD_10maboveground_x: 0.9999999930775616\n",
      "SPFH_2maboveground_x: 0.9999999929204678\n",
      "elevation_mean_x: 0.9999999932876569\n",
      "slope_mean_x: 0.9999999802979805\n",
      "Shape_Area_x: 0.999999980020199\n",
      "impervious_mean_x: 0.9999999794893975\n",
      "dksat_soil_layers_stag=1_x: 0.9999998947844357\n",
      "streamflow_x: 0.9999975569998939\n",
      "APCP_surface_y: 0.999992221109325\n",
      "TMP_2maboveground_y: 0.9999835983734059\n",
      "DSWRF_surface_y: 0.9999742449158907\n",
      "DLWRF_surface_y: 0.9999676163799787\n",
      "PRES_surface_y: 0.9999633792254142\n",
      "UGRD_10maboveground_y: 0.9999654934975047\n",
      "VGRD_10maboveground_y: 0.9999723923416026\n",
      "SPFH_2maboveground_y: 0.9999823704574873\n",
      "elevation_mean_y: 0.9999922738661662\n",
      "slope_mean_y: 0.9999977422811037\n",
      "Shape_Area_y: 0.9999999905535563\n",
      "impervious_mean_y: 0.9999999941065213\n",
      "dksat_soil_layers_stag=1_y: 0.9999999948509023\n",
      "streamflow_y: 1.0\n"
     ]
    }
   ],
   "source": [
    "correlation_inputs = [\n",
    "    # 'precip_rate_x', \n",
    "    'APCP_surface_x', \n",
    "               'TMP_2maboveground_x', \n",
    "    'DSWRF_surface_x', 'DLWRF_surface_x', 'PRES_surface_x', \n",
    "    'UGRD_10maboveground_x', 'VGRD_10maboveground_x', 'SPFH_2maboveground_x', \n",
    "    'elevation_mean_x', 'slope_mean_x', 'Shape_Area_x',\n",
    "    'impervious_mean_x', 'dksat_soil_layers_stag=1_x', \n",
    "    'streamflow_x',\n",
    "    # 'precip_rate_y', \n",
    "    'APCP_surface_y', \n",
    "    'TMP_2maboveground_y',\n",
    "    'DSWRF_surface_y', 'DLWRF_surface_y', 'PRES_surface_y',\n",
    "    'UGRD_10maboveground_y', 'VGRD_10maboveground_y', 'SPFH_2maboveground_y',\n",
    "    'elevation_mean_y', 'slope_mean_y', 'Shape_Area_y',\n",
    "    'impervious_mean_y', 'dksat_soil_layers_stag=1_y']\n",
    "\n",
    "correlation_with_lstm_output(correlation_inputs, lstm_outputs)"
   ]
  },
  {
   "cell_type": "code",
   "execution_count": 160,
   "metadata": {},
   "outputs": [
    {
     "name": "stdout",
     "output_type": "stream",
     "text": [
      "Using CUDA device: NVIDIA A100-SXM4-40GB\n"
     ]
    }
   ],
   "source": [
    "if torch.cuda.is_available():\n",
    "    device = torch.device(\"cuda:0\")\n",
    "    print(\"Using CUDA device:\", torch.cuda.get_device_name(0))\n",
    "elif torch.backends.mps.is_available():\n",
    "    device = torch.device(\"mps\")\n",
    "    print(\"Using Apple M3/M2/M1 (Metal) device\")\n",
    "else:\n",
    "    device = 'cpu'\n",
    "    print(\"Using CPU\")\n",
    "\n",
    "batch_size = 1704\n",
    "seq_length = 270"
   ]
  },
  {
   "cell_type": "code",
   "execution_count": 161,
   "metadata": {},
   "outputs": [
    {
     "name": "stdout",
     "output_type": "stream",
     "text": [
      "1\n"
     ]
    }
   ],
   "source": [
    "n_networks = len(network_dict)\n",
    "\n",
    "n_networks_split = {\"train\": (math.floor(n_networks * 0.7)), \"val\": math.floor(n_networks * 0.2), \"test\": math.floor(n_networks * 0.1)}\n",
    "print(n_networks_split['val'])"
   ]
  },
  {
   "cell_type": "code",
   "execution_count": 162,
   "metadata": {},
   "outputs": [
    {
     "name": "stdout",
     "output_type": "stream",
     "text": [
      "Since the dataset is small and no basins are available for testing. We give a random bucket to test.\n",
      "The networks for training is [0, 1, 2, 3, 4]\n",
      "The networks for validation is [5]\n",
      "The networks testing is [0]\n"
     ]
    }
   ],
   "source": [
    "def split_parameters(n_networks):\n",
    "    # create lists of network indices for each set based on the given network splits\n",
    "    networks_for_training = list(range(0, n_networks_split['train'] + 1))\n",
    "    networks_for_val = list(range(n_networks_split['train'] + 1, \n",
    "                                 n_networks_split['train'] + n_networks_split['val'] + 1))\n",
    "\n",
    "    if (n_networks_split['test'] > 0):\n",
    "        networks_for_test = list(range(n_networks - n_networks_split['test'], n_networks))\n",
    "    else:\n",
    "        print(\"Since the dataset is small and no basins are available for testing. We give a random bucket to test.\")\n",
    "        random_bucket = np.random.randint(0, n_networks)\n",
    "        networks_for_test = [random_bucket]\n",
    "    \n",
    "    # organize the split parameters into separate lists for each set\n",
    "    train_split_parameters = [networks_for_training]\n",
    "    val_split_parameters = [networks_for_val]\n",
    "    test_split_parameters = [networks_for_test]\n",
    "\n",
    "    return [train_split_parameters, val_split_parameters, test_split_parameters]\n",
    "\n",
    "[[networks_for_training], [networks_for_val], [networks_for_test]] = split_parameters(n_networks)\n",
    "print(f\"The networks for training is {networks_for_training}\")\n",
    "print(f\"The networks for validation is {networks_for_val}\")\n",
    "print(f\"The networks testing is {networks_for_test}\")"
   ]
  },
  {
   "cell_type": "code",
   "execution_count": 163,
   "metadata": {},
   "outputs": [
    {
     "name": "stdout",
     "output_type": "stream",
     "text": [
      "Network: 0\n",
      "Streamflow (downstream) mean: 0.42\n",
      "Streamflow (upstream) mean: 0.42\n",
      "Network: 1\n",
      "Streamflow (downstream) mean: 0.06\n",
      "Streamflow (upstream) mean: 0.13\n",
      "Network: 2\n",
      "Streamflow (downstream) mean: 0.09\n",
      "Streamflow (upstream) mean: 0.12\n",
      "Network: 3\n",
      "Streamflow (downstream) mean: 0.28\n",
      "Streamflow (upstream) mean: 0.29\n",
      "Network: 4\n",
      "Streamflow (downstream) mean: 0.48\n",
      "Streamflow (upstream) mean: 2.11\n",
      "Network: 5\n",
      "Streamflow (downstream) mean: 0.55\n",
      "Streamflow (upstream) mean: 0.63\n"
     ]
    }
   ],
   "source": [
    "def viz_networks(ibuc):\n",
    "    fig, ax = plt.subplots()\n",
    "    print('Network:', ibuc)\n",
    "    print(\"Streamflow (downstream) mean:\", np.round(network_dict[ibuc].streamflow_x.mean(),2))\n",
    "    print(\"Streamflow (upstream) mean:\", np.round(network_dict[ibuc].streamflow_y.mean(),2))\n",
    "\n",
    "    # network_dict[ibuc].loc[:2000,['precip_rate_x']].plot(ax=ax, legend=False)\n",
    "    network_dict[ibuc].loc[:2000,['streamflow_y']].plot(ax=ax, legend=False)\n",
    "    # network_dict[ibuc].loc[:2000,['APCP_surface_y']].plot(ax=ax, legend=False)\n",
    "    # network_dict[ibuc].loc[:2000,['streamflow_x']].plot(ax=ax, legend=False)\n",
    "    # network_dict[ibuc].loc[:2000,['APCP_surface_x']].plot(ax=ax, legend=False)\n",
    "    ax.set_title('Streamflow')\n",
    "    ax.set_xlabel('Time (h)')\n",
    "    ax.set_ylabel('Streamflow')\n",
    "\n",
    "    ax.legend([\"Streamflow_y\", \"APCP_surface_x\"])\n",
    "    \n",
    "    # plt.show()\n",
    "    plt.close()\n",
    "\n",
    "def viz_networks2(ibuc):\n",
    "    fig, ax1 = plt.subplots()\n",
    "    print('Network:', ibuc)\n",
    "    print(\"Streamflow (downstream) mean:\", np.round(network_dict[ibuc].streamflow_x.mean(), 2))\n",
    "    print(\"Streamflow (upstream) mean:\", np.round(network_dict[ibuc].streamflow_y.mean(), 2))\n",
    "\n",
    "    # Plot streamflow_y on the primary y-axis\n",
    "    network_dict[ibuc].loc[:2000, ['streamflow_x']].plot(ax=ax1, color = 'blue', legend=False)\n",
    "    network_dict[ibuc].loc[:2000, ['streamflow_y']].plot(ax=ax1, color = 'purple', legend=False)\n",
    "    ax1.set_title('Streamflow and Precipitation')\n",
    "    ax1.set_xlabel('Time (h)')\n",
    "    ax1.set_ylabel('Streamflow')\n",
    "    \n",
    "    # Create a secondary y-axis and plot APCP_surface_x on it\n",
    "    ax2 = ax1.twinx()\n",
    "    network_dict[ibuc].loc[:2000, ['APCP_surface_x']].plot(ax=ax2, color='orange', legend=False)\n",
    "    \n",
    "    network_dict[ibuc].loc[:2000, ['APCP_surface_y']].plot(ax=ax2, color='red', legend=False)\n",
    "    ax2.set_ylabel('APCP Surface')\n",
    "    \n",
    "    # Add legends for each axis\n",
    "    ax1.legend([\"Streamflow_y\"], loc='upper left')\n",
    "    ax2.legend([\"APCP_surface_x\"], loc='upper right')\n",
    "    \n",
    "    # plt.show()\n",
    "    plt.close()\n",
    "\n",
    "    \n",
    "\n",
    "displayed = 0\n",
    "\n",
    "for ibuc in networks_for_training:\n",
    "    viz_networks(ibuc)\n",
    "    displayed += 1\n",
    "\n",
    "\n",
    "for ibuc in networks_for_val:\n",
    "    viz_networks(ibuc)\n",
    "    displayed += 1"
   ]
  },
  {
   "cell_type": "code",
   "execution_count": 164,
   "metadata": {},
   "outputs": [],
   "source": [
    "\n",
    "\n",
    "class LSTM1(nn.Module):\n",
    "    def __init__(self, input_size, num_classes):\n",
    "        super(LSTM1, self).__init__()\n",
    "        self.num_classes = num_classes\n",
    "        self.input_size = input_size\n",
    "\n",
    "        self.lstm1 = nn.LSTM(input_size=input_size, hidden_size=128, batch_first=True)\n",
    "        self.lstm2 = nn.LSTM(input_size=128, hidden_size=256, batch_first=True)\n",
    "        self.relu2 = nn.ReLU()\n",
    "        self.normalization1 = nn.BatchNorm1d(256)\n",
    "        # Fully connected layers\n",
    "        self.fc = nn.Sequential(\n",
    "            nn.Linear(256, 128, bias=True),\n",
    "            nn.ReLU(),\n",
    "            nn.BatchNorm1d(128),\n",
    "            nn.Linear(128, 64, bias = True),\n",
    "            nn.ReLU(),\n",
    "            nn.Linear(64, num_classes, bias=True)\n",
    "        )\n",
    "\n",
    "    def forward(self, x):\n",
    "        out, _= self.lstm1(x)\n",
    "        out, _ = self.lstm2(out)\n",
    "        out = self.relu2(out)\n",
    "        out = out[:,-1, :]\n",
    "        out = self.normalization1(out)\n",
    "\n",
    "        prediction = self.fc(out)\n",
    "        return prediction\n",
    "\n"
   ]
  },
  {
   "cell_type": "code",
   "execution_count": 165,
   "metadata": {},
   "outputs": [],
   "source": [
    "\n",
    "model = LSTM1(input_size=n_input, num_classes=n_output).to(device)"
   ]
  },
  {
   "cell_type": "code",
   "execution_count": 166,
   "metadata": {},
   "outputs": [],
   "source": [
    "def fit_scaler():\n",
    "    frames = [network_dict[ibuc].loc[:, lstm_inputs] for ibuc in networks_for_training]\n",
    "    df_in = pd.concat(frames)   \n",
    "    print(df_in.shape)\n",
    "    scaler_in = StandardScaler()\n",
    "    scaler_in.fit(df_in)\n",
    "\n",
    "    frames = [network_dict[ibuc].loc[:, lstm_outputs] for ibuc in networks_for_training]\n",
    "    df_out = pd.concat(frames)    \n",
    "    print(df_out.shape)\n",
    "    scaler_out = StandardScaler()\n",
    "    scaler_out.fit(df_out)\n",
    "    return scaler_in, scaler_out"
   ]
  },
  {
   "cell_type": "code",
   "execution_count": 167,
   "metadata": {},
   "outputs": [
    {
     "name": "stdout",
     "output_type": "stream",
     "text": [
      "(3480, 19)\n",
      "(3480, 1)\n"
     ]
    }
   ],
   "source": [
    "scaler_in, scaler_out = fit_scaler()"
   ]
  },
  {
   "cell_type": "code",
   "execution_count": 168,
   "metadata": {},
   "outputs": [],
   "source": [
    "def make_data_loader(network_list):\n",
    "    loader = {}\n",
    "    np_seq_X = {}\n",
    "    np_seq_y = {}\n",
    "    for ibuc in network_list:\n",
    "        df = network_dict[ibuc]\n",
    "        scaler_in_i = scaler_in.transform(df.loc[:, lstm_inputs])\n",
    "        scaler_out_i = scaler_out.transform(df.loc[:, lstm_outputs])\n",
    "        \n",
    "        n_samples = scaler_in_i.shape[0] - seq_length\n",
    "        \n",
    "        np_seq_X[ibuc] = np.zeros((n_samples, seq_length, n_input))\n",
    "        np_seq_y[ibuc] = np.zeros((n_samples, n_output)) \n",
    "\n",
    "        for i in range(n_samples):\n",
    "            t = i + seq_length\n",
    "            np_seq_X[ibuc][i, :, :] = scaler_in_i[i:t, :]\n",
    "            np_seq_y[ibuc][i, :] = scaler_out_i[t, :]\n",
    "\n",
    "        ds = [torch.Tensor(np_seq_X[ibuc]), torch.Tensor(np_seq_y[ibuc])]\n",
    "        loader[ibuc] = ds\n",
    "    return loader, np_seq_X, np_seq_y"
   ]
  },
  {
   "cell_type": "code",
   "execution_count": 169,
   "metadata": {},
   "outputs": [],
   "source": [
    "train_loader, np_train_seq_X, np_train_seq_y = make_data_loader([0,1,5,6])\n",
    "val_loader, np_val_seq_X, np_val_seq_y = make_data_loader(networks_for_val)\n",
    "test_loader, np_test_seq_X, np_test_seq_y = make_data_loader(networks_for_test)"
   ]
  },
  {
   "cell_type": "code",
   "execution_count": 170,
   "metadata": {},
   "outputs": [
    {
     "name": "stdout",
     "output_type": "stream",
     "text": [
      "Each network has 426 data points\n",
      "Each data point is made up of sequence of 270 timesteps\n",
      "Each time step has 19 features.\n"
     ]
    }
   ],
   "source": [
    "# print(train_loader[0][0].shape)\n",
    "print(f\"Each network has {train_loader[0][0].shape[0]} data points\")\n",
    "print(f\"Each data point is made up of sequence of {train_loader[0][0].shape[1]} timesteps\")\n",
    "print(f\"Each time step has {train_loader[0][0].shape[2]} features.\")"
   ]
  },
  {
   "cell_type": "code",
   "execution_count": 171,
   "metadata": {},
   "outputs": [],
   "source": [
    "def concatanate_tensors(loader,  networks):\n",
    "    concatanated_tensor_x = loader[networks[0]][0]\n",
    "    concatanated_tensor_y = loader[networks[0]][1]\n",
    "\n",
    "    for i in range(len(networks) - 1):\n",
    "        concatanated_tensor_x = torch.cat((concatanated_tensor_x, loader[networks[i+1]][0]))\n",
    "        concatanated_tensor_y = torch.cat((concatanated_tensor_y, loader[networks[i+1]][1]))\n",
    "    return concatanated_tensor_x, concatanated_tensor_y    \n",
    "\n",
    "  "
   ]
  },
  {
   "cell_type": "code",
   "execution_count": 172,
   "metadata": {},
   "outputs": [],
   "source": [
    "\n",
    "train_data_x, train_data_y = concatanate_tensors(train_loader, [0,1,5,6])\n",
    "val_data_x, val_data_y = concatanate_tensors(val_loader, networks_for_val)\n",
    "test_data_x, test_data_y = concatanate_tensors(test_loader, networks_for_test)"
   ]
  },
  {
   "cell_type": "code",
   "execution_count": 173,
   "metadata": {},
   "outputs": [
    {
     "name": "stdout",
     "output_type": "stream",
     "text": [
      "Since each epoch will only have 1 batch of data, the batch size is set to the length of the entire data, which is 1704.\n"
     ]
    }
   ],
   "source": [
    "batch_size = train_data_y.shape[0]\n",
    "train_dataset = torch.utils.data.TensorDataset(train_data_x, train_data_y)\n",
    "train_batch_loader = torch.utils.data.DataLoader(train_dataset, batch_size= batch_size)\n",
    "val_dataset = torch.utils.data.TensorDataset(val_data_x, val_data_y)\n",
    "val_batch_loader = torch.utils.data.DataLoader(val_dataset, batch_size= batch_size)\n",
    "test_dataset = torch.utils.data.TensorDataset(test_data_x, test_data_y)\n",
    "test_batch_loader = torch.utils.data.DataLoader(test_dataset, batch_size= batch_size)\n",
    "print(f\"Since each epoch will only have 1 batch of data, the batch size is set to the length of the entire data, which is {batch_size}.\")"
   ]
  },
  {
   "cell_type": "code",
   "execution_count": 174,
   "metadata": {},
   "outputs": [],
   "source": [
    "def inverse_scale(scaler, numpy_value):\n",
    "    transformed_numpy_value = scaler.inverse_transform(numpy_value)\n",
    "    return transformed_numpy_value\n"
   ]
  },
  {
   "cell_type": "code",
   "execution_count": 175,
   "metadata": {},
   "outputs": [],
   "source": [
    "def calculate_NSE(observed_value, modeled_value):\n",
    "    mean_observed_value = np.mean(observed_value)\n",
    "    numerator = np.sum(np.power((observed_value - modeled_value), 2))\n",
    "    denominator = np.sum(np.power((observed_value - mean_observed_value), 2))\n",
    "    return round((1- (numerator/denominator)), 2) "
   ]
  },
  {
   "cell_type": "code",
   "execution_count": 180,
   "metadata": {},
   "outputs": [],
   "source": [
    "def train_model(lstm, train_batch_loader):\n",
    "    criterion = nn.MSELoss()\n",
    "    optimizer = optim.AdamW(lstm.parameters(), lr= .0001)\n",
    "    scheduler = torch.optim.lr_scheduler.ReduceLROnPlateau(optimizer, patience=5, factor=0.1)\n",
    "    epochs = 200\n",
    "    loss_history_train = []\n",
    "    loss_history_val = []\n",
    "    for epoch in range(epochs):\n",
    "        NSE_batch_train = []\n",
    "        NSE_batch_val = []\n",
    "        for data, targets in train_batch_loader:\n",
    "            x = data.to(device=device)\n",
    "            y = targets.to(device=device)\n",
    "\n",
    "            optimizer.zero_grad()\n",
    "            predicted_y = lstm(x)\n",
    "            loss = criterion(predicted_y, y)\n",
    "\n",
    "            loss_history_train.append(loss.item())\n",
    "\n",
    "         \n",
    "            with torch.no_grad():\n",
    "                y_calc =  y.to(\"cpu\").numpy()\n",
    "                y_calc = inverse_scale(scaler_out, y_calc)\n",
    "                y_calc = y_calc.reshape(y_calc.shape[0])\n",
    "\n",
    "                predicted_y_calc =  predicted_y.to(\"cpu\").numpy()\n",
    "                predicted_y_calc = inverse_scale(scaler_out, predicted_y_calc)\n",
    "                predicted_y_calc = predicted_y_calc.reshape(y_calc.shape[0])\n",
    "\n",
    "                NSE_batch_train.append(calculate_NSE(y_calc, predicted_y_calc))\n",
    "\n",
    "                \n",
    "        model.eval()\n",
    "        with torch.no_grad():\n",
    "            for data, targets in val_batch_loader:\n",
    "                x_calc = data.to(device=device)\n",
    "                y_calc = targets.to(device=device)\n",
    "                predicted_y_calc = lstm(x_calc)\n",
    "                loss_calc = criterion(predicted_y_calc, y_calc)\n",
    "                loss_history_val.append(loss_calc.item())\n",
    "                y_calc =  y_calc.to(\"cpu\").numpy()\n",
    "                y_calc = inverse_scale(scaler_out, y_calc)\n",
    "                y_calc = y_calc.reshape(y_calc.shape[0])\n",
    "\n",
    "                predicted_y_calc =  predicted_y_calc.to(\"cpu\").numpy()\n",
    "                predicted_y_calc = inverse_scale(scaler_out, predicted_y_calc)\n",
    "                predicted_y_calc = predicted_y_calc.reshape(y_calc.shape[0])\n",
    "\n",
    "                NSE_batch_val.append(calculate_NSE(y_calc, predicted_y_calc))\n",
    "\n",
    "        model.train()\n",
    "        loss.backward()\n",
    "        optimizer.step()\n",
    "        scheduler.step(loss_calc)\n",
    "\n",
    "\n",
    "        print(f\"Epoch: {epoch + 1} Completed\\tLoss_Train: {loss_history_train[-1]:.4f}\\tNSE_Train: {np.mean(NSE_batch_train):.4f}\\tLoss_Val: {loss_history_val[-1]:.4f}\\tNSE_Validation:{np.mean(NSE_batch_val):.4f}\")\n",
    "        \n",
    "\n",
    "    return lstm, loss_history_train, loss_history_val"
   ]
  },
  {
   "cell_type": "code",
   "execution_count": 181,
   "metadata": {},
   "outputs": [
    {
     "name": "stdout",
     "output_type": "stream",
     "text": [
      "Epoch: 1 Completed\tLoss_Train: 0.0220\tNSE_Train: 0.9000\tLoss_Val: 0.0067\tNSE_Validation:0.9800\n",
      "Epoch: 2 Completed\tLoss_Train: 0.0465\tNSE_Train: 0.7900\tLoss_Val: 0.2909\tNSE_Validation:0.1700\n",
      "Epoch: 3 Completed\tLoss_Train: 0.0415\tNSE_Train: 0.8100\tLoss_Val: 0.0580\tNSE_Validation:0.8300\n",
      "Epoch: 4 Completed\tLoss_Train: 0.0451\tNSE_Train: 0.8000\tLoss_Val: 0.0586\tNSE_Validation:0.8300\n",
      "Epoch: 5 Completed\tLoss_Train: 0.0328\tNSE_Train: 0.8500\tLoss_Val: 0.0278\tNSE_Validation:0.9200\n",
      "Epoch: 6 Completed\tLoss_Train: 0.0316\tNSE_Train: 0.8600\tLoss_Val: 0.0276\tNSE_Validation:0.9200\n",
      "Epoch: 7 Completed\tLoss_Train: 0.0321\tNSE_Train: 0.8600\tLoss_Val: 0.0296\tNSE_Validation:0.9200\n",
      "Epoch: 8 Completed\tLoss_Train: 0.0292\tNSE_Train: 0.8700\tLoss_Val: 0.0266\tNSE_Validation:0.9200\n",
      "Epoch: 9 Completed\tLoss_Train: 0.0289\tNSE_Train: 0.8700\tLoss_Val: 0.0255\tNSE_Validation:0.9300\n",
      "Epoch: 10 Completed\tLoss_Train: 0.0284\tNSE_Train: 0.8700\tLoss_Val: 0.0242\tNSE_Validation:0.9300\n",
      "Epoch: 11 Completed\tLoss_Train: 0.0279\tNSE_Train: 0.8800\tLoss_Val: 0.0227\tNSE_Validation:0.9300\n",
      "Epoch: 12 Completed\tLoss_Train: 0.0273\tNSE_Train: 0.8800\tLoss_Val: 0.0213\tNSE_Validation:0.9400\n",
      "Epoch: 13 Completed\tLoss_Train: 0.0267\tNSE_Train: 0.8800\tLoss_Val: 0.0201\tNSE_Validation:0.9400\n",
      "Epoch: 14 Completed\tLoss_Train: 0.0262\tNSE_Train: 0.8800\tLoss_Val: 0.0191\tNSE_Validation:0.9500\n",
      "Epoch: 15 Completed\tLoss_Train: 0.0262\tNSE_Train: 0.8800\tLoss_Val: 0.0187\tNSE_Validation:0.9500\n",
      "Epoch: 16 Completed\tLoss_Train: 0.0261\tNSE_Train: 0.8800\tLoss_Val: 0.0183\tNSE_Validation:0.9500\n",
      "Epoch: 17 Completed\tLoss_Train: 0.0261\tNSE_Train: 0.8800\tLoss_Val: 0.0179\tNSE_Validation:0.9500\n",
      "Epoch: 18 Completed\tLoss_Train: 0.0260\tNSE_Train: 0.8800\tLoss_Val: 0.0176\tNSE_Validation:0.9500\n",
      "Epoch: 19 Completed\tLoss_Train: 0.0260\tNSE_Train: 0.8800\tLoss_Val: 0.0172\tNSE_Validation:0.9500\n",
      "Epoch: 20 Completed\tLoss_Train: 0.0259\tNSE_Train: 0.8800\tLoss_Val: 0.0169\tNSE_Validation:0.9500\n",
      "Epoch: 21 Completed\tLoss_Train: 0.0259\tNSE_Train: 0.8800\tLoss_Val: 0.0167\tNSE_Validation:0.9500\n",
      "Epoch: 22 Completed\tLoss_Train: 0.0259\tNSE_Train: 0.8800\tLoss_Val: 0.0165\tNSE_Validation:0.9500\n",
      "Epoch: 23 Completed\tLoss_Train: 0.0259\tNSE_Train: 0.8800\tLoss_Val: 0.0164\tNSE_Validation:0.9500\n",
      "Epoch: 24 Completed\tLoss_Train: 0.0259\tNSE_Train: 0.8800\tLoss_Val: 0.0162\tNSE_Validation:0.9500\n",
      "Epoch: 25 Completed\tLoss_Train: 0.0259\tNSE_Train: 0.8800\tLoss_Val: 0.0161\tNSE_Validation:0.9500\n",
      "Epoch: 26 Completed\tLoss_Train: 0.0259\tNSE_Train: 0.8800\tLoss_Val: 0.0159\tNSE_Validation:0.9500\n",
      "Epoch: 27 Completed\tLoss_Train: 0.0259\tNSE_Train: 0.8800\tLoss_Val: 0.0158\tNSE_Validation:0.9500\n",
      "Epoch: 28 Completed\tLoss_Train: 0.0259\tNSE_Train: 0.8800\tLoss_Val: 0.0158\tNSE_Validation:0.9500\n",
      "Epoch: 29 Completed\tLoss_Train: 0.0259\tNSE_Train: 0.8800\tLoss_Val: 0.0157\tNSE_Validation:0.9600\n",
      "Epoch: 30 Completed\tLoss_Train: 0.0259\tNSE_Train: 0.8800\tLoss_Val: 0.0156\tNSE_Validation:0.9600\n",
      "Epoch: 31 Completed\tLoss_Train: 0.0259\tNSE_Train: 0.8800\tLoss_Val: 0.0155\tNSE_Validation:0.9600\n",
      "Epoch: 32 Completed\tLoss_Train: 0.0259\tNSE_Train: 0.8800\tLoss_Val: 0.0155\tNSE_Validation:0.9600\n",
      "Epoch: 33 Completed\tLoss_Train: 0.0259\tNSE_Train: 0.8800\tLoss_Val: 0.0154\tNSE_Validation:0.9600\n",
      "Epoch: 34 Completed\tLoss_Train: 0.0259\tNSE_Train: 0.8800\tLoss_Val: 0.0154\tNSE_Validation:0.9600\n",
      "Epoch: 35 Completed\tLoss_Train: 0.0259\tNSE_Train: 0.8800\tLoss_Val: 0.0153\tNSE_Validation:0.9600\n",
      "Epoch: 36 Completed\tLoss_Train: 0.0259\tNSE_Train: 0.8800\tLoss_Val: 0.0153\tNSE_Validation:0.9600\n",
      "Epoch: 37 Completed\tLoss_Train: 0.0259\tNSE_Train: 0.8800\tLoss_Val: 0.0153\tNSE_Validation:0.9600\n",
      "Epoch: 38 Completed\tLoss_Train: 0.0259\tNSE_Train: 0.8800\tLoss_Val: 0.0152\tNSE_Validation:0.9600\n",
      "Epoch: 39 Completed\tLoss_Train: 0.0259\tNSE_Train: 0.8800\tLoss_Val: 0.0152\tNSE_Validation:0.9600\n",
      "Epoch: 40 Completed\tLoss_Train: 0.0259\tNSE_Train: 0.8800\tLoss_Val: 0.0152\tNSE_Validation:0.9600\n",
      "Epoch: 41 Completed\tLoss_Train: 0.0259\tNSE_Train: 0.8800\tLoss_Val: 0.0152\tNSE_Validation:0.9600\n",
      "Epoch: 42 Completed\tLoss_Train: 0.0259\tNSE_Train: 0.8800\tLoss_Val: 0.0151\tNSE_Validation:0.9600\n",
      "Epoch: 43 Completed\tLoss_Train: 0.0259\tNSE_Train: 0.8800\tLoss_Val: 0.0151\tNSE_Validation:0.9600\n",
      "Epoch: 44 Completed\tLoss_Train: 0.0259\tNSE_Train: 0.8800\tLoss_Val: 0.0151\tNSE_Validation:0.9600\n",
      "Epoch: 45 Completed\tLoss_Train: 0.0259\tNSE_Train: 0.8800\tLoss_Val: 0.0151\tNSE_Validation:0.9600\n",
      "Epoch: 46 Completed\tLoss_Train: 0.0259\tNSE_Train: 0.8800\tLoss_Val: 0.0151\tNSE_Validation:0.9600\n",
      "Epoch: 47 Completed\tLoss_Train: 0.0259\tNSE_Train: 0.8800\tLoss_Val: 0.0151\tNSE_Validation:0.9600\n",
      "Epoch: 48 Completed\tLoss_Train: 0.0259\tNSE_Train: 0.8800\tLoss_Val: 0.0151\tNSE_Validation:0.9600\n",
      "Epoch: 49 Completed\tLoss_Train: 0.0259\tNSE_Train: 0.8800\tLoss_Val: 0.0150\tNSE_Validation:0.9600\n",
      "Epoch: 50 Completed\tLoss_Train: 0.0259\tNSE_Train: 0.8800\tLoss_Val: 0.0150\tNSE_Validation:0.9600\n",
      "Epoch: 51 Completed\tLoss_Train: 0.0259\tNSE_Train: 0.8800\tLoss_Val: 0.0150\tNSE_Validation:0.9600\n",
      "Epoch: 52 Completed\tLoss_Train: 0.0259\tNSE_Train: 0.8800\tLoss_Val: 0.0150\tNSE_Validation:0.9600\n",
      "Epoch: 53 Completed\tLoss_Train: 0.0259\tNSE_Train: 0.8800\tLoss_Val: 0.0150\tNSE_Validation:0.9600\n",
      "Epoch: 54 Completed\tLoss_Train: 0.0259\tNSE_Train: 0.8800\tLoss_Val: 0.0150\tNSE_Validation:0.9600\n",
      "Epoch: 55 Completed\tLoss_Train: 0.0259\tNSE_Train: 0.8800\tLoss_Val: 0.0150\tNSE_Validation:0.9600\n",
      "Epoch: 56 Completed\tLoss_Train: 0.0259\tNSE_Train: 0.8800\tLoss_Val: 0.0150\tNSE_Validation:0.9600\n",
      "Epoch: 57 Completed\tLoss_Train: 0.0259\tNSE_Train: 0.8800\tLoss_Val: 0.0150\tNSE_Validation:0.9600\n",
      "Epoch: 58 Completed\tLoss_Train: 0.0258\tNSE_Train: 0.8800\tLoss_Val: 0.0150\tNSE_Validation:0.9600\n",
      "Epoch: 59 Completed\tLoss_Train: 0.0258\tNSE_Train: 0.8800\tLoss_Val: 0.0150\tNSE_Validation:0.9600\n",
      "Epoch: 60 Completed\tLoss_Train: 0.0258\tNSE_Train: 0.8800\tLoss_Val: 0.0150\tNSE_Validation:0.9600\n",
      "Epoch: 61 Completed\tLoss_Train: 0.0258\tNSE_Train: 0.8800\tLoss_Val: 0.0150\tNSE_Validation:0.9600\n",
      "Epoch: 62 Completed\tLoss_Train: 0.0258\tNSE_Train: 0.8800\tLoss_Val: 0.0150\tNSE_Validation:0.9600\n",
      "Epoch: 63 Completed\tLoss_Train: 0.0258\tNSE_Train: 0.8800\tLoss_Val: 0.0150\tNSE_Validation:0.9600\n",
      "Epoch: 64 Completed\tLoss_Train: 0.0258\tNSE_Train: 0.8800\tLoss_Val: 0.0150\tNSE_Validation:0.9600\n",
      "Epoch: 65 Completed\tLoss_Train: 0.0258\tNSE_Train: 0.8800\tLoss_Val: 0.0150\tNSE_Validation:0.9600\n",
      "Epoch: 66 Completed\tLoss_Train: 0.0258\tNSE_Train: 0.8800\tLoss_Val: 0.0149\tNSE_Validation:0.9600\n",
      "Epoch: 67 Completed\tLoss_Train: 0.0258\tNSE_Train: 0.8800\tLoss_Val: 0.0149\tNSE_Validation:0.9600\n",
      "Epoch: 68 Completed\tLoss_Train: 0.0258\tNSE_Train: 0.8800\tLoss_Val: 0.0149\tNSE_Validation:0.9600\n",
      "Epoch: 69 Completed\tLoss_Train: 0.0258\tNSE_Train: 0.8800\tLoss_Val: 0.0149\tNSE_Validation:0.9600\n",
      "Epoch: 70 Completed\tLoss_Train: 0.0258\tNSE_Train: 0.8800\tLoss_Val: 0.0149\tNSE_Validation:0.9600\n",
      "Epoch: 71 Completed\tLoss_Train: 0.0258\tNSE_Train: 0.8800\tLoss_Val: 0.0149\tNSE_Validation:0.9600\n",
      "Epoch: 72 Completed\tLoss_Train: 0.0258\tNSE_Train: 0.8800\tLoss_Val: 0.0149\tNSE_Validation:0.9600\n",
      "Epoch: 73 Completed\tLoss_Train: 0.0258\tNSE_Train: 0.8800\tLoss_Val: 0.0149\tNSE_Validation:0.9600\n",
      "Epoch: 74 Completed\tLoss_Train: 0.0258\tNSE_Train: 0.8800\tLoss_Val: 0.0149\tNSE_Validation:0.9600\n",
      "Epoch: 75 Completed\tLoss_Train: 0.0258\tNSE_Train: 0.8800\tLoss_Val: 0.0149\tNSE_Validation:0.9600\n",
      "Epoch: 76 Completed\tLoss_Train: 0.0258\tNSE_Train: 0.8800\tLoss_Val: 0.0149\tNSE_Validation:0.9600\n",
      "Epoch: 77 Completed\tLoss_Train: 0.0258\tNSE_Train: 0.8800\tLoss_Val: 0.0149\tNSE_Validation:0.9600\n",
      "Epoch: 78 Completed\tLoss_Train: 0.0258\tNSE_Train: 0.8800\tLoss_Val: 0.0149\tNSE_Validation:0.9600\n",
      "Epoch: 79 Completed\tLoss_Train: 0.0258\tNSE_Train: 0.8800\tLoss_Val: 0.0149\tNSE_Validation:0.9600\n",
      "Epoch: 80 Completed\tLoss_Train: 0.0258\tNSE_Train: 0.8800\tLoss_Val: 0.0149\tNSE_Validation:0.9600\n",
      "Epoch: 81 Completed\tLoss_Train: 0.0258\tNSE_Train: 0.8800\tLoss_Val: 0.0149\tNSE_Validation:0.9600\n",
      "Epoch: 82 Completed\tLoss_Train: 0.0258\tNSE_Train: 0.8800\tLoss_Val: 0.0149\tNSE_Validation:0.9600\n",
      "Epoch: 83 Completed\tLoss_Train: 0.0258\tNSE_Train: 0.8800\tLoss_Val: 0.0149\tNSE_Validation:0.9600\n",
      "Epoch: 84 Completed\tLoss_Train: 0.0258\tNSE_Train: 0.8800\tLoss_Val: 0.0149\tNSE_Validation:0.9600\n",
      "Epoch: 85 Completed\tLoss_Train: 0.0258\tNSE_Train: 0.8800\tLoss_Val: 0.0149\tNSE_Validation:0.9600\n",
      "Epoch: 86 Completed\tLoss_Train: 0.0258\tNSE_Train: 0.8800\tLoss_Val: 0.0149\tNSE_Validation:0.9600\n",
      "Epoch: 87 Completed\tLoss_Train: 0.0258\tNSE_Train: 0.8800\tLoss_Val: 0.0149\tNSE_Validation:0.9600\n",
      "Epoch: 88 Completed\tLoss_Train: 0.0258\tNSE_Train: 0.8800\tLoss_Val: 0.0149\tNSE_Validation:0.9600\n",
      "Epoch: 89 Completed\tLoss_Train: 0.0258\tNSE_Train: 0.8800\tLoss_Val: 0.0149\tNSE_Validation:0.9600\n",
      "Epoch: 90 Completed\tLoss_Train: 0.0258\tNSE_Train: 0.8800\tLoss_Val: 0.0149\tNSE_Validation:0.9600\n",
      "Epoch: 91 Completed\tLoss_Train: 0.0258\tNSE_Train: 0.8800\tLoss_Val: 0.0149\tNSE_Validation:0.9600\n",
      "Epoch: 92 Completed\tLoss_Train: 0.0258\tNSE_Train: 0.8800\tLoss_Val: 0.0149\tNSE_Validation:0.9600\n",
      "Epoch: 93 Completed\tLoss_Train: 0.0258\tNSE_Train: 0.8800\tLoss_Val: 0.0149\tNSE_Validation:0.9600\n",
      "Epoch: 94 Completed\tLoss_Train: 0.0258\tNSE_Train: 0.8800\tLoss_Val: 0.0149\tNSE_Validation:0.9600\n",
      "Epoch: 95 Completed\tLoss_Train: 0.0258\tNSE_Train: 0.8800\tLoss_Val: 0.0149\tNSE_Validation:0.9600\n",
      "Epoch: 96 Completed\tLoss_Train: 0.0258\tNSE_Train: 0.8800\tLoss_Val: 0.0149\tNSE_Validation:0.9600\n",
      "Epoch: 97 Completed\tLoss_Train: 0.0258\tNSE_Train: 0.8800\tLoss_Val: 0.0149\tNSE_Validation:0.9600\n",
      "Epoch: 98 Completed\tLoss_Train: 0.0258\tNSE_Train: 0.8800\tLoss_Val: 0.0149\tNSE_Validation:0.9600\n",
      "Epoch: 99 Completed\tLoss_Train: 0.0258\tNSE_Train: 0.8800\tLoss_Val: 0.0149\tNSE_Validation:0.9600\n",
      "Epoch: 100 Completed\tLoss_Train: 0.0258\tNSE_Train: 0.8800\tLoss_Val: 0.0149\tNSE_Validation:0.9600\n",
      "Epoch: 101 Completed\tLoss_Train: 0.0258\tNSE_Train: 0.8800\tLoss_Val: 0.0149\tNSE_Validation:0.9600\n",
      "Epoch: 102 Completed\tLoss_Train: 0.0258\tNSE_Train: 0.8800\tLoss_Val: 0.0149\tNSE_Validation:0.9600\n",
      "Epoch: 103 Completed\tLoss_Train: 0.0258\tNSE_Train: 0.8800\tLoss_Val: 0.0149\tNSE_Validation:0.9600\n",
      "Epoch: 104 Completed\tLoss_Train: 0.0258\tNSE_Train: 0.8800\tLoss_Val: 0.0149\tNSE_Validation:0.9600\n",
      "Epoch: 105 Completed\tLoss_Train: 0.0258\tNSE_Train: 0.8800\tLoss_Val: 0.0148\tNSE_Validation:0.9600\n",
      "Epoch: 106 Completed\tLoss_Train: 0.0258\tNSE_Train: 0.8800\tLoss_Val: 0.0148\tNSE_Validation:0.9600\n",
      "Epoch: 107 Completed\tLoss_Train: 0.0258\tNSE_Train: 0.8800\tLoss_Val: 0.0148\tNSE_Validation:0.9600\n",
      "Epoch: 108 Completed\tLoss_Train: 0.0258\tNSE_Train: 0.8800\tLoss_Val: 0.0148\tNSE_Validation:0.9600\n",
      "Epoch: 109 Completed\tLoss_Train: 0.0258\tNSE_Train: 0.8800\tLoss_Val: 0.0148\tNSE_Validation:0.9600\n",
      "Epoch: 110 Completed\tLoss_Train: 0.0258\tNSE_Train: 0.8800\tLoss_Val: 0.0148\tNSE_Validation:0.9600\n",
      "Epoch: 111 Completed\tLoss_Train: 0.0258\tNSE_Train: 0.8800\tLoss_Val: 0.0148\tNSE_Validation:0.9600\n",
      "Epoch: 112 Completed\tLoss_Train: 0.0258\tNSE_Train: 0.8800\tLoss_Val: 0.0148\tNSE_Validation:0.9600\n",
      "Epoch: 113 Completed\tLoss_Train: 0.0258\tNSE_Train: 0.8800\tLoss_Val: 0.0148\tNSE_Validation:0.9600\n",
      "Epoch: 114 Completed\tLoss_Train: 0.0258\tNSE_Train: 0.8800\tLoss_Val: 0.0148\tNSE_Validation:0.9600\n",
      "Epoch: 115 Completed\tLoss_Train: 0.0258\tNSE_Train: 0.8800\tLoss_Val: 0.0148\tNSE_Validation:0.9600\n",
      "Epoch: 116 Completed\tLoss_Train: 0.0258\tNSE_Train: 0.8800\tLoss_Val: 0.0148\tNSE_Validation:0.9600\n",
      "Epoch: 117 Completed\tLoss_Train: 0.0258\tNSE_Train: 0.8800\tLoss_Val: 0.0148\tNSE_Validation:0.9600\n",
      "Epoch: 118 Completed\tLoss_Train: 0.0258\tNSE_Train: 0.8800\tLoss_Val: 0.0148\tNSE_Validation:0.9600\n",
      "Epoch: 119 Completed\tLoss_Train: 0.0258\tNSE_Train: 0.8800\tLoss_Val: 0.0148\tNSE_Validation:0.9600\n",
      "Epoch: 120 Completed\tLoss_Train: 0.0258\tNSE_Train: 0.8800\tLoss_Val: 0.0148\tNSE_Validation:0.9600\n",
      "Epoch: 121 Completed\tLoss_Train: 0.0258\tNSE_Train: 0.8800\tLoss_Val: 0.0148\tNSE_Validation:0.9600\n",
      "Epoch: 122 Completed\tLoss_Train: 0.0258\tNSE_Train: 0.8800\tLoss_Val: 0.0148\tNSE_Validation:0.9600\n",
      "Epoch: 123 Completed\tLoss_Train: 0.0258\tNSE_Train: 0.8800\tLoss_Val: 0.0148\tNSE_Validation:0.9600\n",
      "Epoch: 124 Completed\tLoss_Train: 0.0258\tNSE_Train: 0.8800\tLoss_Val: 0.0148\tNSE_Validation:0.9600\n",
      "Epoch: 125 Completed\tLoss_Train: 0.0258\tNSE_Train: 0.8800\tLoss_Val: 0.0148\tNSE_Validation:0.9600\n",
      "Epoch: 126 Completed\tLoss_Train: 0.0258\tNSE_Train: 0.8800\tLoss_Val: 0.0148\tNSE_Validation:0.9600\n",
      "Epoch: 127 Completed\tLoss_Train: 0.0258\tNSE_Train: 0.8800\tLoss_Val: 0.0148\tNSE_Validation:0.9600\n",
      "Epoch: 128 Completed\tLoss_Train: 0.0258\tNSE_Train: 0.8800\tLoss_Val: 0.0148\tNSE_Validation:0.9600\n",
      "Epoch: 129 Completed\tLoss_Train: 0.0258\tNSE_Train: 0.8800\tLoss_Val: 0.0148\tNSE_Validation:0.9600\n",
      "Epoch: 130 Completed\tLoss_Train: 0.0258\tNSE_Train: 0.8800\tLoss_Val: 0.0148\tNSE_Validation:0.9600\n",
      "Epoch: 131 Completed\tLoss_Train: 0.0258\tNSE_Train: 0.8800\tLoss_Val: 0.0148\tNSE_Validation:0.9600\n",
      "Epoch: 132 Completed\tLoss_Train: 0.0258\tNSE_Train: 0.8800\tLoss_Val: 0.0148\tNSE_Validation:0.9600\n",
      "Epoch: 133 Completed\tLoss_Train: 0.0258\tNSE_Train: 0.8800\tLoss_Val: 0.0148\tNSE_Validation:0.9600\n",
      "Epoch: 134 Completed\tLoss_Train: 0.0258\tNSE_Train: 0.8800\tLoss_Val: 0.0148\tNSE_Validation:0.9600\n",
      "Epoch: 135 Completed\tLoss_Train: 0.0258\tNSE_Train: 0.8800\tLoss_Val: 0.0148\tNSE_Validation:0.9600\n",
      "Epoch: 136 Completed\tLoss_Train: 0.0258\tNSE_Train: 0.8800\tLoss_Val: 0.0148\tNSE_Validation:0.9600\n",
      "Epoch: 137 Completed\tLoss_Train: 0.0258\tNSE_Train: 0.8800\tLoss_Val: 0.0148\tNSE_Validation:0.9600\n",
      "Epoch: 138 Completed\tLoss_Train: 0.0258\tNSE_Train: 0.8800\tLoss_Val: 0.0148\tNSE_Validation:0.9600\n",
      "Epoch: 139 Completed\tLoss_Train: 0.0258\tNSE_Train: 0.8800\tLoss_Val: 0.0148\tNSE_Validation:0.9600\n",
      "Epoch: 140 Completed\tLoss_Train: 0.0258\tNSE_Train: 0.8800\tLoss_Val: 0.0148\tNSE_Validation:0.9600\n",
      "Epoch: 141 Completed\tLoss_Train: 0.0258\tNSE_Train: 0.8800\tLoss_Val: 0.0148\tNSE_Validation:0.9600\n",
      "Epoch: 142 Completed\tLoss_Train: 0.0258\tNSE_Train: 0.8800\tLoss_Val: 0.0148\tNSE_Validation:0.9600\n",
      "Epoch: 143 Completed\tLoss_Train: 0.0258\tNSE_Train: 0.8800\tLoss_Val: 0.0148\tNSE_Validation:0.9600\n",
      "Epoch: 144 Completed\tLoss_Train: 0.0258\tNSE_Train: 0.8800\tLoss_Val: 0.0148\tNSE_Validation:0.9600\n",
      "Epoch: 145 Completed\tLoss_Train: 0.0258\tNSE_Train: 0.8800\tLoss_Val: 0.0148\tNSE_Validation:0.9600\n",
      "Epoch: 146 Completed\tLoss_Train: 0.0258\tNSE_Train: 0.8800\tLoss_Val: 0.0148\tNSE_Validation:0.9600\n",
      "Epoch: 147 Completed\tLoss_Train: 0.0258\tNSE_Train: 0.8800\tLoss_Val: 0.0147\tNSE_Validation:0.9600\n",
      "Epoch: 148 Completed\tLoss_Train: 0.0258\tNSE_Train: 0.8800\tLoss_Val: 0.0147\tNSE_Validation:0.9600\n",
      "Epoch: 149 Completed\tLoss_Train: 0.0258\tNSE_Train: 0.8800\tLoss_Val: 0.0147\tNSE_Validation:0.9600\n",
      "Epoch: 150 Completed\tLoss_Train: 0.0258\tNSE_Train: 0.8800\tLoss_Val: 0.0147\tNSE_Validation:0.9600\n",
      "Epoch: 151 Completed\tLoss_Train: 0.0258\tNSE_Train: 0.8800\tLoss_Val: 0.0147\tNSE_Validation:0.9600\n",
      "Epoch: 152 Completed\tLoss_Train: 0.0258\tNSE_Train: 0.8800\tLoss_Val: 0.0147\tNSE_Validation:0.9600\n",
      "Epoch: 153 Completed\tLoss_Train: 0.0258\tNSE_Train: 0.8800\tLoss_Val: 0.0147\tNSE_Validation:0.9600\n",
      "Epoch: 154 Completed\tLoss_Train: 0.0258\tNSE_Train: 0.8800\tLoss_Val: 0.0147\tNSE_Validation:0.9600\n",
      "Epoch: 155 Completed\tLoss_Train: 0.0258\tNSE_Train: 0.8800\tLoss_Val: 0.0147\tNSE_Validation:0.9600\n",
      "Epoch: 156 Completed\tLoss_Train: 0.0258\tNSE_Train: 0.8800\tLoss_Val: 0.0147\tNSE_Validation:0.9600\n",
      "Epoch: 157 Completed\tLoss_Train: 0.0258\tNSE_Train: 0.8800\tLoss_Val: 0.0147\tNSE_Validation:0.9600\n",
      "Epoch: 158 Completed\tLoss_Train: 0.0258\tNSE_Train: 0.8800\tLoss_Val: 0.0147\tNSE_Validation:0.9600\n",
      "Epoch: 159 Completed\tLoss_Train: 0.0257\tNSE_Train: 0.8800\tLoss_Val: 0.0147\tNSE_Validation:0.9600\n",
      "Epoch: 160 Completed\tLoss_Train: 0.0257\tNSE_Train: 0.8800\tLoss_Val: 0.0147\tNSE_Validation:0.9600\n",
      "Epoch: 161 Completed\tLoss_Train: 0.0257\tNSE_Train: 0.8800\tLoss_Val: 0.0147\tNSE_Validation:0.9600\n",
      "Epoch: 162 Completed\tLoss_Train: 0.0257\tNSE_Train: 0.8800\tLoss_Val: 0.0147\tNSE_Validation:0.9600\n",
      "Epoch: 163 Completed\tLoss_Train: 0.0257\tNSE_Train: 0.8800\tLoss_Val: 0.0147\tNSE_Validation:0.9600\n",
      "Epoch: 164 Completed\tLoss_Train: 0.0257\tNSE_Train: 0.8800\tLoss_Val: 0.0147\tNSE_Validation:0.9600\n",
      "Epoch: 165 Completed\tLoss_Train: 0.0257\tNSE_Train: 0.8800\tLoss_Val: 0.0147\tNSE_Validation:0.9600\n",
      "Epoch: 166 Completed\tLoss_Train: 0.0257\tNSE_Train: 0.8800\tLoss_Val: 0.0147\tNSE_Validation:0.9600\n",
      "Epoch: 167 Completed\tLoss_Train: 0.0257\tNSE_Train: 0.8800\tLoss_Val: 0.0147\tNSE_Validation:0.9600\n",
      "Epoch: 168 Completed\tLoss_Train: 0.0257\tNSE_Train: 0.8800\tLoss_Val: 0.0147\tNSE_Validation:0.9600\n",
      "Epoch: 169 Completed\tLoss_Train: 0.0257\tNSE_Train: 0.8800\tLoss_Val: 0.0147\tNSE_Validation:0.9600\n",
      "Epoch: 170 Completed\tLoss_Train: 0.0257\tNSE_Train: 0.8800\tLoss_Val: 0.0147\tNSE_Validation:0.9600\n",
      "Epoch: 171 Completed\tLoss_Train: 0.0257\tNSE_Train: 0.8800\tLoss_Val: 0.0147\tNSE_Validation:0.9600\n",
      "Epoch: 172 Completed\tLoss_Train: 0.0257\tNSE_Train: 0.8800\tLoss_Val: 0.0147\tNSE_Validation:0.9600\n",
      "Epoch: 173 Completed\tLoss_Train: 0.0257\tNSE_Train: 0.8800\tLoss_Val: 0.0147\tNSE_Validation:0.9600\n",
      "Epoch: 174 Completed\tLoss_Train: 0.0257\tNSE_Train: 0.8800\tLoss_Val: 0.0147\tNSE_Validation:0.9600\n",
      "Epoch: 175 Completed\tLoss_Train: 0.0257\tNSE_Train: 0.8800\tLoss_Val: 0.0147\tNSE_Validation:0.9600\n",
      "Epoch: 176 Completed\tLoss_Train: 0.0257\tNSE_Train: 0.8800\tLoss_Val: 0.0147\tNSE_Validation:0.9600\n",
      "Epoch: 177 Completed\tLoss_Train: 0.0257\tNSE_Train: 0.8800\tLoss_Val: 0.0147\tNSE_Validation:0.9600\n",
      "Epoch: 178 Completed\tLoss_Train: 0.0257\tNSE_Train: 0.8800\tLoss_Val: 0.0147\tNSE_Validation:0.9600\n",
      "Epoch: 179 Completed\tLoss_Train: 0.0257\tNSE_Train: 0.8800\tLoss_Val: 0.0147\tNSE_Validation:0.9600\n",
      "Epoch: 180 Completed\tLoss_Train: 0.0257\tNSE_Train: 0.8800\tLoss_Val: 0.0147\tNSE_Validation:0.9600\n",
      "Epoch: 181 Completed\tLoss_Train: 0.0257\tNSE_Train: 0.8800\tLoss_Val: 0.0147\tNSE_Validation:0.9600\n",
      "Epoch: 182 Completed\tLoss_Train: 0.0257\tNSE_Train: 0.8800\tLoss_Val: 0.0147\tNSE_Validation:0.9600\n",
      "Epoch: 183 Completed\tLoss_Train: 0.0257\tNSE_Train: 0.8800\tLoss_Val: 0.0147\tNSE_Validation:0.9600\n",
      "Epoch: 184 Completed\tLoss_Train: 0.0257\tNSE_Train: 0.8800\tLoss_Val: 0.0147\tNSE_Validation:0.9600\n",
      "Epoch: 185 Completed\tLoss_Train: 0.0257\tNSE_Train: 0.8800\tLoss_Val: 0.0147\tNSE_Validation:0.9600\n",
      "Epoch: 186 Completed\tLoss_Train: 0.0257\tNSE_Train: 0.8800\tLoss_Val: 0.0147\tNSE_Validation:0.9600\n",
      "Epoch: 187 Completed\tLoss_Train: 0.0257\tNSE_Train: 0.8800\tLoss_Val: 0.0147\tNSE_Validation:0.9600\n",
      "Epoch: 188 Completed\tLoss_Train: 0.0257\tNSE_Train: 0.8800\tLoss_Val: 0.0147\tNSE_Validation:0.9600\n",
      "Epoch: 189 Completed\tLoss_Train: 0.0257\tNSE_Train: 0.8800\tLoss_Val: 0.0147\tNSE_Validation:0.9600\n",
      "Epoch: 190 Completed\tLoss_Train: 0.0257\tNSE_Train: 0.8800\tLoss_Val: 0.0147\tNSE_Validation:0.9600\n",
      "Epoch: 191 Completed\tLoss_Train: 0.0257\tNSE_Train: 0.8800\tLoss_Val: 0.0147\tNSE_Validation:0.9600\n",
      "Epoch: 192 Completed\tLoss_Train: 0.0257\tNSE_Train: 0.8800\tLoss_Val: 0.0147\tNSE_Validation:0.9600\n",
      "Epoch: 193 Completed\tLoss_Train: 0.0257\tNSE_Train: 0.8800\tLoss_Val: 0.0147\tNSE_Validation:0.9600\n",
      "Epoch: 194 Completed\tLoss_Train: 0.0257\tNSE_Train: 0.8800\tLoss_Val: 0.0146\tNSE_Validation:0.9600\n",
      "Epoch: 195 Completed\tLoss_Train: 0.0257\tNSE_Train: 0.8800\tLoss_Val: 0.0146\tNSE_Validation:0.9600\n",
      "Epoch: 196 Completed\tLoss_Train: 0.0257\tNSE_Train: 0.8800\tLoss_Val: 0.0146\tNSE_Validation:0.9600\n",
      "Epoch: 197 Completed\tLoss_Train: 0.0257\tNSE_Train: 0.8800\tLoss_Val: 0.0146\tNSE_Validation:0.9600\n",
      "Epoch: 198 Completed\tLoss_Train: 0.0257\tNSE_Train: 0.8800\tLoss_Val: 0.0146\tNSE_Validation:0.9600\n",
      "Epoch: 199 Completed\tLoss_Train: 0.0257\tNSE_Train: 0.8800\tLoss_Val: 0.0146\tNSE_Validation:0.9600\n",
      "Epoch: 200 Completed\tLoss_Train: 0.0257\tNSE_Train: 0.8800\tLoss_Val: 0.0146\tNSE_Validation:0.9600\n"
     ]
    }
   ],
   "source": [
    "model, loss_history_train, loss_history_val = train_model(model, train_batch_loader)"
   ]
  },
  {
   "cell_type": "code",
   "execution_count": null,
   "metadata": {},
   "outputs": [
    {
     "data": {
      "text/plain": [
       "<matplotlib.legend.Legend at 0x7e6f0f5b2f80>"
      ]
     },
     "execution_count": 184,
     "metadata": {},
     "output_type": "execute_result"
    },
    {
     "data": {
      "image/png": "[encoded data removed]",
      "text/plain": [
       "<Figure size 1000x600 with 1 Axes>"
      ]
     },
     "metadata": {},
     "output_type": "display_data"
    }
   ],
   "source": [
    "plt.figure(figsize=(10, 6))\n",
    "plt.plot(loss_history_train[1:], label='Train', color='blue')\n",
    "plt.plot(loss_history_val[1:], label='Validation', color='orange', linestyle = '--')\n",
    "\n",
    "# Adding labels and title\n",
    "plt.xlabel('Epochs')\n",
    "plt.ylabel('Loss')\n",
    "plt.title('Loss')\n",
    "plt.legend()"
   ]
  },
  {
   "cell_type": "code",
   "execution_count": 185,
   "metadata": {},
   "outputs": [
    {
     "name": "stdout",
     "output_type": "stream",
     "text": [
      "[0.025808146223425865, 0.025808468461036682, 0.025806961581110954, 0.025806354358792305, 0.025800716131925583, 0.025798900052905083, 0.025799619033932686, 0.025798950344324112, 0.02579772099852562, 0.02579738013446331, 0.02579616568982601, 0.025796465575695038, 0.02579568326473236, 0.02579551376402378, 0.025794722139835358, 0.02579229697585106, 0.02579115889966488, 0.025790099054574966, 0.02578931488096714, 0.025787994265556335, 0.025788862258195877, 0.025785397738218307, 0.025785287842154503, 0.025785204023122787, 0.025783702731132507, 0.025782227516174316, 0.025779370218515396, 0.025778522714972496, 0.025776460766792297, 0.02577650547027588, 0.025775207206606865, 0.025775307789444923, 0.02577446773648262, 0.025774087756872177, 0.025772761553525925, 0.025772811844944954, 0.025770509615540504, 0.025769609957933426, 0.025769207626581192, 0.025769144296646118, 0.025767512619495392, 0.02576552703976631, 0.0257665254175663, 0.02576419897377491, 0.02576282061636448, 0.025761421769857407, 0.0257605891674757, 0.025758443400263786, 0.025757912546396255, 0.025756774470210075, 0.025755329057574272, 0.025753527879714966, 0.02575296349823475, 0.025752441957592964, 0.025751736015081406, 0.025752047076821327, 0.025750277563929558, 0.025750111788511276, 0.02574859745800495, 0.02574930340051651, 0.025748437270522118, 0.025747952982783318, 0.02574620209634304, 0.025745458900928497, 0.02574487216770649, 0.025743652135133743, 0.02574419230222702, 0.025741657242178917, 0.025739936158061028, 0.02573932521045208, 0.02573850192129612, 0.02573787420988083, 0.025735395029187202, 0.025734344497323036, 0.02573394402861595, 0.025734100490808487, 0.02573295682668686, 0.02573210932314396, 0.025732286274433136, 0.025730909779667854, 0.025731606408953667, 0.02573089487850666, 0.02572787180542946, 0.02572736144065857, 0.02572508342564106, 0.02572513185441494, 0.02572433464229107, 0.025723766535520554, 0.0257236510515213, 0.025723403319716454, 0.025722680613398552, 0.025720937177538872, 0.02571854181587696, 0.025717629119753838, 0.02571777068078518, 0.02571512758731842, 0.025712845847010612, 0.025712357833981514, 0.02571110427379608, 0.025709442794322968]\n"
     ]
    }
   ],
   "source": [
    "print(loss_history_train[-100:])"
   ]
  },
  {
   "cell_type": "code",
   "execution_count": 186,
   "metadata": {},
   "outputs": [],
   "source": [
    "test_data_x, test_data_y = concatanate_tensors(train_loader, [1])\n",
    "test_dataset = torch.utils.data.TensorDataset(test_data_x, test_data_y)\n",
    "test_batch_loader = torch.utils.data.DataLoader(test_dataset, batch_size= batch_size)"
   ]
  },
  {
   "cell_type": "code",
   "execution_count": 187,
   "metadata": {},
   "outputs": [],
   "source": [
    "\n",
    "model.eval()\n",
    "with torch.no_grad():\n",
    "    test_data_x = test_data_x.to(device)\n",
    "    predicted_y_untransformed = model(test_data_x)\n",
    "    predicted_y_untransformed = predicted_y_untransformed.to(\"cpu\").numpy()\n",
    "    predicted_y = inverse_scale(scaler_out, predicted_y_untransformed)\n",
    "    test_data_y = test_data_y.to(\"cpu\").numpy()\n",
    "    test_data_y = inverse_scale(scaler_out, test_data_y)\n"
   ]
  },
  {
   "cell_type": "code",
   "execution_count": 188,
   "metadata": {},
   "outputs": [
    {
     "name": "stdout",
     "output_type": "stream",
     "text": [
      "0.91\n"
     ]
    }
   ],
   "source": [
    "x = []\n",
    "test_data_y = test_data_y.reshape(test_data_y.shape[0])\n",
    "predicted_y = predicted_y.reshape(predicted_y.shape[0])\n",
    "\n",
    "print(calculate_NSE(test_data_y, predicted_y))\n",
    "# predicted_y = predicted_y.reshape(predicted_y.shape[0])"
   ]
  },
  {
   "cell_type": "code",
   "execution_count": 189,
   "metadata": {},
   "outputs": [
    {
     "data": {
      "text/plain": [
       "<matplotlib.legend.Legend at 0x7e6f0ecc4640>"
      ]
     },
     "execution_count": 189,
     "metadata": {},
     "output_type": "execute_result"
    },
    {
     "data": {
      "image/png": "[encoded data removed]",
      "text/plain": [
       "<Figure size 1000x600 with 1 Axes>"
      ]
     },
     "metadata": {},
     "output_type": "display_data"
    }
   ],
   "source": [
    "import matplotlib.pyplot as plt\n",
    "\n",
    "# Plot the actual and predicted streamflow values\n",
    "plt.figure(figsize=(10, 6))\n",
    "plt.plot(test_data_y, label='Actual Streamflow', color='blue')\n",
    "plt.plot(predicted_y, label='Predicted Streamflow', color='red', linestyle='--')\n",
    "\n",
    "# Adding labels and title\n",
    "plt.xlabel('Time Steps')\n",
    "plt.ylabel('Streamflow')\n",
    "plt.title('Actual vs Predicted Streamflow (Combined Model)')\n",
    "plt.legend()\n",
    "# plt.savefig('Combined_Model')|"
   ]
  },
  {
   "cell_type": "code",
   "execution_count": null,
   "metadata": {},
   "outputs": [],
   "source": []
  }
 ],
 "metadata": {
  "kernelspec": {
   "display_name": "Python 3",
   "language": "python",
   "name": "python3"
  },
  "language_info": {
   "codemirror_mode": {
    "name": "ipython",
    "version": 3
   },
   "file_extension": ".py",
   "mimetype": "text/x-python",
   "name": "python",
   "nbconvert_exporter": "python",
   "pygments_lexer": "ipython3",
   "version": "3.10.12"
  }
 },
 "nbformat": 4,
 "nbformat_minor": 2
}
