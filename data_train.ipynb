{
 "cells": [
  {
   "cell_type": "code",
   "execution_count": 1,
   "metadata": {},
   "outputs": [],
   "source": [
    "import numpy as np\n",
    "import pandas as pd\n",
    "import matplotlib.pyplot as plt\n",
    "from IPython.display import clear_output\n",
    "import math\n",
    "import torch\n",
    "import torch.nn as nn\n",
    "import torch.optim as optim\n",
    "from torch.autograd import Variable\n",
    "from sklearn.preprocessing import StandardScaler\n",
    "from tqdm.notebook import tqdm\n",
    "from torchinfo import summary\n",
    "from adopt import ADOPT\n",
    "import os\n",
    "import warnings\n"
   ]
  },
  {
   "cell_type": "code",
   "execution_count": 2,
   "metadata": {},
   "outputs": [],
   "source": [
    "warnings.filterwarnings(\"ignore\")\n",
    "torch.cuda.empty_cache()"
   ]
  },
  {
   "cell_type": "code",
   "execution_count": 3,
   "metadata": {},
   "outputs": [
    {
     "name": "stdout",
     "output_type": "stream",
     "text": [
      "['200801.gzip', '200802.gzip', '200803.gzip', '200804.gzip', '200805.gzip', '200806.gzip', '200807.gzip', '200808.gzip', '200809.gzip', '200810.gzip']\n"
     ]
    }
   ],
   "source": [
    "print(sorted(os.listdir(\"BIG_DATA/2008/\")))"
   ]
  },
  {
   "cell_type": "code",
   "execution_count": 4,
   "metadata": {},
   "outputs": [],
   "source": [
    "def collect_data(directory_path):\n",
    "    \n",
    "    files = sorted(os.listdir(directory_path))\n",
    "    data = pd.read_parquet(directory_path + files[0])\n",
    "    data.drop(['LQFRAC'], axis = 1, inplace = True)\n",
    "    data.rename(columns={'Unnamed: 0': 'time'}, inplace=True)\n",
    "    for i in range(1,len(os.listdir(directory_path))):\n",
    "        data_intermediate = pd.read_parquet(directory_path + files[i])\n",
    "        data_intermediate.rename(columns={'Unnamed: 0': 'time'}, inplace=True)\n",
    "        data_intermediate.drop(['LQFRAC'], axis = 1, inplace = True)\n",
    "        data = pd.concat([data, data_intermediate], axis = 0)\n",
    "\n",
    "    \n",
    "    return data "
   ]
  },
  {
   "cell_type": "code",
   "execution_count": 5,
   "metadata": {},
   "outputs": [],
   "source": [
    "data = collect_data(\"BIG_DATA/2008/\")"
   ]
  },
  {
   "cell_type": "code",
   "execution_count": 6,
   "metadata": {},
   "outputs": [
    {
     "name": "stdout",
     "output_type": "stream",
     "text": [
      "(7319943, 56)\n",
      "Index(['time', 'comid', 'catid', 'du', 'pair_id', 'U2D', 'V2D', 'LWDOWN',\n",
      "       'RAINRATE', 'T2D', 'Q2D', 'PSFC', 'SWDOWN', 'streamflow',\n",
      "       'elevation_mean', 'slope_mean', 'impervious_mean', 'aspect_c_mean',\n",
      "       'twi_dist_4', 'X', 'Y', 'gw_Coeff', 'gw_Zmax', 'gw_Expon',\n",
      "       'bexp_soil_layers_stag=1', 'bexp_soil_layers_stag=2',\n",
      "       'bexp_soil_layers_stag=3', 'bexp_soil_layers_stag=4', 'ISLTYP',\n",
      "       'IVGTYP', 'dksat_soil_layers_stag=1', 'dksat_soil_layers_stag=2',\n",
      "       'dksat_soil_layers_stag=3', 'dksat_soil_layers_stag=4',\n",
      "       'psisat_soil_layers_stag=1', 'psisat_soil_layers_stag=2',\n",
      "       'psisat_soil_layers_stag=3', 'psisat_soil_layers_stag=4', 'cwpvt',\n",
      "       'mfsno', 'mp', 'quartz_soil_layers_stag=1', 'quartz_soil_layers_stag=2',\n",
      "       'quartz_soil_layers_stag=3', 'quartz_soil_layers_stag=4', 'refkdt',\n",
      "       'slope', 'smcmax_soil_layers_stag=1', 'smcmax_soil_layers_stag=2',\n",
      "       'smcmax_soil_layers_stag=3', 'smcmax_soil_layers_stag=4',\n",
      "       'smcwlt_soil_layers_stag=1', 'smcwlt_soil_layers_stag=2',\n",
      "       'smcwlt_soil_layers_stag=3', 'smcwlt_soil_layers_stag=4', 'vcmx25'],\n",
      "      dtype='object')\n"
     ]
    }
   ],
   "source": [
    "print(data.shape)\n",
    "print(data.columns)"
   ]
  },
  {
   "cell_type": "code",
   "execution_count": 7,
   "metadata": {},
   "outputs": [
    {
     "name": "stdout",
     "output_type": "stream",
     "text": [
      "The number of features available to us: 56\n",
      "Index(['time', 'comid', 'catid', 'du', 'pair_id', 'U2D', 'V2D', 'LWDOWN',\n",
      "       'RAINRATE', 'T2D', 'Q2D', 'PSFC', 'SWDOWN', 'streamflow',\n",
      "       'elevation_mean', 'slope_mean', 'impervious_mean', 'aspect_c_mean',\n",
      "       'twi_dist_4', 'X', 'Y', 'gw_Coeff', 'gw_Zmax', 'gw_Expon',\n",
      "       'bexp_soil_layers_stag=1', 'bexp_soil_layers_stag=2',\n",
      "       'bexp_soil_layers_stag=3', 'bexp_soil_layers_stag=4', 'ISLTYP',\n",
      "       'IVGTYP', 'dksat_soil_layers_stag=1', 'dksat_soil_layers_stag=2',\n",
      "       'dksat_soil_layers_stag=3', 'dksat_soil_layers_stag=4',\n",
      "       'psisat_soil_layers_stag=1', 'psisat_soil_layers_stag=2',\n",
      "       'psisat_soil_layers_stag=3', 'psisat_soil_layers_stag=4', 'cwpvt',\n",
      "       'mfsno', 'mp', 'quartz_soil_layers_stag=1', 'quartz_soil_layers_stag=2',\n",
      "       'quartz_soil_layers_stag=3', 'quartz_soil_layers_stag=4', 'refkdt',\n",
      "       'slope', 'smcmax_soil_layers_stag=1', 'smcmax_soil_layers_stag=2',\n",
      "       'smcmax_soil_layers_stag=3', 'smcmax_soil_layers_stag=4',\n",
      "       'smcwlt_soil_layers_stag=1', 'smcwlt_soil_layers_stag=2',\n",
      "       'smcwlt_soil_layers_stag=3', 'smcwlt_soil_layers_stag=4', 'vcmx25'],\n",
      "      dtype='object')\n"
     ]
    }
   ],
   "source": [
    "print(f\"The number of features available to us: {data.shape[1]}\")\n",
    "print(data.columns)"
   ]
  },
  {
   "cell_type": "code",
   "execution_count": 8,
   "metadata": {},
   "outputs": [
    {
     "name": "stdout",
     "output_type": "stream",
     "text": [
      "After dropping a few columns, the number of new features available to us is: 25\n"
     ]
    }
   ],
   "source": [
    "data.drop(['bexp_soil_layers_stag=2',\n",
    "       'bexp_soil_layers_stag=3', 'bexp_soil_layers_stag=4', 'dksat_soil_layers_stag=2',\n",
    "       'dksat_soil_layers_stag=3', 'dksat_soil_layers_stag=4', 'psisat_soil_layers_stag=2',\n",
    "       'psisat_soil_layers_stag=3', 'psisat_soil_layers_stag=4', 'quartz_soil_layers_stag=2',\n",
    "       'quartz_soil_layers_stag=3', 'quartz_soil_layers_stag=4', 'smcmax_soil_layers_stag=2',\n",
    "       'smcmax_soil_layers_stag=3', 'smcmax_soil_layers_stag=4','smcwlt_soil_layers_stag=2',\n",
    "       'smcwlt_soil_layers_stag=3', 'smcwlt_soil_layers_stag=4',  'bexp_soil_layers_stag=1', 'cwpvt', 'mp', 'quartz_soil_layers_stag=1', 'vcmx25', 'aspect_c_mean', 'gw_Coeff', 'gw_Zmax', 'gw_Expon', 'psisat_soil_layers_stag=1', 'smcmax_soil_layers_stag=1', 'smcwlt_soil_layers_stag=1', 'refkdt'], axis = 1, inplace = True)\n",
    "print(f\"After dropping a few columns, the number of new features available to us is: {len(data.columns)}\")"
   ]
  },
  {
   "cell_type": "code",
   "execution_count": 9,
   "metadata": {},
   "outputs": [
    {
     "name": "stdout",
     "output_type": "stream",
     "text": [
      "33  DS is empty\n",
      "36  US is empty or the upstream flow is constant\n",
      "65  US is empty or the upstream flow is constant\n",
      "169  DS is empty\n",
      "170  US is empty or the upstream flow is constant\n",
      "195  US is empty or the upstream flow is constant\n",
      "199  DS is empty\n",
      "270  US is empty or the upstream flow is constant\n",
      "281  DS is empty\n",
      "291  DS is empty\n",
      "303  DS is empty\n",
      "331  DS is empty\n",
      "390  US is empty or the upstream flow is constant\n",
      "425  US is empty or the upstream flow is constant\n",
      "457  US is empty or the upstream flow is constant\n",
      "The number of networks we have:\t485\n",
      "The number of data points in each network:\t7320\n",
      "The number of features in each network:\t49\n"
     ]
    }
   ],
   "source": [
    "def load_data_in_dictionary(data):\n",
    "    '''This loads the data into a dictionary. each index of dictionary has a pair of watersheds, \n",
    "       upper and lower, and their features are merged in the for loop below'''\n",
    "    num_networks = 0\n",
    "    network_dict = {}\n",
    "    broken_pairs = []\n",
    "    for i in range(int((data['pair_id']).max())+1):\n",
    "        downstream = data[(data['pair_id']== i) & (data['du'] == 'd')]\n",
    "        upstream = data[(data['pair_id']== i) & (data['du'] == 'u')]\n",
    "        #print(downstream)\n",
    "        #print(upstream)\n",
    "        if downstream.empty or downstream.isnull().values.any():\n",
    "            print(i, \" DS is empty\")\n",
    "            continue\n",
    "        if upstream.empty or upstream.isnull().values.any():\n",
    "            print(i, \" US is empty or the upstream flow is constant\")\n",
    "            continue\n",
    "        '''area_ratio = upstream.iloc[0][\"Shape_Area\"] / downstream.iloc[0][\"Shape_Area\"]\n",
    "        if area_ratio > 1:\n",
    "            print(i, \" area ratio too large\")\n",
    "            continue\n",
    "        if abs(downstream.iloc[-1]['ID'] - upstream.iloc[-1]['ID']) > 100:\n",
    "            print(i, \" DS and US too far apart\")\n",
    "            continue'''\n",
    "        network = downstream.merge(upstream, on=\"time\")\n",
    "        network_dict[num_networks] = network\n",
    "        num_networks += 1\n",
    "\n",
    "    real_id = 0\n",
    "    for key in network_dict.keys():\n",
    "        if key != real_id:\n",
    "            network_dict[real_id] = network_dict.pop(key)\n",
    "        real_id += 1\n",
    "\n",
    "    return network_dict, broken_pairs, num_networks, network\n",
    "\n",
    "\n",
    "\n",
    "network_dict, broken_pairs, num_networks, network = load_data_in_dictionary(data)\n",
    "\n",
    "print(f\"The number of networks we have:\\t{len(network_dict)}\")\n",
    "print(f\"The number of data points in each network:\\t{network_dict[0].shape[0]}\")\n",
    "print(f\"The number of features in each network:\\t{network_dict[0].shape[1]}\")"
   ]
  },
  {
   "cell_type": "code",
   "execution_count": 10,
   "metadata": {},
   "outputs": [
    {
     "name": "stdout",
     "output_type": "stream",
     "text": [
      "                     time   comid_x     catid_x du_x  pair_id_x     U2D_x  \\\n",
      "0     2008-01-01 00:00:00  16808155  cat-418010    d       18.0 -0.300478   \n",
      "1     2008-01-01 01:00:00  16808155  cat-418010    d       18.0 -0.200000   \n",
      "2     2008-01-01 02:00:00  16808155  cat-418010    d       18.0  0.000000   \n",
      "3     2008-01-01 03:00:00  16808155  cat-418010    d       18.0  0.200000   \n",
      "4     2008-01-01 04:00:00  16808155  cat-418010    d       18.0  0.424453   \n",
      "...                   ...       ...         ...  ...        ...       ...   \n",
      "7315  2008-10-31 19:00:00  16808155  cat-418010    d       18.0 -2.645714   \n",
      "7316  2008-10-31 20:00:00  16808155  cat-418010    d       18.0 -2.700000   \n",
      "7317  2008-10-31 21:00:00  16808155  cat-418010    d       18.0 -2.799417   \n",
      "7318  2008-10-31 22:00:00  16808155  cat-418010    d       18.0 -2.804335   \n",
      "7319  2008-10-31 23:00:00  16808155  cat-418010    d       18.0 -2.894562   \n",
      "\n",
      "         V2D_x    LWDOWN_x  RAINRATE_x       T2D_x  ...  slope_mean_y  \\\n",
      "0     2.998064  260.405212         0.0  282.312927  ...      0.063737   \n",
      "1     2.200000  260.323608         0.0  282.204163  ...      0.063737   \n",
      "2     1.409971  260.279694         0.0  282.114014  ...      0.063737   \n",
      "3     0.628913  263.041229         0.0  282.012024  ...      0.063737   \n",
      "4     0.928913  262.705658         0.0  281.383301  ...      0.063737   \n",
      "...        ...         ...         ...         ...  ...           ...   \n",
      "7315 -1.154825  296.683472         0.0  293.288269  ...      0.063737   \n",
      "7316 -0.954615  296.865326         0.0  293.446014  ...      0.063737   \n",
      "7317 -0.740880  283.732178         0.0  293.615448  ...      0.063737   \n",
      "7318 -0.607326  282.807526         0.0  291.173279  ...      0.063737   \n",
      "7319 -0.485017  281.883179         0.0  288.786438  ...      0.063737   \n",
      "\n",
      "      impervious_mean_y                                       twi_dist_4_y  \\\n",
      "0              0.056699  [{\"v\":7.734,\"frequency\":0.25},{\"v\":8.973,\"freq...   \n",
      "1              0.056699  [{\"v\":7.734,\"frequency\":0.25},{\"v\":8.973,\"freq...   \n",
      "2              0.056699  [{\"v\":7.734,\"frequency\":0.25},{\"v\":8.973,\"freq...   \n",
      "3              0.056699  [{\"v\":7.734,\"frequency\":0.25},{\"v\":8.973,\"freq...   \n",
      "4              0.056699  [{\"v\":7.734,\"frequency\":0.25},{\"v\":8.973,\"freq...   \n",
      "...                 ...                                                ...   \n",
      "7315           0.056699  [{\"v\":7.734,\"frequency\":0.25},{\"v\":8.973,\"freq...   \n",
      "7316           0.056699  [{\"v\":7.734,\"frequency\":0.25},{\"v\":8.973,\"freq...   \n",
      "7317           0.056699  [{\"v\":7.734,\"frequency\":0.25},{\"v\":8.973,\"freq...   \n",
      "7318           0.056699  [{\"v\":7.734,\"frequency\":0.25},{\"v\":8.973,\"freq...   \n",
      "7319           0.056699  [{\"v\":7.734,\"frequency\":0.25},{\"v\":8.973,\"freq...   \n",
      "\n",
      "            X_y        Y_y  ISLTYP_y  IVGTYP_y dksat_soil_layers_stag=1_y  \\\n",
      "0    -81.638736  27.177232       1.0       5.0                   0.000012   \n",
      "1    -81.638736  27.177232       1.0       5.0                   0.000012   \n",
      "2    -81.638736  27.177232       1.0       5.0                   0.000012   \n",
      "3    -81.638736  27.177232       1.0       5.0                   0.000012   \n",
      "4    -81.638736  27.177232       1.0       5.0                   0.000012   \n",
      "...         ...        ...       ...       ...                        ...   \n",
      "7315 -81.638736  27.177232       1.0       5.0                   0.000012   \n",
      "7316 -81.638736  27.177232       1.0       5.0                   0.000012   \n",
      "7317 -81.638736  27.177232       1.0       5.0                   0.000012   \n",
      "7318 -81.638736  27.177232       1.0       5.0                   0.000012   \n",
      "7319 -81.638736  27.177232       1.0       5.0                   0.000012   \n",
      "\n",
      "      mfsno_y   slope_y  \n",
      "0         2.0  0.008293  \n",
      "1         2.0  0.008293  \n",
      "2         2.0  0.008293  \n",
      "3         2.0  0.008293  \n",
      "4         2.0  0.008293  \n",
      "...       ...       ...  \n",
      "7315      2.0  0.008293  \n",
      "7316      2.0  0.008293  \n",
      "7317      2.0  0.008293  \n",
      "7318      2.0  0.008293  \n",
      "7319      2.0  0.008293  \n",
      "\n",
      "[7320 rows x 49 columns]\n"
     ]
    }
   ],
   "source": [
    "print(network_dict[18])"
   ]
  },
  {
   "cell_type": "code",
   "execution_count": 11,
   "metadata": {},
   "outputs": [],
   "source": [
    "network.drop(['time', 'comid_x', 'catid_x', 'du_x', 'pair_id_x', 'twi_dist_4_x', 'comid_y', 'catid_y', 'du_y', 'pair_id_y', 'twi_dist_4_y', \"X_x\", \"Y_x\", \"X_y\", \"Y_y\"], axis = 1, inplace=True)"
   ]
  },
  {
   "cell_type": "code",
   "execution_count": 12,
   "metadata": {},
   "outputs": [],
   "source": [
    "reduced_features = network.columns.to_list()"
   ]
  },
  {
   "cell_type": "code",
   "execution_count": 13,
   "metadata": {},
   "outputs": [
    {
     "name": "stdout",
     "output_type": "stream",
     "text": [
      "Using CUDA device: NVIDIA GeForce RTX 3060\n"
     ]
    }
   ],
   "source": [
    "if torch.cuda.is_available():\n",
    "    device = torch.device(\"cuda:0\")\n",
    "    print(\"Using CUDA device:\", torch.cuda.get_device_name(0))\n",
    "elif torch.backends.mps.is_available():\n",
    "    device = torch.device(\"mps\")\n",
    "    print(\"Using Apple M3/M2/M1 (Metal) device\")\n",
    "else:\n",
    "    device = 'cpu'\n",
    "    print(\"Using CPU\")\n",
    "\n",
    "# batch_size = 1704\n",
    "seq_length = 550"
   ]
  },
  {
   "cell_type": "code",
   "execution_count": 14,
   "metadata": {},
   "outputs": [
    {
     "name": "stdout",
     "output_type": "stream",
     "text": [
      "97\n"
     ]
    }
   ],
   "source": [
    "n_networks = len(network_dict)\n",
    "\n",
    "n_networks_split = {\"train\": (math.floor(n_networks * 0.7)), \"val\": math.floor(n_networks * 0.2), \"test\": math.floor(n_networks * 0.1)}\n",
    "print(n_networks_split['val'])"
   ]
  },
  {
   "cell_type": "code",
   "execution_count": 15,
   "metadata": {},
   "outputs": [
    {
     "name": "stdout",
     "output_type": "stream",
     "text": [
      "The networks for training is [0, 1, 2, 3, 4, 5, 6, 7, 8, 9, 10, 11, 12, 13, 14, 15, 16, 17, 18, 19, 20, 21, 22, 23, 24, 25, 26, 27, 28, 29, 30, 31, 32, 33, 34, 35, 36, 37, 38, 39, 40, 41, 42, 43, 44, 45, 46, 47, 48, 49, 50, 51, 52, 53, 54, 55, 56, 57, 58, 59, 60, 61, 62, 63, 64, 65, 66, 67, 68, 69, 70, 71, 72, 73, 74, 75, 76, 77, 78, 79, 80, 81, 82, 83, 84, 85, 86, 87, 88, 89, 90, 91, 92, 93, 94, 95, 96, 97, 98, 99, 100, 101, 102, 103, 104, 105, 106, 107, 108, 109, 110, 111, 112, 113, 114, 115, 116, 117, 118, 119, 120, 121, 122, 123, 124, 125, 126, 127, 128, 129, 130, 131, 132, 133, 134, 135, 136, 137, 138, 139, 140, 141, 142, 143, 144, 145, 146, 147, 148, 149, 150, 151, 152, 153, 154, 155, 156, 157, 158, 159, 160, 161, 162, 163, 164, 165, 166, 167, 168, 169, 170, 171, 172, 173, 174, 175, 176, 177, 178, 179, 180, 181, 182, 183, 184, 185, 186, 187, 188, 189, 190, 191, 192, 193, 194, 195, 196, 197, 198, 199, 200, 201, 202, 203, 204, 205, 206, 207, 208, 209, 210, 211, 212, 213, 214, 215, 216, 217, 218, 219, 220, 221, 222, 223, 224, 225, 226, 227, 228, 229, 230, 231, 232, 233, 234, 235, 236, 237, 238, 239, 240, 241, 242, 243, 244, 245, 246, 247, 248, 249, 250, 251, 252, 253, 254, 255, 256, 257, 258, 259, 260, 261, 262, 263, 264, 265, 266, 267, 268, 269, 270, 271, 272, 273, 274, 275, 276, 277, 278, 279, 280, 281, 282, 283, 284, 285, 286, 287, 288, 289, 290, 291, 292, 293, 294, 295, 296, 297, 298, 299, 300, 301, 302, 303, 304, 305, 306, 307, 308, 309, 310, 311, 312, 313, 314, 315, 316, 317, 318, 319, 320, 321, 322, 323, 324, 325, 326, 327, 328, 329, 330, 331, 332, 333, 334, 335, 336, 337, 338, 339]\n",
      "The networks for validation is [340, 341, 342, 343, 344, 345, 346, 347, 348, 349, 350, 351, 352, 353, 354, 355, 356, 357, 358, 359, 360, 361, 362, 363, 364, 365, 366, 367, 368, 369, 370, 371, 372, 373, 374, 375, 376, 377, 378, 379, 380, 381, 382, 383, 384, 385, 386, 387, 388, 389, 390, 391, 392, 393, 394, 395, 396, 397, 398, 399, 400, 401, 402, 403, 404, 405, 406, 407, 408, 409, 410, 411, 412, 413, 414, 415, 416, 417, 418, 419, 420, 421, 422, 423, 424, 425, 426, 427, 428, 429, 430, 431, 432, 433, 434, 435, 436]\n",
      "The networks for testing is [437, 438, 439, 440, 441, 442, 443, 444, 445, 446, 447, 448, 449, 450, 451, 452, 453, 454, 455, 456, 457, 458, 459, 460, 461, 462, 463, 464, 465, 466, 467, 468, 469, 470, 471, 472, 473, 474, 475, 476, 477, 478, 479, 480, 481, 482, 483, 484]\n"
     ]
    }
   ],
   "source": [
    "def split_parameters(n_networks):\n",
    "    # create lists of network indices for each set based on the given network splits\n",
    "    networks_for_training = list(range(0, n_networks_split['train'] + 1))\n",
    "    networks_for_val = list(range(n_networks_split['train'] + 1, \n",
    "                                 n_networks_split['train'] + n_networks_split['val'] + 1))\n",
    "\n",
    "    if (n_networks_split['test'] > 0):\n",
    "        networks_for_test = list(range(n_networks - n_networks_split['test'], n_networks))\n",
    "    else:\n",
    "        print(\"Since the dataset is small and no basins are available for testing. We give a random bucket to test.\")\n",
    "        random_bucket = np.random.randint(0, n_networks)\n",
    "        networks_for_test = [random_bucket]\n",
    "    \n",
    "    # organize the split parameters into separate lists for each set\n",
    "    train_split_parameters = [networks_for_training]\n",
    "    val_split_parameters = [networks_for_val]\n",
    "    test_split_parameters = [networks_for_test]\n",
    "\n",
    "    return [train_split_parameters, val_split_parameters, test_split_parameters]\n",
    "\n",
    "[[networks_for_training], [networks_for_val], [networks_for_test]] = split_parameters(n_networks)\n",
    "print(f\"The networks for training is {networks_for_training}\")\n",
    "print(f\"The networks for validation is {networks_for_val}\")\n",
    "print(f\"The networks for testing is {networks_for_test}\")"
   ]
  },
  {
   "cell_type": "code",
   "execution_count": 16,
   "metadata": {},
   "outputs": [],
   "source": [
    "#this cell needs to be removed\n",
    "\n",
    "# networks_for_training = list(range(10, 50))\n",
    "# networks_for_val = list(range(112,135))\n"
   ]
  },
  {
   "cell_type": "code",
   "execution_count": 17,
   "metadata": {},
   "outputs": [],
   "source": [
    "def correlation_with_lstm_output(correlation_inputs, correlation_outputs, networks_for_training):\n",
    "    correlation_data = correlation_inputs + correlation_outputs\n",
    "    frames = [network_dict[ibuc].loc[:, correlation_data] for ibuc in networks_for_training]\n",
    "    df_in = pd.concat(frames)\n",
    "    correlation_matrix = np.corrcoef(df_in)\n",
    "\n",
    "    for i in range(len(correlation_outputs)):\n",
    "        print(f\"Correlation with {correlation_outputs[i]}\")\n",
    "        for j in range(len(correlation_data)):\n",
    "            print(f\"{correlation_data[j]}: {correlation_matrix[i+len(correlation_inputs)][j]}\")"
   ]
  },
  {
   "cell_type": "code",
   "execution_count": 18,
   "metadata": {},
   "outputs": [],
   "source": [
    "#among all the features in the dataset, we will be working on thses features. If you want to add a new feature, see the datafile and add features as you like\n",
    "\n",
    "# lstm_inputs = [\n",
    "#     'precip_rate_x', \n",
    "#     'TMP_2maboveground_x', \n",
    "#     'UGRD_10maboveground_x',\n",
    "#     'APCP_surface_x', \n",
    "#     'elevation_mean_x', 'slope_mean_x', 'Shape_Area_x',\n",
    "#     'impervious_mean_x', 'dksat_soil_layers_stag=1_x', \n",
    "#     'streamflow_x',\n",
    "#     'precip_rate_y', \n",
    "#     'TMP_2maboveground_y', \n",
    "#     'UGRD_10maboveground_y',\n",
    "#     'APCP_surface_y', \n",
    "#     'elevation_mean_y', 'slope_mean_y', 'Shape_Area_y',\n",
    "#     'impervious_mean_y', 'dksat_soil_layers_stag=1_y']\n",
    "\n",
    "# lstm_inputs = [ 'precip_rate_x', \n",
    "#     'APCP_surface_x', \n",
    "#                'TMP_2maboveground_x', \n",
    "#     'DSWRF_surface_x', 'DLWRF_surface_x', 'PRES_surface_x', \n",
    "#     'UGRD_10maboveground_x', 'VGRD_10maboveground_x', 'SPFH_2maboveground_x', \n",
    "#     'elevation_mean_x', 'slope_mean_x', 'Shape_Area_x',\n",
    "#     'impervious_mean_x', 'dksat_soil_layers_stag=1_x', \n",
    "#     'streamflow_x',\n",
    "#     'precip_rate_y', \n",
    "#     'APCP_surface_y', \n",
    "#     'TMP_2maboveground_y',\n",
    "#     'DSWRF_surface_y', 'DLWRF_surface_y', 'PRES_surface_y',\n",
    "#     'UGRD_10maboveground_y', 'VGRD_10maboveground_y', 'SPFH_2maboveground_y',\n",
    "#     'elevation_mean_y', 'slope_mean_y', 'Shape_Area_y',\n",
    "#     'impervious_mean_y', 'dksat_soil_layers_stag=1_y']\n",
    "\n",
    "lstm_outputs = ['streamflow_y']     #this is what we will be trying to predict using the LSTM model\n",
    "n_output = len(lstm_outputs)\n",
    "# print(f\"The number of features for LSTM model:\\t{n_input}\")"
   ]
  },
  {
   "cell_type": "code",
   "execution_count": 19,
   "metadata": {},
   "outputs": [],
   "source": [
    "correlation_inputs = reduced_features\n",
    "# correlation_with_lstm_output(correlation_inputs, lstm_outputs, networks_for_training)"
   ]
  },
  {
   "cell_type": "code",
   "execution_count": 20,
   "metadata": {},
   "outputs": [
    {
     "name": "stdout",
     "output_type": "stream",
     "text": [
      "The number of features for LSTM model:\t33\n",
      "['U2D_x', 'V2D_x', 'LWDOWN_x', 'RAINRATE_x', 'T2D_x', 'Q2D_x', 'PSFC_x', 'SWDOWN_x', 'streamflow_x', 'elevation_mean_x', 'slope_mean_x', 'impervious_mean_x', 'ISLTYP_x', 'IVGTYP_x', 'dksat_soil_layers_stag=1_x', 'mfsno_x', 'slope_x', 'U2D_y', 'V2D_y', 'LWDOWN_y', 'RAINRATE_y', 'T2D_y', 'Q2D_y', 'PSFC_y', 'SWDOWN_y', 'elevation_mean_y', 'slope_mean_y', 'impervious_mean_y', 'ISLTYP_y', 'IVGTYP_y', 'dksat_soil_layers_stag=1_y', 'mfsno_y', 'slope_y']\n"
     ]
    }
   ],
   "source": [
    "lstm_inputs = network.drop([\"streamflow_y\"], axis = 1).columns.to_list()\n",
    "#lstm_inputs = ['U2D_y', 'V2D_y', 'LWDOWN_y', 'RAINRATE_y', 'T2D_y', 'Q2D_y', 'PSFC_y', 'SWDOWN_y', 'elevation_mean_y', 'slope_mean_y', 'impervious_mean_y', 'ISLTYP_y', 'IVGTYP_y', 'dksat_soil_layers_stag=1_y', 'mfsno_y', 'slope_y']\n",
    "n_input = len(lstm_inputs)\n",
    "print(f\"The number of features for LSTM model:\\t{n_input}\")\n",
    "print(lstm_inputs)"
   ]
  },
  {
   "cell_type": "code",
   "execution_count": 21,
   "metadata": {},
   "outputs": [],
   "source": [
    "def viz_networks(ibuc):\n",
    "    fig, ax = plt.subplots()\n",
    "    print('Network:', ibuc)\n",
    "    print(\"Streamflow (downstream) mean:\", np.round(network_dict[ibuc].streamflow_x.mean(),2))\n",
    "    print(\"Streamflow (upstream) mean:\", np.round(network_dict[ibuc].streamflow_y.mean(),2))\n",
    "\n",
    "    # network_dict[ibuc].loc[:2000,['precip_rate_x']].plot(ax=ax, legend=False)\n",
    "    network_dict[ibuc].loc[:2000,['streamflow_y']].plot(ax=ax, legend=False)\n",
    "    # network_dict[ibuc].loc[:2000,['APCP_surface_y']].plot(ax=ax, legend=False)\n",
    "    # network_dict[ibuc].loc[:2000,['streamflow_x']].plot(ax=ax, legend=False)\n",
    "    # network_dict[ibuc].loc[:2000,['APCP_surface_x']].plot(ax=ax, legend=False)\n",
    "    ax.set_title('Streamflow')\n",
    "    ax.set_xlabel('Time (h)')\n",
    "    ax.set_ylabel('Streamflow')\n",
    "\n",
    "    ax.legend([\"Streamflow_y\", \"APCP_surface_x\"])\n",
    "    \n",
    "    plt.show()\n",
    "    plt.close()\n",
    "\n",
    "def viz_networks2(ibuc):\n",
    "    fig, ax1 = plt.subplots()\n",
    "    print('Network:', ibuc)\n",
    "    print(\"Streamflow (downstream) mean:\", np.round(network_dict[ibuc].streamflow_x.mean(), 2))\n",
    "    print(\"Streamflow (upstream) mean:\", np.round(network_dict[ibuc].streamflow_y.mean(), 2))\n",
    "\n",
    "    # Plot streamflow_y on the primary y-axis\n",
    "    network_dict[ibuc].loc[:2000, ['streamflow_x']].plot(ax=ax1, color = 'blue', legend=False)\n",
    "    network_dict[ibuc].loc[:2000, ['streamflow_y']].plot(ax=ax1, color = 'purple', legend=False)\n",
    "    ax1.set_title('Streamflow and Precipitation')\n",
    "    ax1.set_xlabel('Time (h)')\n",
    "    ax1.set_ylabel('Streamflow')\n",
    "    \n",
    "    # Create a secondary y-axis and plot APCP_surface_x on it\n",
    "    ax2 = ax1.twinx()\n",
    "    network_dict[ibuc].loc[:2000, ['APCP_surface_x']].plot(ax=ax2, color='orange', legend=False)\n",
    "    \n",
    "    network_dict[ibuc].loc[:2000, ['APCP_surface_y']].plot(ax=ax2, color='red', legend=False)\n",
    "    ax2.set_ylabel('APCP Surface')\n",
    "    \n",
    "    # Add legends for each axis\n",
    "    ax1.legend([\"Streamflow_y\"], loc='upper left')\n",
    "    ax2.legend([\"APCP_surface_x\"], loc='upper right')\n",
    "    \n",
    "    plt.show()\n",
    "    plt.close()\n",
    "\n",
    "    \n",
    "\n"
   ]
  },
  {
   "cell_type": "code",
   "execution_count": 22,
   "metadata": {},
   "outputs": [
    {
     "data": {
      "text/plain": [
       "'displayed = 0\\n\\nfor ibuc in networks_for_training:\\n    viz_networks(ibuc)\\n    displayed += 1\\n\\n\\nfor ibuc in networks_for_val:\\n    viz_networks(ibuc)\\n    displayed += 1 \\n'"
      ]
     },
     "execution_count": 22,
     "metadata": {},
     "output_type": "execute_result"
    }
   ],
   "source": [
    "'''displayed = 0\n",
    "\n",
    "for ibuc in networks_for_training:\n",
    "    viz_networks(ibuc)\n",
    "    displayed += 1\n",
    "\n",
    "\n",
    "for ibuc in networks_for_val:\n",
    "    viz_networks(ibuc)\n",
    "    displayed += 1 \n",
    "'''"
   ]
  },
  {
   "cell_type": "code",
   "execution_count": 23,
   "metadata": {},
   "outputs": [],
   "source": [
    "\n",
    "\n",
    "class LSTM1(nn.Module):\n",
    "    def __init__(self, input_size, num_classes):\n",
    "        super(LSTM1, self).__init__()\n",
    "        self.num_classes = num_classes\n",
    "        self.input_size = input_size\n",
    "\n",
    "        self.lstm1 = nn.LSTM(input_size=input_size, hidden_size=128, batch_first=True)\n",
    "        self.dropout1 = nn.Dropout(0.4)\n",
    "        self.lstm2 = nn.LSTM(input_size=128, hidden_size=256, batch_first=True)\n",
    "        self.relu2 = nn.ReLU()\n",
    "        self.dropout2 = nn.Dropout(0.4)\n",
    "        self.normalization1 = nn.BatchNorm1d(256)\n",
    "        # Fully connected layers\n",
    "        self.fc = nn.Sequential(\n",
    "            nn.Linear(256, 128, bias=True),\n",
    "            nn.ReLU(),\n",
    "            nn.Dropout(0.4),\n",
    "            nn.BatchNorm1d(128),\n",
    "            nn.Linear(128, 64, bias = True),\n",
    "            nn.ReLU(),\n",
    "            nn.Linear(64, num_classes, bias=True)\n",
    "        )\n",
    "\n",
    "    def forward(self, x):\n",
    "        out, _= self.lstm1(x)\n",
    "        out = self.dropout1(out)\n",
    "        out, _ = self.lstm2(out)\n",
    "        out = self.relu2(out)\n",
    "        out = self.dropout2(out)\n",
    "        out = out[:,-1, :]\n",
    "        out = self.normalization1(out)\n",
    "\n",
    "        prediction = self.fc(out)\n",
    "        return prediction\n",
    "\n"
   ]
  },
  {
   "cell_type": "code",
   "execution_count": 24,
   "metadata": {},
   "outputs": [],
   "source": [
    "\n",
    "model = LSTM1(input_size=n_input, num_classes=n_output).to(device)\n",
    "# model.load_state_dict(torch.load(\"model_weights_0.pth\"))"
   ]
  },
  {
   "cell_type": "code",
   "execution_count": 25,
   "metadata": {},
   "outputs": [],
   "source": [
    "def fit_scaler():\n",
    "    frames = [network_dict[ibuc].loc[:, lstm_inputs] for ibuc in networks_for_training]\n",
    "    df_in = pd.concat(frames)   \n",
    "    print(df_in.shape)\n",
    "    scaler_in = StandardScaler()\n",
    "    scaler_in.fit(df_in)\n",
    "\n",
    "    frames = [network_dict[ibuc].loc[:, lstm_outputs] for ibuc in networks_for_training]\n",
    "    df_out = pd.concat(frames)    \n",
    "    print(df_out.shape)\n",
    "    scaler_out = StandardScaler()\n",
    "    scaler_out.fit(df_out)\n",
    "    return scaler_in, scaler_out"
   ]
  },
  {
   "cell_type": "code",
   "execution_count": 26,
   "metadata": {},
   "outputs": [
    {
     "name": "stdout",
     "output_type": "stream",
     "text": [
      "(2488760, 33)\n",
      "(2488760, 1)\n"
     ]
    }
   ],
   "source": [
    "scaler_in, scaler_out = fit_scaler()"
   ]
  },
  {
   "cell_type": "code",
   "execution_count": 27,
   "metadata": {},
   "outputs": [
    {
     "data": {
      "text/plain": [
       "'def make_data_loader(network_list):\\n    loader = {}\\n    np_seq_X = {}\\n    np_seq_y = {}\\n    for ibuc in network_list:\\n        df = network_dict[ibuc]\\n        scaler_in_i = scaler_in.transform(df.loc[:, lstm_inputs])\\n        scaler_out_i = scaler_out.transform(df.loc[:, lstm_outputs])\\n        \\n        n_samples = scaler_in_i.shape[0] - seq_length\\n        \\n        np_seq_X[ibuc] = np.zeros((n_samples, seq_length, n_input))\\n        np_seq_y[ibuc] = np.zeros((n_samples, n_output)) \\n\\n        for i in range(n_samples):\\n            t = i + seq_length\\n            np_seq_X[ibuc][i, :, :] = scaler_in_i[i:t, :]\\n            np_seq_y[ibuc][i, :] = scaler_out_i[t, :]\\n\\n        ds = [torch.Tensor(np_seq_X[ibuc]), torch.Tensor(np_seq_y[ibuc])]\\n        loader[ibuc] = ds\\n    return loader, np_seq_X, np_seq_y'"
      ]
     },
     "execution_count": 27,
     "metadata": {},
     "output_type": "execute_result"
    }
   ],
   "source": [
    "'''def make_data_loader(network_list):\n",
    "    loader = {}\n",
    "    np_seq_X = {}\n",
    "    np_seq_y = {}\n",
    "    for ibuc in network_list:\n",
    "        df = network_dict[ibuc]\n",
    "        scaler_in_i = scaler_in.transform(df.loc[:, lstm_inputs])\n",
    "        scaler_out_i = scaler_out.transform(df.loc[:, lstm_outputs])\n",
    "        \n",
    "        n_samples = scaler_in_i.shape[0] - seq_length\n",
    "        \n",
    "        np_seq_X[ibuc] = np.zeros((n_samples, seq_length, n_input))\n",
    "        np_seq_y[ibuc] = np.zeros((n_samples, n_output)) \n",
    "\n",
    "        for i in range(n_samples):\n",
    "            t = i + seq_length\n",
    "            np_seq_X[ibuc][i, :, :] = scaler_in_i[i:t, :]\n",
    "            np_seq_y[ibuc][i, :] = scaler_out_i[t, :]\n",
    "\n",
    "        ds = [torch.Tensor(np_seq_X[ibuc]), torch.Tensor(np_seq_y[ibuc])]\n",
    "        loader[ibuc] = ds\n",
    "    return loader, np_seq_X, np_seq_y'''"
   ]
  },
  {
   "cell_type": "code",
   "execution_count": 28,
   "metadata": {},
   "outputs": [
    {
     "data": {
      "text/plain": [
       "'train_loader, np_train_seq_X, np_train_seq_y = make_data_loader(networks_for_training)\\nval_loader, np_val_seq_X, np_val_seq_y = make_data_loader(networks_for_val)\\ntest_loader, np_test_seq_X, np_test_seq_y = make_data_loader(networks_for_test)'"
      ]
     },
     "execution_count": 28,
     "metadata": {},
     "output_type": "execute_result"
    }
   ],
   "source": [
    "'''train_loader, np_train_seq_X, np_train_seq_y = make_data_loader(networks_for_training)\n",
    "val_loader, np_val_seq_X, np_val_seq_y = make_data_loader(networks_for_val)\n",
    "test_loader, np_test_seq_X, np_test_seq_y = make_data_loader(networks_for_test)'''"
   ]
  },
  {
   "cell_type": "code",
   "execution_count": 29,
   "metadata": {},
   "outputs": [],
   "source": [
    "class EfficientDataset(torch.utils.data.Dataset):\n",
    "\n",
    "    def __init__(self, network_dict, network_list, scaler_in, scaler_out):\n",
    "        self.network_dict = network_dict\n",
    "        self.network_list = network_list\n",
    "        self.scaler_in = scaler_in\n",
    "        self.scaler_out = scaler_out\n",
    "        self.df = pd.concat([network_dict[key] for key in network_list],\n",
    "                            ignore_index=True)\n",
    "\n",
    "    def __len__(self):\n",
    "        #df = pd.concat(self.network_dict[self.network_list])\n",
    "        return len(self.df) \n",
    "    \n",
    "    def transform(self, object):\n",
    "        #print(object.columns)\n",
    "        object_in = object.loc[:, lstm_inputs]\n",
    "        object_out = object.loc[:, lstm_outputs]\n",
    "        scaler_in_i = self.scaler_in.transform(object_in)\n",
    "        scaler_out_i = self.scaler_out.transform(object_out)\n",
    "\n",
    "        return scaler_in_i, scaler_out_i\n",
    "    \n",
    "    def __getitem__(self, idx):\n",
    "        try:\n",
    "            #df = self.network_dict[0]\n",
    "            #dflen = len(df)\n",
    "            #network_idx = self.network_list[math.floor(idx / dflen)]\n",
    "            #object = self.network_dict[network_idx].iloc[[idx % dflen]]\n",
    "            object = self.df.iloc[[idx]]\n",
    "            scaler_in_i, scaler_out_i = self.transform(object)\n",
    "\n",
    "            return scaler_in_i.astype(np.float32), scaler_out_i.astype(np.float32)\n",
    "        except Exception as e:\n",
    "            print(e)\n",
    "            df = self.network_dict[0]\n",
    "            print(\"number of time steps in one network\")\n",
    "            print(len(df))\n",
    "            print(\"total number of iterations in dataset\")\n",
    "            print(self.__len__())\n",
    "            print(\"number of networks in this list\")\n",
    "            print(len(self.network_list))\n",
    "            print(\"index at which fn failed\")\n",
    "            print(idx)"
   ]
  },
  {
   "cell_type": "code",
   "execution_count": 30,
   "metadata": {},
   "outputs": [],
   "source": [
    "train_data = EfficientDataset(network_dict, networks_for_training, scaler_in, \n",
    "                              scaler_out)\n",
    "val_data = EfficientDataset(network_dict, networks_for_val, scaler_in, \n",
    "                            scaler_out)\n",
    "test_data = EfficientDataset(network_dict, networks_for_test, scaler_in,\n",
    "                             scaler_out)"
   ]
  },
  {
   "cell_type": "code",
   "execution_count": 71,
   "metadata": {},
   "outputs": [],
   "source": [
    "batch_size=1024\n",
    "shuffle=False\n",
    "num_workers = 15\n",
    "train_loader = torch.utils.data.DataLoader(train_data, batch_size=batch_size,\n",
    "                                           shuffle=shuffle, num_workers=num_workers)\n",
    "val_loader = torch.utils.data.DataLoader(val_data, batch_size=batch_size,\n",
    "                                        shuffle=shuffle, num_workers=num_workers)\n",
    "test_loader = torch.utils.data.DataLoader(test_data, batch_size=batch_size,\n",
    "                                        shuffle=shuffle, num_workers=num_workers)"
   ]
  },
  {
   "cell_type": "code",
   "execution_count": 72,
   "metadata": {},
   "outputs": [
    {
     "data": {
      "text/plain": [
       "'\\n\\nprint(len(train_loader))\\nprint(f\"Each network has {train_loader[networks_for_training[0]][0].shape[0]} data points\")\\nprint(f\"Each data point is made up of sequence of {train_loader[networks_for_training[0]][0].shape[1]} timesteps\")\\nprint(f\"Each time step has {train_loader[networks_for_training[0]][0].shape[2]} features.\")'"
      ]
     },
     "execution_count": 72,
     "metadata": {},
     "output_type": "execute_result"
    }
   ],
   "source": [
    "##Train-Loader A dictionary of training buckets, where each element of dictionary has respective x and y values of that bucket and each x value is a 3d vector (Data points, time steps, features)\n",
    "'''\n",
    "\n",
    "print(len(train_loader))\n",
    "print(f\"Each network has {train_loader[networks_for_training[0]][0].shape[0]} data points\")\n",
    "print(f\"Each data point is made up of sequence of {train_loader[networks_for_training[0]][0].shape[1]} timesteps\")\n",
    "print(f\"Each time step has {train_loader[networks_for_training[0]][0].shape[2]} features.\")'''"
   ]
  },
  {
   "cell_type": "code",
   "execution_count": 73,
   "metadata": {},
   "outputs": [
    {
     "data": {
      "text/plain": [
       "'def concatanate_tensors(loader,  networks):\\n    concatanated_tensor_x = loader[networks[0]][0]\\n    concatanated_tensor_y = loader[networks[0]][1]\\n\\n    for i in range(len(networks) - 1):\\n        concatanated_tensor_x = torch.cat((concatanated_tensor_x, loader[networks[i+1]][0]))\\n        concatanated_tensor_y = torch.cat((concatanated_tensor_y, loader[networks[i+1]][1]))\\n    return concatanated_tensor_x, concatanated_tensor_y    '"
      ]
     },
     "execution_count": 73,
     "metadata": {},
     "output_type": "execute_result"
    }
   ],
   "source": [
    "'''def concatanate_tensors(loader,  networks):\n",
    "    concatanated_tensor_x = loader[networks[0]][0]\n",
    "    concatanated_tensor_y = loader[networks[0]][1]\n",
    "\n",
    "    for i in range(len(networks) - 1):\n",
    "        concatanated_tensor_x = torch.cat((concatanated_tensor_x, loader[networks[i+1]][0]))\n",
    "        concatanated_tensor_y = torch.cat((concatanated_tensor_y, loader[networks[i+1]][1]))\n",
    "    return concatanated_tensor_x, concatanated_tensor_y    '''"
   ]
  },
  {
   "cell_type": "code",
   "execution_count": 74,
   "metadata": {},
   "outputs": [
    {
     "data": {
      "text/plain": [
       "'train_data_x, train_data_y = concatanate_tensors(train_loader, networks_for_training)\\nval_data_x, val_data_y = concatanate_tensors(val_loader, networks_for_val)\\ntest_data_x, test_data_y = concatanate_tensors(test_loader, networks_for_test)'"
      ]
     },
     "execution_count": 74,
     "metadata": {},
     "output_type": "execute_result"
    }
   ],
   "source": [
    "'''train_data_x, train_data_y = concatanate_tensors(train_loader, networks_for_training)\n",
    "val_data_x, val_data_y = concatanate_tensors(val_loader, networks_for_val)\n",
    "test_data_x, test_data_y = concatanate_tensors(test_loader, networks_for_test)'''"
   ]
  },
  {
   "cell_type": "code",
   "execution_count": 75,
   "metadata": {},
   "outputs": [],
   "source": [
    "#print(f\"After concatenating data of every bucket in training, now the total data points we have is going to be {train_data_x.shape[0]}\")"
   ]
  },
  {
   "cell_type": "code",
   "execution_count": 76,
   "metadata": {},
   "outputs": [
    {
     "data": {
      "text/plain": [
       "'batch_size = 16\\ntrain_dataset = torch.utils.data.TensorDataset(train_data_x, train_data_y)\\ntrain_batch_loader = torch.utils.data.DataLoader(train_dataset, batch_size= batch_size, shuffle=False)\\nval_dataset = torch.utils.data.TensorDataset(val_data_x, val_data_y)\\nval_batch_loader = torch.utils.data.DataLoader(val_dataset, batch_size= batch_size, shuffle=False)\\ntest_dataset = torch.utils.data.TensorDataset(test_data_x, test_data_y)\\ntest_batch_loader = torch.utils.data.DataLoader(test_dataset, batch_size= batch_size, shuffle=False)\\nprint(f\"The batch size selected is {batch_size}.\")'"
      ]
     },
     "execution_count": 76,
     "metadata": {},
     "output_type": "execute_result"
    }
   ],
   "source": [
    "# batch_size = train_data_y.shape[0]\n",
    "# batch_size = int (train_data_y.shape[0]/3)\n",
    "'''batch_size = 16\n",
    "train_dataset = torch.utils.data.TensorDataset(train_data_x, train_data_y)\n",
    "train_batch_loader = torch.utils.data.DataLoader(train_dataset, batch_size= batch_size, shuffle=False)\n",
    "val_dataset = torch.utils.data.TensorDataset(val_data_x, val_data_y)\n",
    "val_batch_loader = torch.utils.data.DataLoader(val_dataset, batch_size= batch_size, shuffle=False)\n",
    "test_dataset = torch.utils.data.TensorDataset(test_data_x, test_data_y)\n",
    "test_batch_loader = torch.utils.data.DataLoader(test_dataset, batch_size= batch_size, shuffle=False)\n",
    "print(f\"The batch size selected is {batch_size}.\")'''\n"
   ]
  },
  {
   "cell_type": "code",
   "execution_count": 77,
   "metadata": {},
   "outputs": [],
   "source": [
    "def inverse_scale(scaler, numpy_value):\n",
    "    #numpy_value = numpy_value.reshape(1, batch_size)\n",
    "    transformed_numpy_value = scaler.inverse_transform(numpy_value)\n",
    "    return transformed_numpy_value\n"
   ]
  },
  {
   "cell_type": "code",
   "execution_count": 78,
   "metadata": {},
   "outputs": [],
   "source": [
    "def calculate_NSE(observed_value, modeled_value):\n",
    "    mean_observed_value = np.mean(observed_value)\n",
    "    numerator = np.sum(np.power((observed_value - modeled_value), 2))\n",
    "    denominator = np.sum(np.power((observed_value - mean_observed_value), 2))\n",
    "    return round((1 - (numerator/denominator)), 2) "
   ]
  },
  {
   "cell_type": "code",
   "execution_count": 79,
   "metadata": {},
   "outputs": [],
   "source": [
    "class EarlyStopper:\n",
    "    def __init__(self, patience= 5, min_delta=0):\n",
    "        self.patience = patience\n",
    "        self.min_delta = min_delta\n",
    "        self.counter = 0\n",
    "        self.min_validation_loss = float('inf')\n",
    "\n",
    "    def early_stop(self, validation_loss):\n",
    "        if validation_loss < self.min_validation_loss:\n",
    "            self.min_validation_loss = validation_loss\n",
    "            self.counter = 0\n",
    "        elif validation_loss > (self.min_validation_loss + self.min_delta):\n",
    "            self.counter += 1\n",
    "            if self.counter >= self.patience:\n",
    "                return True\n",
    "        return False\n",
    "    \n",
    "class EarlyStopperNSE:\n",
    "    def __init__(self, patience= 5, min_delta=0):\n",
    "        self.patience = patience\n",
    "        self.min_delta = min_delta\n",
    "        self.counter = 0\n",
    "        self.max_NSE = -100000000\n",
    "    \n",
    "    def early_stop(self, NSE):\n",
    "        if (NSE >= self.max_NSE):\n",
    "            self.max_NSE = NSE\n",
    "            self.counter = 0\n",
    "        elif NSE <= (self.max_NSE - self.min_delta):\n",
    "            self.counter += 1\n",
    "            if(self.counter) >= self.patience:\n",
    "                return True\n",
    "        return False"
   ]
  },
  {
   "cell_type": "code",
   "execution_count": 80,
   "metadata": {},
   "outputs": [],
   "source": [
    "early_stopper = EarlyStopper(patience = 15, min_delta= 0.001)\n",
    "early_stopper_NSE = EarlyStopperNSE(patience = 15, min_delta = 0.05)"
   ]
  },
  {
   "cell_type": "code",
   "execution_count": 81,
   "metadata": {},
   "outputs": [],
   "source": [
    "def train_model(lstm, train_loader):\n",
    "    criterion = nn.MSELoss()\n",
    "    # optimizer = optim.SGD(lstm.parameters(), lr = 0.01, momentum=0.7, weight_decay = 0.09)\n",
    "    optimizer = optim.AdamW(lstm.parameters(), lr= 0.001, weight_decay = 0.09)\n",
    "    scheduler = torch.optim.lr_scheduler.ReduceLROnPlateau(optimizer, patience = 10, factor = 0.8)\n",
    "    epochs = 2\n",
    "    loss_history_train = []\n",
    "    loss_history_val = []\n",
    "    NSE_train = []\n",
    "    NSE_val = []\n",
    "    for epoch in range(epochs):\n",
    "        lstm.train()\n",
    "        NSE_batch_train = []\n",
    "        NSE_batch_val = []\n",
    "        with tqdm(train_loader, unit=\"batch\") as tepoch:\n",
    "            for data, targets in train_loader:\n",
    "                tepoch.set_description(f\"Epoch {epoch}\")\n",
    "                loss_history_train_epoch = []\n",
    "                loss_history_val_epoch = []\n",
    "                x = data.to(device=device)\n",
    "                y = targets.to(device=device)\n",
    "\n",
    "                optimizer.zero_grad()\n",
    "                predicted_y = lstm(x)\n",
    "                loss = criterion(predicted_y, y)\n",
    "\n",
    "                loss_history_train_epoch.append(loss.item())\n",
    "                loss.backward()\n",
    "                optimizer.step()\n",
    "            \n",
    "                with torch.no_grad():\n",
    "                    y_calc =  y.to(\"cpu\").numpy()\n",
    "                    y_calc = y_calc.reshape(1, -1)\n",
    "                    y_calc = inverse_scale(scaler_out, y_calc)\n",
    "                    \n",
    "                    predicted_y_calc =  predicted_y.to(\"cpu\").numpy()    \n",
    "                    predicted_y_calc = predicted_y_calc.reshape(1, -1)  \n",
    "                    predicted_y_calc = inverse_scale(scaler_out, predicted_y_calc)\n",
    "                    \n",
    "                    NSE_batch_train.append(calculate_NSE(y_calc, predicted_y_calc))\n",
    "\n",
    "                tepoch.update(1)\n",
    "                tepoch.set_postfix(loss=loss.item(), accuracy=NSE_batch_train[-1])\n",
    "                \n",
    "        lstm.eval()\n",
    "        with torch.no_grad():\n",
    "            for data, targets in val_loader:\n",
    "                x_calc = data.to(device=device)\n",
    "                y_calc = targets.to(device=device)\n",
    "                predicted_y_calc = lstm(x_calc)\n",
    "                loss_calc = criterion(predicted_y_calc, y_calc)\n",
    "                loss_history_val_epoch.append(loss_calc.item())\n",
    "\n",
    "                y_calc =  y_calc.to(\"cpu\").numpy()\n",
    "                y_calc = y_calc.reshape(1, -1)\n",
    "                y_calc = inverse_scale(scaler_out, y_calc)\n",
    "                \n",
    "                predicted_y_calc =  predicted_y_calc.to(\"cpu\").numpy()\n",
    "                predicted_y_calc = predicted_y_calc.reshape(1, -1)\n",
    "                predicted_y_calc = inverse_scale(scaler_out, predicted_y_calc)\n",
    "\n",
    "                NSE_batch_val.append(calculate_NSE(y_calc, predicted_y_calc))\n",
    "                \n",
    "            # if early_stopper.early_stop(np.mean(loss_history_val_epoch)) and epoch > 35:\n",
    "            #     break\n",
    "\n",
    "        scheduler.step(loss_calc)\n",
    "        loss_history_train.append(np.mean(loss_history_train_epoch))\n",
    "        loss_history_val.append(np.mean(loss_history_val_epoch))\n",
    "        NSE_val.append(np.mean(NSE_batch_val))\n",
    "        NSE_train.append(np.mean(NSE_batch_train))\n",
    "\n",
    "        print(f\"Epoch: {epoch + 1} Completed\\tLoss_Train: {loss_history_train[-1]:.4f}\\tNSE_Train: {np.mean(NSE_batch_train):.4f}\\tLoss_Val: {loss_history_val[-1]:.4f}\\tNSE_Validation:{np.mean(NSE_batch_val):.4f}\\t Learning_Rate: {optimizer.param_groups[0]['lr']})\")\n",
    "        \n",
    "\n",
    "    return lstm, loss_history_train, loss_history_val, NSE_train, NSE_val"
   ]
  },
  {
   "cell_type": "code",
   "execution_count": 82,
   "metadata": {},
   "outputs": [
    {
     "data": {
      "application/vnd.jupyter.widget-view+json": {
       "model_id": "4f6ed569ba9c4a849038a35fdc587230",
       "version_major": 2,
       "version_minor": 0
      },
      "text/plain": [
       "  0%|          | 0/2431 [00:00<?, ?batch/s]"
      ]
     },
     "metadata": {},
     "output_type": "display_data"
    },
    {
     "ename": "KeyboardInterrupt",
     "evalue": "",
     "output_type": "error",
     "traceback": [
      "\u001b[0;31m---------------------------------------------------------------------------\u001b[0m",
      "\u001b[0;31mKeyboardInterrupt\u001b[0m                         Traceback (most recent call last)",
      "Cell \u001b[0;32mIn[82], line 1\u001b[0m\n\u001b[0;32m----> 1\u001b[0m model, loss_history_train, loss_history_val, NSE_train, NSE_val \u001b[38;5;241m=\u001b[39m \u001b[43mtrain_model\u001b[49m\u001b[43m(\u001b[49m\u001b[43mmodel\u001b[49m\u001b[43m,\u001b[49m\u001b[43m \u001b[49m\u001b[43mtrain_loader\u001b[49m\u001b[43m)\u001b[49m\n",
      "Cell \u001b[0;32mIn[81], line 47\u001b[0m, in \u001b[0;36mtrain_model\u001b[0;34m(lstm, train_loader)\u001b[0m\n\u001b[1;32m     45\u001b[0m lstm\u001b[38;5;241m.\u001b[39meval()\n\u001b[1;32m     46\u001b[0m \u001b[38;5;28;01mwith\u001b[39;00m torch\u001b[38;5;241m.\u001b[39mno_grad():\n\u001b[0;32m---> 47\u001b[0m \u001b[43m    \u001b[49m\u001b[38;5;28;43;01mfor\u001b[39;49;00m\u001b[43m \u001b[49m\u001b[43mdata\u001b[49m\u001b[43m,\u001b[49m\u001b[43m \u001b[49m\u001b[43mtargets\u001b[49m\u001b[43m \u001b[49m\u001b[38;5;129;43;01min\u001b[39;49;00m\u001b[43m \u001b[49m\u001b[43mval_loader\u001b[49m\u001b[43m:\u001b[49m\n\u001b[1;32m     48\u001b[0m \u001b[43m        \u001b[49m\u001b[43mx_calc\u001b[49m\u001b[43m \u001b[49m\u001b[38;5;241;43m=\u001b[39;49m\u001b[43m \u001b[49m\u001b[43mdata\u001b[49m\u001b[38;5;241;43m.\u001b[39;49m\u001b[43mto\u001b[49m\u001b[43m(\u001b[49m\u001b[43mdevice\u001b[49m\u001b[38;5;241;43m=\u001b[39;49m\u001b[43mdevice\u001b[49m\u001b[43m)\u001b[49m\n\u001b[1;32m     49\u001b[0m \u001b[43m        \u001b[49m\u001b[43my_calc\u001b[49m\u001b[43m \u001b[49m\u001b[38;5;241;43m=\u001b[39;49m\u001b[43m \u001b[49m\u001b[43mtargets\u001b[49m\u001b[38;5;241;43m.\u001b[39;49m\u001b[43mto\u001b[49m\u001b[43m(\u001b[49m\u001b[43mdevice\u001b[49m\u001b[38;5;241;43m=\u001b[39;49m\u001b[43mdevice\u001b[49m\u001b[43m)\u001b[49m\n",
      "File \u001b[0;32m~/nwm_network_lstm_test/.venv/lib/python3.12/site-packages/torch/utils/data/dataloader.py:701\u001b[0m, in \u001b[0;36m_BaseDataLoaderIter.__next__\u001b[0;34m(self)\u001b[0m\n\u001b[1;32m    698\u001b[0m \u001b[38;5;28;01mif\u001b[39;00m \u001b[38;5;28mself\u001b[39m\u001b[38;5;241m.\u001b[39m_sampler_iter \u001b[38;5;129;01mis\u001b[39;00m \u001b[38;5;28;01mNone\u001b[39;00m:\n\u001b[1;32m    699\u001b[0m     \u001b[38;5;66;03m# TODO(https://github.com/pytorch/pytorch/issues/76750)\u001b[39;00m\n\u001b[1;32m    700\u001b[0m     \u001b[38;5;28mself\u001b[39m\u001b[38;5;241m.\u001b[39m_reset()  \u001b[38;5;66;03m# type: ignore[call-arg]\u001b[39;00m\n\u001b[0;32m--> 701\u001b[0m data \u001b[38;5;241m=\u001b[39m \u001b[38;5;28;43mself\u001b[39;49m\u001b[38;5;241;43m.\u001b[39;49m\u001b[43m_next_data\u001b[49m\u001b[43m(\u001b[49m\u001b[43m)\u001b[49m\n\u001b[1;32m    702\u001b[0m \u001b[38;5;28mself\u001b[39m\u001b[38;5;241m.\u001b[39m_num_yielded \u001b[38;5;241m+\u001b[39m\u001b[38;5;241m=\u001b[39m \u001b[38;5;241m1\u001b[39m\n\u001b[1;32m    703\u001b[0m \u001b[38;5;28;01mif\u001b[39;00m (\n\u001b[1;32m    704\u001b[0m     \u001b[38;5;28mself\u001b[39m\u001b[38;5;241m.\u001b[39m_dataset_kind \u001b[38;5;241m==\u001b[39m _DatasetKind\u001b[38;5;241m.\u001b[39mIterable\n\u001b[1;32m    705\u001b[0m     \u001b[38;5;129;01mand\u001b[39;00m \u001b[38;5;28mself\u001b[39m\u001b[38;5;241m.\u001b[39m_IterableDataset_len_called \u001b[38;5;129;01mis\u001b[39;00m \u001b[38;5;129;01mnot\u001b[39;00m \u001b[38;5;28;01mNone\u001b[39;00m\n\u001b[1;32m    706\u001b[0m     \u001b[38;5;129;01mand\u001b[39;00m \u001b[38;5;28mself\u001b[39m\u001b[38;5;241m.\u001b[39m_num_yielded \u001b[38;5;241m>\u001b[39m \u001b[38;5;28mself\u001b[39m\u001b[38;5;241m.\u001b[39m_IterableDataset_len_called\n\u001b[1;32m    707\u001b[0m ):\n",
      "File \u001b[0;32m~/nwm_network_lstm_test/.venv/lib/python3.12/site-packages/torch/utils/data/dataloader.py:1448\u001b[0m, in \u001b[0;36m_MultiProcessingDataLoaderIter._next_data\u001b[0;34m(self)\u001b[0m\n\u001b[1;32m   1445\u001b[0m     \u001b[38;5;28;01mreturn\u001b[39;00m \u001b[38;5;28mself\u001b[39m\u001b[38;5;241m.\u001b[39m_process_data(data)\n\u001b[1;32m   1447\u001b[0m \u001b[38;5;28;01massert\u001b[39;00m \u001b[38;5;129;01mnot\u001b[39;00m \u001b[38;5;28mself\u001b[39m\u001b[38;5;241m.\u001b[39m_shutdown \u001b[38;5;129;01mand\u001b[39;00m \u001b[38;5;28mself\u001b[39m\u001b[38;5;241m.\u001b[39m_tasks_outstanding \u001b[38;5;241m>\u001b[39m \u001b[38;5;241m0\u001b[39m\n\u001b[0;32m-> 1448\u001b[0m idx, data \u001b[38;5;241m=\u001b[39m \u001b[38;5;28;43mself\u001b[39;49m\u001b[38;5;241;43m.\u001b[39;49m\u001b[43m_get_data\u001b[49m\u001b[43m(\u001b[49m\u001b[43m)\u001b[49m\n\u001b[1;32m   1449\u001b[0m \u001b[38;5;28mself\u001b[39m\u001b[38;5;241m.\u001b[39m_tasks_outstanding \u001b[38;5;241m-\u001b[39m\u001b[38;5;241m=\u001b[39m \u001b[38;5;241m1\u001b[39m\n\u001b[1;32m   1450\u001b[0m \u001b[38;5;28;01mif\u001b[39;00m \u001b[38;5;28mself\u001b[39m\u001b[38;5;241m.\u001b[39m_dataset_kind \u001b[38;5;241m==\u001b[39m _DatasetKind\u001b[38;5;241m.\u001b[39mIterable:\n\u001b[1;32m   1451\u001b[0m     \u001b[38;5;66;03m# Check for _IterableDatasetStopIteration\u001b[39;00m\n",
      "File \u001b[0;32m~/nwm_network_lstm_test/.venv/lib/python3.12/site-packages/torch/utils/data/dataloader.py:1412\u001b[0m, in \u001b[0;36m_MultiProcessingDataLoaderIter._get_data\u001b[0;34m(self)\u001b[0m\n\u001b[1;32m   1408\u001b[0m     \u001b[38;5;66;03m# In this case, `self._data_queue` is a `queue.Queue`,. But we don't\u001b[39;00m\n\u001b[1;32m   1409\u001b[0m     \u001b[38;5;66;03m# need to call `.task_done()` because we don't use `.join()`.\u001b[39;00m\n\u001b[1;32m   1410\u001b[0m \u001b[38;5;28;01melse\u001b[39;00m:\n\u001b[1;32m   1411\u001b[0m     \u001b[38;5;28;01mwhile\u001b[39;00m \u001b[38;5;28;01mTrue\u001b[39;00m:\n\u001b[0;32m-> 1412\u001b[0m         success, data \u001b[38;5;241m=\u001b[39m \u001b[38;5;28;43mself\u001b[39;49m\u001b[38;5;241;43m.\u001b[39;49m\u001b[43m_try_get_data\u001b[49m\u001b[43m(\u001b[49m\u001b[43m)\u001b[49m\n\u001b[1;32m   1413\u001b[0m         \u001b[38;5;28;01mif\u001b[39;00m success:\n\u001b[1;32m   1414\u001b[0m             \u001b[38;5;28;01mreturn\u001b[39;00m data\n",
      "File \u001b[0;32m~/nwm_network_lstm_test/.venv/lib/python3.12/site-packages/torch/utils/data/dataloader.py:1243\u001b[0m, in \u001b[0;36m_MultiProcessingDataLoaderIter._try_get_data\u001b[0;34m(self, timeout)\u001b[0m\n\u001b[1;32m   1230\u001b[0m \u001b[38;5;28;01mdef\u001b[39;00m\u001b[38;5;250m \u001b[39m\u001b[38;5;21m_try_get_data\u001b[39m(\u001b[38;5;28mself\u001b[39m, timeout\u001b[38;5;241m=\u001b[39m_utils\u001b[38;5;241m.\u001b[39mMP_STATUS_CHECK_INTERVAL):\n\u001b[1;32m   1231\u001b[0m     \u001b[38;5;66;03m# Tries to fetch data from `self._data_queue` once for a given timeout.\u001b[39;00m\n\u001b[1;32m   1232\u001b[0m     \u001b[38;5;66;03m# This can also be used as inner loop of fetching without timeout, with\u001b[39;00m\n\u001b[0;32m   (...)\u001b[0m\n\u001b[1;32m   1240\u001b[0m     \u001b[38;5;66;03m# Returns a 2-tuple:\u001b[39;00m\n\u001b[1;32m   1241\u001b[0m     \u001b[38;5;66;03m#   (bool: whether successfully get data, any: data if successful else None)\u001b[39;00m\n\u001b[1;32m   1242\u001b[0m     \u001b[38;5;28;01mtry\u001b[39;00m:\n\u001b[0;32m-> 1243\u001b[0m         data \u001b[38;5;241m=\u001b[39m \u001b[38;5;28;43mself\u001b[39;49m\u001b[38;5;241;43m.\u001b[39;49m\u001b[43m_data_queue\u001b[49m\u001b[38;5;241;43m.\u001b[39;49m\u001b[43mget\u001b[49m\u001b[43m(\u001b[49m\u001b[43mtimeout\u001b[49m\u001b[38;5;241;43m=\u001b[39;49m\u001b[43mtimeout\u001b[49m\u001b[43m)\u001b[49m\n\u001b[1;32m   1244\u001b[0m         \u001b[38;5;28;01mreturn\u001b[39;00m (\u001b[38;5;28;01mTrue\u001b[39;00m, data)\n\u001b[1;32m   1245\u001b[0m     \u001b[38;5;28;01mexcept\u001b[39;00m \u001b[38;5;167;01mException\u001b[39;00m \u001b[38;5;28;01mas\u001b[39;00m e:\n\u001b[1;32m   1246\u001b[0m         \u001b[38;5;66;03m# At timeout and error, we manually check whether any worker has\u001b[39;00m\n\u001b[1;32m   1247\u001b[0m         \u001b[38;5;66;03m# failed. Note that this is the only mechanism for Windows to detect\u001b[39;00m\n\u001b[1;32m   1248\u001b[0m         \u001b[38;5;66;03m# worker failures.\u001b[39;00m\n",
      "File \u001b[0;32m/usr/lib/python3.12/multiprocessing/queues.py:122\u001b[0m, in \u001b[0;36mQueue.get\u001b[0;34m(self, block, timeout)\u001b[0m\n\u001b[1;32m    120\u001b[0m         \u001b[38;5;28mself\u001b[39m\u001b[38;5;241m.\u001b[39m_rlock\u001b[38;5;241m.\u001b[39mrelease()\n\u001b[1;32m    121\u001b[0m \u001b[38;5;66;03m# unserialize the data after having released the lock\u001b[39;00m\n\u001b[0;32m--> 122\u001b[0m \u001b[38;5;28;01mreturn\u001b[39;00m \u001b[43m_ForkingPickler\u001b[49m\u001b[38;5;241;43m.\u001b[39;49m\u001b[43mloads\u001b[49m\u001b[43m(\u001b[49m\u001b[43mres\u001b[49m\u001b[43m)\u001b[49m\n",
      "File \u001b[0;32m~/nwm_network_lstm_test/.venv/lib/python3.12/site-packages/torch/multiprocessing/reductions.py:541\u001b[0m, in \u001b[0;36mrebuild_storage_fd\u001b[0;34m(cls, df, size)\u001b[0m\n\u001b[1;32m    540\u001b[0m \u001b[38;5;28;01mdef\u001b[39;00m\u001b[38;5;250m \u001b[39m\u001b[38;5;21mrebuild_storage_fd\u001b[39m(\u001b[38;5;28mcls\u001b[39m, df, size):\n\u001b[0;32m--> 541\u001b[0m     fd \u001b[38;5;241m=\u001b[39m \u001b[43mdf\u001b[49m\u001b[38;5;241;43m.\u001b[39;49m\u001b[43mdetach\u001b[49m\u001b[43m(\u001b[49m\u001b[43m)\u001b[49m\n\u001b[1;32m    542\u001b[0m     \u001b[38;5;28;01mtry\u001b[39;00m:\n\u001b[1;32m    543\u001b[0m         storage \u001b[38;5;241m=\u001b[39m storage_from_cache(\u001b[38;5;28mcls\u001b[39m, fd_id(fd))\n",
      "File \u001b[0;32m/usr/lib/python3.12/multiprocessing/resource_sharer.py:57\u001b[0m, in \u001b[0;36mDupFd.detach\u001b[0;34m(self)\u001b[0m\n\u001b[1;32m     55\u001b[0m \u001b[38;5;28;01mdef\u001b[39;00m\u001b[38;5;250m \u001b[39m\u001b[38;5;21mdetach\u001b[39m(\u001b[38;5;28mself\u001b[39m):\n\u001b[1;32m     56\u001b[0m \u001b[38;5;250m    \u001b[39m\u001b[38;5;124;03m'''Get the fd.  This should only be called once.'''\u001b[39;00m\n\u001b[0;32m---> 57\u001b[0m     \u001b[38;5;28;01mwith\u001b[39;00m \u001b[43m_resource_sharer\u001b[49m\u001b[38;5;241;43m.\u001b[39;49m\u001b[43mget_connection\u001b[49m\u001b[43m(\u001b[49m\u001b[38;5;28;43mself\u001b[39;49m\u001b[38;5;241;43m.\u001b[39;49m\u001b[43m_id\u001b[49m\u001b[43m)\u001b[49m \u001b[38;5;28;01mas\u001b[39;00m conn:\n\u001b[1;32m     58\u001b[0m         \u001b[38;5;28;01mreturn\u001b[39;00m reduction\u001b[38;5;241m.\u001b[39mrecv_handle(conn)\n",
      "File \u001b[0;32m/usr/lib/python3.12/multiprocessing/resource_sharer.py:86\u001b[0m, in \u001b[0;36m_ResourceSharer.get_connection\u001b[0;34m(ident)\u001b[0m\n\u001b[1;32m     84\u001b[0m \u001b[38;5;28;01mfrom\u001b[39;00m\u001b[38;5;250m \u001b[39m\u001b[38;5;21;01m.\u001b[39;00m\u001b[38;5;21;01mconnection\u001b[39;00m\u001b[38;5;250m \u001b[39m\u001b[38;5;28;01mimport\u001b[39;00m Client\n\u001b[1;32m     85\u001b[0m address, key \u001b[38;5;241m=\u001b[39m ident\n\u001b[0;32m---> 86\u001b[0m c \u001b[38;5;241m=\u001b[39m \u001b[43mClient\u001b[49m\u001b[43m(\u001b[49m\u001b[43maddress\u001b[49m\u001b[43m,\u001b[49m\u001b[43m \u001b[49m\u001b[43mauthkey\u001b[49m\u001b[38;5;241;43m=\u001b[39;49m\u001b[43mprocess\u001b[49m\u001b[38;5;241;43m.\u001b[39;49m\u001b[43mcurrent_process\u001b[49m\u001b[43m(\u001b[49m\u001b[43m)\u001b[49m\u001b[38;5;241;43m.\u001b[39;49m\u001b[43mauthkey\u001b[49m\u001b[43m)\u001b[49m\n\u001b[1;32m     87\u001b[0m c\u001b[38;5;241m.\u001b[39msend((key, os\u001b[38;5;241m.\u001b[39mgetpid()))\n\u001b[1;32m     88\u001b[0m \u001b[38;5;28;01mreturn\u001b[39;00m c\n",
      "File \u001b[0;32m/usr/lib/python3.12/multiprocessing/connection.py:525\u001b[0m, in \u001b[0;36mClient\u001b[0;34m(address, family, authkey)\u001b[0m\n\u001b[1;32m    522\u001b[0m     \u001b[38;5;28;01mraise\u001b[39;00m \u001b[38;5;167;01mTypeError\u001b[39;00m(\u001b[38;5;124m'\u001b[39m\u001b[38;5;124mauthkey should be a byte string\u001b[39m\u001b[38;5;124m'\u001b[39m)\n\u001b[1;32m    524\u001b[0m \u001b[38;5;28;01mif\u001b[39;00m authkey \u001b[38;5;129;01mis\u001b[39;00m \u001b[38;5;129;01mnot\u001b[39;00m \u001b[38;5;28;01mNone\u001b[39;00m:\n\u001b[0;32m--> 525\u001b[0m     \u001b[43manswer_challenge\u001b[49m\u001b[43m(\u001b[49m\u001b[43mc\u001b[49m\u001b[43m,\u001b[49m\u001b[43m \u001b[49m\u001b[43mauthkey\u001b[49m\u001b[43m)\u001b[49m\n\u001b[1;32m    526\u001b[0m     deliver_challenge(c, authkey)\n\u001b[1;32m    528\u001b[0m \u001b[38;5;28;01mreturn\u001b[39;00m c\n",
      "File \u001b[0;32m/usr/lib/python3.12/multiprocessing/connection.py:962\u001b[0m, in \u001b[0;36manswer_challenge\u001b[0;34m(connection, authkey)\u001b[0m\n\u001b[1;32m    960\u001b[0m digest \u001b[38;5;241m=\u001b[39m _create_response(authkey, message)\n\u001b[1;32m    961\u001b[0m connection\u001b[38;5;241m.\u001b[39msend_bytes(digest)\n\u001b[0;32m--> 962\u001b[0m response \u001b[38;5;241m=\u001b[39m \u001b[43mconnection\u001b[49m\u001b[38;5;241;43m.\u001b[39;49m\u001b[43mrecv_bytes\u001b[49m\u001b[43m(\u001b[49m\u001b[38;5;241;43m256\u001b[39;49m\u001b[43m)\u001b[49m        \u001b[38;5;66;03m# reject large message\u001b[39;00m\n\u001b[1;32m    963\u001b[0m \u001b[38;5;28;01mif\u001b[39;00m response \u001b[38;5;241m!=\u001b[39m _WELCOME:\n\u001b[1;32m    964\u001b[0m     \u001b[38;5;28;01mraise\u001b[39;00m AuthenticationError(\u001b[38;5;124m'\u001b[39m\u001b[38;5;124mdigest sent was rejected\u001b[39m\u001b[38;5;124m'\u001b[39m)\n",
      "File \u001b[0;32m/usr/lib/python3.12/multiprocessing/connection.py:216\u001b[0m, in \u001b[0;36m_ConnectionBase.recv_bytes\u001b[0;34m(self, maxlength)\u001b[0m\n\u001b[1;32m    214\u001b[0m \u001b[38;5;28;01mif\u001b[39;00m maxlength \u001b[38;5;129;01mis\u001b[39;00m \u001b[38;5;129;01mnot\u001b[39;00m \u001b[38;5;28;01mNone\u001b[39;00m \u001b[38;5;129;01mand\u001b[39;00m maxlength \u001b[38;5;241m<\u001b[39m \u001b[38;5;241m0\u001b[39m:\n\u001b[1;32m    215\u001b[0m     \u001b[38;5;28;01mraise\u001b[39;00m \u001b[38;5;167;01mValueError\u001b[39;00m(\u001b[38;5;124m\"\u001b[39m\u001b[38;5;124mnegative maxlength\u001b[39m\u001b[38;5;124m\"\u001b[39m)\n\u001b[0;32m--> 216\u001b[0m buf \u001b[38;5;241m=\u001b[39m \u001b[38;5;28;43mself\u001b[39;49m\u001b[38;5;241;43m.\u001b[39;49m\u001b[43m_recv_bytes\u001b[49m\u001b[43m(\u001b[49m\u001b[43mmaxlength\u001b[49m\u001b[43m)\u001b[49m\n\u001b[1;32m    217\u001b[0m \u001b[38;5;28;01mif\u001b[39;00m buf \u001b[38;5;129;01mis\u001b[39;00m \u001b[38;5;28;01mNone\u001b[39;00m:\n\u001b[1;32m    218\u001b[0m     \u001b[38;5;28mself\u001b[39m\u001b[38;5;241m.\u001b[39m_bad_message_length()\n",
      "File \u001b[0;32m/usr/lib/python3.12/multiprocessing/connection.py:430\u001b[0m, in \u001b[0;36mConnection._recv_bytes\u001b[0;34m(self, maxsize)\u001b[0m\n\u001b[1;32m    429\u001b[0m \u001b[38;5;28;01mdef\u001b[39;00m\u001b[38;5;250m \u001b[39m\u001b[38;5;21m_recv_bytes\u001b[39m(\u001b[38;5;28mself\u001b[39m, maxsize\u001b[38;5;241m=\u001b[39m\u001b[38;5;28;01mNone\u001b[39;00m):\n\u001b[0;32m--> 430\u001b[0m     buf \u001b[38;5;241m=\u001b[39m \u001b[38;5;28;43mself\u001b[39;49m\u001b[38;5;241;43m.\u001b[39;49m\u001b[43m_recv\u001b[49m\u001b[43m(\u001b[49m\u001b[38;5;241;43m4\u001b[39;49m\u001b[43m)\u001b[49m\n\u001b[1;32m    431\u001b[0m     size, \u001b[38;5;241m=\u001b[39m struct\u001b[38;5;241m.\u001b[39munpack(\u001b[38;5;124m\"\u001b[39m\u001b[38;5;124m!i\u001b[39m\u001b[38;5;124m\"\u001b[39m, buf\u001b[38;5;241m.\u001b[39mgetvalue())\n\u001b[1;32m    432\u001b[0m     \u001b[38;5;28;01mif\u001b[39;00m size \u001b[38;5;241m==\u001b[39m \u001b[38;5;241m-\u001b[39m\u001b[38;5;241m1\u001b[39m:\n",
      "File \u001b[0;32m/usr/lib/python3.12/multiprocessing/connection.py:395\u001b[0m, in \u001b[0;36mConnection._recv\u001b[0;34m(self, size, read)\u001b[0m\n\u001b[1;32m    393\u001b[0m remaining \u001b[38;5;241m=\u001b[39m size\n\u001b[1;32m    394\u001b[0m \u001b[38;5;28;01mwhile\u001b[39;00m remaining \u001b[38;5;241m>\u001b[39m \u001b[38;5;241m0\u001b[39m:\n\u001b[0;32m--> 395\u001b[0m     chunk \u001b[38;5;241m=\u001b[39m \u001b[43mread\u001b[49m\u001b[43m(\u001b[49m\u001b[43mhandle\u001b[49m\u001b[43m,\u001b[49m\u001b[43m \u001b[49m\u001b[43mremaining\u001b[49m\u001b[43m)\u001b[49m\n\u001b[1;32m    396\u001b[0m     n \u001b[38;5;241m=\u001b[39m \u001b[38;5;28mlen\u001b[39m(chunk)\n\u001b[1;32m    397\u001b[0m     \u001b[38;5;28;01mif\u001b[39;00m n \u001b[38;5;241m==\u001b[39m \u001b[38;5;241m0\u001b[39m:\n",
      "\u001b[0;31mKeyboardInterrupt\u001b[0m: "
     ]
    }
   ],
   "source": [
    "model, loss_history_train, loss_history_val, NSE_train, NSE_val = train_model(model, train_loader)"
   ]
  },
  {
   "cell_type": "code",
   "execution_count": 43,
   "metadata": {},
   "outputs": [
    {
     "data": {
      "text/plain": [
       "<matplotlib.legend.Legend at 0x7595c2368e50>"
      ]
     },
     "execution_count": 43,
     "metadata": {},
     "output_type": "execute_result"
    },
    {
     "data": {
      "image/png": "[encoded data removed]",
      "text/plain": [
       "<Figure size 1000x600 with 1 Axes>"
      ]
     },
     "metadata": {},
     "output_type": "display_data"
    }
   ],
   "source": [
    "plt.figure(figsize=(10, 6))\n",
    "plt.plot(loss_history_train[1:], label='Train', color='blue')\n",
    "plt.plot(loss_history_val[1:], label='Validation', color='orange', linestyle = '--')\n",
    "\n",
    "# Adding labels and title\n",
    "plt.xlabel('Epochs')\n",
    "plt.ylabel('Loss')\n",
    "plt.title('Loss')\n",
    "plt.legend()"
   ]
  },
  {
   "cell_type": "code",
   "execution_count": 35,
   "metadata": {},
   "outputs": [],
   "source": [
    "# print(NSE_val[:-10])"
   ]
  },
  {
   "cell_type": "code",
   "execution_count": 36,
   "metadata": {},
   "outputs": [],
   "source": [
    "# import csv\n",
    "\n",
    "# def save_last_10_values_and_avg_to_csv(NSE_train_value, NSE_val_value, output_csv_file):\n",
    "\n",
    "#     # Ensure both lists have at least 10 values\n",
    "#     if len(NSE_train_value) < 10 or len(NSE_val_value) < 10:\n",
    "#         raise ValueError(\"Both lists must have at least 10 values.\")\n",
    "    \n",
    "#     # Extract the last 10 values\n",
    "#     last_10_train = NSE_train_value[-10:]\n",
    "#     last_10_val = NSE_val_value[-10:]\n",
    "    \n",
    "#     # Compute averages\n",
    "#     avg_train = sum(last_10_train) / 10\n",
    "#     avg_val = sum(last_10_val) / 10\n",
    "    \n",
    "#     # Write the data to a CSV file\n",
    "#     with open(output_csv_file, mode='w', newline='') as csvfile:\n",
    "#         writer = csv.writer(csvfile)\n",
    "        \n",
    "#         # Write headers\n",
    "#         writer.writerow([\"Metric\", \"Values\", \"Average\"])\n",
    "        \n",
    "#         # Write last 10 values and average for training data\n",
    "#         writer.writerow([\"NSE_train_last_10\", \", \".join(map(str, last_10_train)), avg_train])\n",
    "        \n",
    "#         # Write last 10 values and average for validation data\n",
    "#         writer.writerow([\"NSE_val_last_10\", \", \".join(map(str, last_10_val)), avg_val])\n",
    "    \n",
    "#     print(f\"Last 10 values and averages saved to {output_csv_file}\")\n",
    "\n",
    "\n",
    "\n",
    "# # Example usage:\n",
    "# save_last_10_values_and_avg_to_csv(NSE_train, NSE_val, \"Results/average_values_combined\")"
   ]
  },
  {
   "cell_type": "code",
   "execution_count": 37,
   "metadata": {},
   "outputs": [],
   "source": [
    "# val_loader, np_val_seq_X, np_val_seq_y = make_data_loader([3])  ##\n",
    "plot_bucket = [115]\n",
    "#test_data_x, test_data_y = concatanate_tensors(val_loader, plot_bucket)\n",
    "#test_dataset = torch.utils.data.TensorDataset(test_data_x, test_data_y)\n",
    "#test_batch_loader = torch.utils.data.DataLoader(test_dataset, batch_size= batch_size)"
   ]
  },
  {
   "cell_type": "code",
   "execution_count": null,
   "metadata": {},
   "outputs": [
    {
     "name": "stdout",
     "output_type": "stream",
     "text": [
      "                time  comid_x      catid_x du_x  pair_id_x  U2D_x  V2D_x  \\\n",
      "0      1/1/2008 0:00  7516451  cat-2185351    d          7    3.6 -4.800   \n",
      "1      1/1/2008 1:00  7516451  cat-2185351    d          7    3.4 -4.200   \n",
      "2      1/1/2008 2:00  7516451  cat-2185351    d          7    3.1 -3.600   \n",
      "3      1/1/2008 3:00  7516451  cat-2185351    d          7    2.9 -3.000   \n",
      "4      1/1/2008 4:00  7516451  cat-2185351    d          7    3.0 -2.700   \n",
      "..               ...      ...          ...  ...        ...    ...    ...   \n",
      "739  1/31/2008 19:00  7516451  cat-2185351    d          7   -0.7 -4.835   \n",
      "740  1/31/2008 20:00  7516451  cat-2185351    d          7   -0.6 -4.700   \n",
      "741  1/31/2008 21:00  7516451  cat-2185351    d          7   -0.5 -4.600   \n",
      "742  1/31/2008 22:00  7516451  cat-2185351    d          7   -0.6 -3.800   \n",
      "743  1/31/2008 23:00  7516451  cat-2185351    d          7   -0.6 -3.100   \n",
      "\n",
      "     LWDOWN_x  RAINRATE_x   T2D_x  ...  slope_mean_y  impervious_mean_y  \\\n",
      "0     198.475         0.0  269.52  ...      1.030914           0.202756   \n",
      "1     198.966         0.0  268.45  ...      1.030914           0.202756   \n",
      "2     199.475         0.0  267.42  ...      1.030914           0.202756   \n",
      "3     188.742         0.0  266.35  ...      1.030914           0.202756   \n",
      "4     189.079         0.0  265.55  ...      1.030914           0.202756   \n",
      "..        ...         ...     ...  ...           ...                ...   \n",
      "739   272.654         0.0  266.26  ...      1.030914           0.202756   \n",
      "740   276.361         0.0  268.02  ...      1.030914           0.202756   \n",
      "741   230.730         0.0  269.76  ...      1.030914           0.202756   \n",
      "742   229.775         0.0  269.16  ...      1.030914           0.202756   \n",
      "743   228.628         0.0  268.49  ...      1.030914           0.202756   \n",
      "\n",
      "                                          twi_dist_4_y        X_y        Y_y  \\\n",
      "0    [{\"v\":3.068,\"frequency\":0.2474},{\"v\":7.207,\"fr... -91.845259  37.295591   \n",
      "1    [{\"v\":3.068,\"frequency\":0.2474},{\"v\":7.207,\"fr... -91.845259  37.295591   \n",
      "2    [{\"v\":3.068,\"frequency\":0.2474},{\"v\":7.207,\"fr... -91.845259  37.295591   \n",
      "3    [{\"v\":3.068,\"frequency\":0.2474},{\"v\":7.207,\"fr... -91.845259  37.295591   \n",
      "4    [{\"v\":3.068,\"frequency\":0.2474},{\"v\":7.207,\"fr... -91.845259  37.295591   \n",
      "..                                                 ...        ...        ...   \n",
      "739  [{\"v\":3.068,\"frequency\":0.2474},{\"v\":7.207,\"fr... -91.845259  37.295591   \n",
      "740  [{\"v\":3.068,\"frequency\":0.2474},{\"v\":7.207,\"fr... -91.845259  37.295591   \n",
      "741  [{\"v\":3.068,\"frequency\":0.2474},{\"v\":7.207,\"fr... -91.845259  37.295591   \n",
      "742  [{\"v\":3.068,\"frequency\":0.2474},{\"v\":7.207,\"fr... -91.845259  37.295591   \n",
      "743  [{\"v\":3.068,\"frequency\":0.2474},{\"v\":7.207,\"fr... -91.845259  37.295591   \n",
      "\n",
      "     ISLTYP_y  IVGTYP_y dksat_soil_layers_stag=1_y  mfsno_y   slope_y  \n",
      "0           4         5               4.880000e-07  2.01745  0.096285  \n",
      "1           4         5               4.880000e-07  2.01745  0.096285  \n",
      "2           4         5               4.880000e-07  2.01745  0.096285  \n",
      "3           4         5               4.880000e-07  2.01745  0.096285  \n",
      "4           4         5               4.880000e-07  2.01745  0.096285  \n",
      "..        ...       ...                        ...      ...       ...  \n",
      "739         4         5               4.880000e-07  2.01745  0.096285  \n",
      "740         4         5               4.880000e-07  2.01745  0.096285  \n",
      "741         4         5               4.880000e-07  2.01745  0.096285  \n",
      "742         4         5               4.880000e-07  2.01745  0.096285  \n",
      "743         4         5               4.880000e-07  2.01745  0.096285  \n",
      "\n",
      "[744 rows x 49 columns]\n"
     ]
    }
   ],
   "source": [
    "print(network_dict[0])\n",
    "model.eval()\n",
    "with torch.no_grad():\n",
    "    for \n",
    "    test_data_x, test_data_y = test_data_x.to(device)\n",
    "    predicted_y_untransformed = model(test_data_x)\n",
    "    predicted_y_untransformed = predicted_y_untransformed.to(\"cpu\").numpy()\n",
    "    predicted_y = inverse_scale(scaler_out, predicted_y_untransformed)\n",
    "    test_data_y = test_data_y.to(\"cpu\").numpy()\n",
    "    test_data_y = inverse_scale(scaler_out, test_data_y)\n"
   ]
  },
  {
   "cell_type": "code",
   "execution_count": 39,
   "metadata": {},
   "outputs": [
    {
     "name": "stdout",
     "output_type": "stream",
     "text": [
      "-2.87\n"
     ]
    }
   ],
   "source": [
    "x = []\n",
    "test_data_y = test_data_y.reshape(test_data_y.shape[0])\n",
    "predicted_y = predicted_y.reshape(predicted_y.shape[0])\n",
    "\n",
    "print(calculate_NSE(test_data_y, predicted_y))\n",
    "predicted_y = predicted_y.reshape(predicted_y.shape[0])"
   ]
  },
  {
   "cell_type": "code",
   "execution_count": 40,
   "metadata": {},
   "outputs": [],
   "source": [
    "# rain_rate  = network_dict[plot_bucket]['RAINRATE_x'][270:744].to_list()"
   ]
  },
  {
   "cell_type": "code",
   "execution_count": null,
   "metadata": {},
   "outputs": [
    {
     "data": {
      "text/plain": [
       "<matplotlib.legend.Legend at 0x7595c29237c0>"
      ]
     },
     "execution_count": 41,
     "metadata": {},
     "output_type": "execute_result"
    },
    {
     "data": {
      "image/png": "[encoded data removed]",
      "text/plain": [
       "<Figure size 1000x600 with 1 Axes>"
      ]
     },
     "metadata": {},
     "output_type": "display_data"
    }
   ],
   "source": [
    "import matplotlib.pyplot as plt\n",
    "\n",
    "# Plot the actual and predicted streamflow values\n",
    "plt.figure(figsize=(10, 6))\n",
    "plt.plot(test_data_y, label='Actual Streamflow', color='blue')\n",
    "plt.plot(predicted_y, label='Predicted Streamflow', color='red', linestyle='--')\n",
    "# plt.plot(rain_rate, color='yellow', linestyle='--')\n",
    "\n",
    "# Adding labels and title\n",
    "plt.xlabel('Time Steps')\n",
    "plt.ylabel('Streamflow')\n",
    "plt.title('Actual vs Predicted Streamflow (Combined Model)')\n",
    "plt.legend()\n"
   ]
  },
  {
   "cell_type": "code",
   "execution_count": 42,
   "metadata": {},
   "outputs": [],
   "source": [
    "# import matplotlib.pyplot as plt\n",
    "\n",
    "# # Create the figure and the primary axis\n",
    "# fig, ax1 = plt.subplots(figsize=(10, 6))\n",
    "\n",
    "# # Plot test_data_y (Actual Streamflow) on the primary y-axis\n",
    "# ax1.plot(test_data_y, label='Actual Streamflow', color='blue')\n",
    "# ax1.set_xlabel('Time Steps')\n",
    "# ax1.set_ylabel('Streamflow (Actual)', color='blue')\n",
    "# ax1.tick_params(axis='y', labelcolor='blue')\n",
    "# ax1.set_title('Actual vs Predicted Streamflow with Rain Rate')\n",
    "# ax1.legend(['Actual Streamflow'], loc='upper left')\n",
    "\n",
    "# # Create a secondary y-axis for predicted_y\n",
    "# ax2 = ax1.twinx()\n",
    "# ax2.plot(predicted_y, label='Predicted Streamflow', color='red', linestyle='--')\n",
    "# ax2.plot(rain_rate, label='Rain Rate', color='yellow', linestyle=':')\n",
    "# ax2.set_ylabel('Streamflow (Predicted) and Rain Rate', color='red')\n",
    "# ax2.tick_params(axis='y', labelcolor='red')\n",
    "# ax2.legend(['Predicted Streamflow', 'Rain Rate'], loc='upper right')\n",
    "\n",
    "plt.show()\n"
   ]
  },
  {
   "cell_type": "code",
   "execution_count": null,
   "metadata": {},
   "outputs": [],
   "source": []
  }
 ],
 "metadata": {
  "kernelspec": {
   "display_name": ".venv",
   "language": "python",
   "name": "python3"
  },
  "language_info": {
   "codemirror_mode": {
    "name": "ipython",
    "version": 3
   },
   "file_extension": ".py",
   "mimetype": "text/x-python",
   "name": "python",
   "nbconvert_exporter": "python",
   "pygments_lexer": "ipython3",
   "version": "3.12.3"
  }
 },
 "nbformat": 4,
 "nbformat_minor": 2
}
